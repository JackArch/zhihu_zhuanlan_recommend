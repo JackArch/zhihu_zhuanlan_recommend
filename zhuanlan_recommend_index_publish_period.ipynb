{
 "cells": [
  {
   "cell_type": "code",
   "execution_count": 1,
   "metadata": {
    "collapsed": true
   },
   "outputs": [],
   "source": [
    "import pandas as pd\n",
    "import numpy as np\n",
    "import matplotlib.pyplot as plt"
   ]
  },
  {
   "cell_type": "code",
   "execution_count": 3,
   "metadata": {},
   "outputs": [
    {
     "data": {
      "text/html": [
       "<div>\n",
       "<style>\n",
       "    .dataframe thead tr:only-child th {\n",
       "        text-align: right;\n",
       "    }\n",
       "\n",
       "    .dataframe thead th {\n",
       "        text-align: left;\n",
       "    }\n",
       "\n",
       "    .dataframe tbody tr th {\n",
       "        vertical-align: top;\n",
       "    }\n",
       "</style>\n",
       "<table border=\"1\" class=\"dataframe\">\n",
       "  <thead>\n",
       "    <tr style=\"text-align: right;\">\n",
       "      <th></th>\n",
       "      <th>zhuanlan_url</th>\n",
       "      <th>author</th>\n",
       "      <th>title</th>\n",
       "      <th>article_url</th>\n",
       "      <th>publishedTime</th>\n",
       "      <th>commentsCount</th>\n",
       "      <th>likesCount</th>\n",
       "      <th>content</th>\n",
       "    </tr>\n",
       "  </thead>\n",
       "  <tbody>\n",
       "    <tr>\n",
       "      <th>0</th>\n",
       "      <td>https://zhuanlan.zhihu.com/c_35601954</td>\n",
       "      <td>何钦尧</td>\n",
       "      <td>贝叶斯统计观点下的拉普拉斯平滑</td>\n",
       "      <td>https://zhuanlan.zhihu.com/p/24291822</td>\n",
       "      <td>2016-12-31T17:04:53+08:00</td>\n",
       "      <td>33.0</td>\n",
       "      <td>175.0</td>\n",
       "      <td>这终于是本专栏的第一篇机器学习相关的文章，憋了几个月了，充分表现了自己肚子里实在是没什么墨水...</td>\n",
       "    </tr>\n",
       "    <tr>\n",
       "      <th>1</th>\n",
       "      <td>https://zhuanlan.zhihu.com/c_35601954</td>\n",
       "      <td>何钦尧</td>\n",
       "      <td>开篇</td>\n",
       "      <td>https://zhuanlan.zhihu.com/p/21703690</td>\n",
       "      <td>2016-07-24T16:43:17+08:00</td>\n",
       "      <td>21.0</td>\n",
       "      <td>66.0</td>\n",
       "      <td>其实这个专栏已经开通了好久了。然而一直没有时间写什么东西（其实现在大概也没有时间写）。想了一...</td>\n",
       "    </tr>\n",
       "    <tr>\n",
       "      <th>2</th>\n",
       "      <td>https://zhuanlan.zhihu.com/deeplearning-surfing</td>\n",
       "      <td>清凇</td>\n",
       "      <td>用深度学习（CNN RNN Attention）解决大规模文本分类问题 - 综述和实践</td>\n",
       "      <td>https://zhuanlan.zhihu.com/p/25928551</td>\n",
       "      <td>2017-03-26T17:52:14+08:00</td>\n",
       "      <td>86.0</td>\n",
       "      <td>757.0</td>\n",
       "      <td>近来在同时做一个应用深度学习解决淘宝商品的类目预测问题的项目，恰好硕士毕业时论文题目便是文本...</td>\n",
       "    </tr>\n",
       "    <tr>\n",
       "      <th>3</th>\n",
       "      <td>https://zhuanlan.zhihu.com/deeplearning-surfing</td>\n",
       "      <td>清凇</td>\n",
       "      <td>用深度学习（DNN）构建推荐系统 - Deep Neural Networks for Yo...</td>\n",
       "      <td>https://zhuanlan.zhihu.com/p/25343518</td>\n",
       "      <td>2017-02-22T20:31:00+08:00</td>\n",
       "      <td>37.0</td>\n",
       "      <td>247.0</td>\n",
       "      <td>这篇论文 Deep Neural Networks for YouTube Recommen...</td>\n",
       "    </tr>\n",
       "    <tr>\n",
       "      <th>4</th>\n",
       "      <td>https://zhuanlan.zhihu.com/deeplearning-surfing</td>\n",
       "      <td>清凇</td>\n",
       "      <td>深度强化学习（Deep Reinforcement Learning）入门：RL base ...</td>\n",
       "      <td>https://zhuanlan.zhihu.com/p/25239682</td>\n",
       "      <td>2017-02-15T22:40:33+08:00</td>\n",
       "      <td>31.0</td>\n",
       "      <td>233.0</td>\n",
       "      <td>过去的一段时间在深度强化学习领域投入了不少精力，工作中也在应用DRL解决业务问题。子曰：温故...</td>\n",
       "    </tr>\n",
       "  </tbody>\n",
       "</table>\n",
       "</div>"
      ],
      "text/plain": [
       "                                      zhuanlan_url author  \\\n",
       "0            https://zhuanlan.zhihu.com/c_35601954    何钦尧   \n",
       "1            https://zhuanlan.zhihu.com/c_35601954    何钦尧   \n",
       "2  https://zhuanlan.zhihu.com/deeplearning-surfing     清凇   \n",
       "3  https://zhuanlan.zhihu.com/deeplearning-surfing     清凇   \n",
       "4  https://zhuanlan.zhihu.com/deeplearning-surfing     清凇   \n",
       "\n",
       "                                               title  \\\n",
       "0                                    贝叶斯统计观点下的拉普拉斯平滑   \n",
       "1                                                 开篇   \n",
       "2        用深度学习（CNN RNN Attention）解决大规模文本分类问题 - 综述和实践   \n",
       "3  用深度学习（DNN）构建推荐系统 - Deep Neural Networks for Yo...   \n",
       "4  深度强化学习（Deep Reinforcement Learning）入门：RL base ...   \n",
       "\n",
       "                             article_url              publishedTime  \\\n",
       "0  https://zhuanlan.zhihu.com/p/24291822  2016-12-31T17:04:53+08:00   \n",
       "1  https://zhuanlan.zhihu.com/p/21703690  2016-07-24T16:43:17+08:00   \n",
       "2  https://zhuanlan.zhihu.com/p/25928551  2017-03-26T17:52:14+08:00   \n",
       "3  https://zhuanlan.zhihu.com/p/25343518  2017-02-22T20:31:00+08:00   \n",
       "4  https://zhuanlan.zhihu.com/p/25239682  2017-02-15T22:40:33+08:00   \n",
       "\n",
       "   commentsCount  likesCount  \\\n",
       "0           33.0       175.0   \n",
       "1           21.0        66.0   \n",
       "2           86.0       757.0   \n",
       "3           37.0       247.0   \n",
       "4           31.0       233.0   \n",
       "\n",
       "                                             content  \n",
       "0  这终于是本专栏的第一篇机器学习相关的文章，憋了几个月了，充分表现了自己肚子里实在是没什么墨水...  \n",
       "1  其实这个专栏已经开通了好久了。然而一直没有时间写什么东西（其实现在大概也没有时间写）。想了一...  \n",
       "2  近来在同时做一个应用深度学习解决淘宝商品的类目预测问题的项目，恰好硕士毕业时论文题目便是文本...  \n",
       "3  这篇论文 Deep Neural Networks for YouTube Recommen...  \n",
       "4  过去的一段时间在深度强化学习领域投入了不少精力，工作中也在应用DRL解决业务问题。子曰：温故...  "
      ]
     },
     "execution_count": 3,
     "metadata": {},
     "output_type": "execute_result"
    }
   ],
   "source": [
    "df_article = pd.read_csv('./data/zhuanlan_article.csv',header=0)\n",
    "df_article.head()"
   ]
  },
  {
   "cell_type": "code",
   "execution_count": 5,
   "metadata": {},
   "outputs": [
    {
     "data": {
      "text/html": [
       "<div>\n",
       "<style>\n",
       "    .dataframe thead tr:only-child th {\n",
       "        text-align: right;\n",
       "    }\n",
       "\n",
       "    .dataframe thead th {\n",
       "        text-align: left;\n",
       "    }\n",
       "\n",
       "    .dataframe tbody tr th {\n",
       "        vertical-align: top;\n",
       "    }\n",
       "</style>\n",
       "<table border=\"1\" class=\"dataframe\">\n",
       "  <thead>\n",
       "    <tr style=\"text-align: right;\">\n",
       "      <th></th>\n",
       "      <th>0</th>\n",
       "      <th>1</th>\n",
       "      <th>2</th>\n",
       "      <th>3</th>\n",
       "      <th>4</th>\n",
       "      <th>5</th>\n",
       "    </tr>\n",
       "  </thead>\n",
       "  <tbody>\n",
       "    <tr>\n",
       "      <th>0</th>\n",
       "      <td>机器学习笔记</td>\n",
       "      <td>子楠</td>\n",
       "      <td>机器学习的笔记。非常浅显。不得不说ng的课很适合入门，几乎不需要太多的数学基础</td>\n",
       "      <td>https://zhuanlan.zhihu.com/mlearn</td>\n",
       "      <td>22</td>\n",
       "      <td>5873</td>\n",
       "    </tr>\n",
       "    <tr>\n",
       "      <th>1</th>\n",
       "      <td>无痛的机器学习</td>\n",
       "      <td>冯超</td>\n",
       "      <td>专栏主营业务：让更多人能看的懂的机器学习科普+进阶文章。欢迎各位大神投稿或协助审阅</td>\n",
       "      <td>https://zhuanlan.zhihu.com/hsmyy</td>\n",
       "      <td>76</td>\n",
       "      <td>15147</td>\n",
       "    </tr>\n",
       "    <tr>\n",
       "      <th>2</th>\n",
       "      <td>Python 与 机器学习</td>\n",
       "      <td>射命丸咲</td>\n",
       "      <td>NaN</td>\n",
       "      <td>https://zhuanlan.zhihu.com/carefree0910-pyml</td>\n",
       "      <td>57</td>\n",
       "      <td>8687</td>\n",
       "    </tr>\n",
       "    <tr>\n",
       "      <th>3</th>\n",
       "      <td>开始学习机器人</td>\n",
       "      <td>Top Liu</td>\n",
       "      <td>NaN</td>\n",
       "      <td>https://zhuanlan.zhihu.com/learn-robotics</td>\n",
       "      <td>42</td>\n",
       "      <td>4744</td>\n",
       "    </tr>\n",
       "    <tr>\n",
       "      <th>4</th>\n",
       "      <td>机器学习与数据挖掘</td>\n",
       "      <td>Eric Leo</td>\n",
       "      <td>NaN</td>\n",
       "      <td>https://zhuanlan.zhihu.com/Industry4</td>\n",
       "      <td>3</td>\n",
       "      <td>175</td>\n",
       "    </tr>\n",
       "  </tbody>\n",
       "</table>\n",
       "</div>"
      ],
      "text/plain": [
       "               0         1                                          2  \\\n",
       "0         机器学习笔记        子楠    机器学习的笔记。非常浅显。不得不说ng的课很适合入门，几乎不需要太多的数学基础   \n",
       "1        无痛的机器学习        冯超  专栏主营业务：让更多人能看的懂的机器学习科普+进阶文章。欢迎各位大神投稿或协助审阅   \n",
       "2  Python 与 机器学习      射命丸咲                                        NaN   \n",
       "3        开始学习机器人   Top Liu                                        NaN   \n",
       "4      机器学习与数据挖掘  Eric Leo                                        NaN   \n",
       "\n",
       "                                              3   4      5  \n",
       "0             https://zhuanlan.zhihu.com/mlearn  22   5873  \n",
       "1              https://zhuanlan.zhihu.com/hsmyy  76  15147  \n",
       "2  https://zhuanlan.zhihu.com/carefree0910-pyml  57   8687  \n",
       "3     https://zhuanlan.zhihu.com/learn-robotics  42   4744  \n",
       "4          https://zhuanlan.zhihu.com/Industry4   3    175  "
      ]
     },
     "execution_count": 5,
     "metadata": {},
     "output_type": "execute_result"
    }
   ],
   "source": [
    "df_info = pd.read_csv('./data/zhuanlan_info.csv',header=None)\n",
    "df_info.head()"
   ]
  },
  {
   "cell_type": "code",
   "execution_count": 13,
   "metadata": {
    "collapsed": true
   },
   "outputs": [],
   "source": [
    "df_info.columns = ['zhuanlan_name','zhuanlan_author','description','zhuanlan_url','articles_count','followers']"
   ]
  },
  {
   "cell_type": "code",
   "execution_count": 7,
   "metadata": {
    "collapsed": true
   },
   "outputs": [],
   "source": [
    "df_info['articles_count'] = df_info['articles_count'].astype('int')\n",
    "df_info['followers'] = df_info['followers'].astype('int')\n",
    "\n",
    "df_info = df_info[df_info['articles_count']>0]"
   ]
  },
  {
   "cell_type": "markdown",
   "metadata": {},
   "source": [
    "# 评论数、点赞数统计"
   ]
  },
  {
   "cell_type": "code",
   "execution_count": 14,
   "metadata": {
    "collapsed": true
   },
   "outputs": [],
   "source": [
    "df_data = pd.merge(df_info,df_article,how='left',on='zhuanlan_url')"
   ]
  },
  {
   "cell_type": "code",
   "execution_count": 15,
   "metadata": {},
   "outputs": [
    {
     "name": "stdout",
     "output_type": "stream",
     "text": [
      "<class 'pandas.core.frame.DataFrame'>\n",
      "Int64Index: 6585 entries, 0 to 6584\n",
      "Data columns (total 13 columns):\n",
      "zhuanlan_name      6585 non-null object\n",
      "zhuanlan_author    6585 non-null object\n",
      "description        5320 non-null object\n",
      "zhuanlan_url       6585 non-null object\n",
      "articles_count     6585 non-null int64\n",
      "followers          6585 non-null int64\n",
      "author             6585 non-null object\n",
      "title              6584 non-null object\n",
      "article_url        6585 non-null object\n",
      "publishedTime      6585 non-null object\n",
      "commentsCount      6585 non-null float64\n",
      "likesCount         6585 non-null float64\n",
      "content            6543 non-null object\n",
      "dtypes: float64(2), int64(2), object(9)\n",
      "memory usage: 720.2+ KB\n"
     ]
    }
   ],
   "source": [
    "df_data.info()"
   ]
  },
  {
   "cell_type": "code",
   "execution_count": 17,
   "metadata": {
    "collapsed": true
   },
   "outputs": [],
   "source": [
    "stat_feat = ['min','mean','max']\n",
    "comLike_df = df_data.groupby('zhuanlan_name')['commentsCount','likesCount'].agg(stat_feat).reset_index()\n",
    "# statistic_df.columns = ['uid'] + ['loan_' + col for col in stat_feat]"
   ]
  },
  {
   "cell_type": "code",
   "execution_count": 19,
   "metadata": {
    "collapsed": true
   },
   "outputs": [],
   "source": [
    "comLike_df.columns = ['zhuanlan_name','commentsCount_min','commentsCount_mean','commentsCount_max',\\\n",
    "                     'likesCount_min','likesCount_mean','likesCount_max']"
   ]
  },
  {
   "cell_type": "code",
   "execution_count": 23,
   "metadata": {
    "collapsed": true
   },
   "outputs": [],
   "source": [
    "comLike_df = comLike_df.sort_values(by=['commentsCount_mean','likesCount_mean'],ascending=False)"
   ]
  },
  {
   "cell_type": "code",
   "execution_count": 26,
   "metadata": {},
   "outputs": [],
   "source": [
    "comLike_df = pd.merge(comLike_df,df_info[['zhuanlan_name','articles_count','followers']],how='left',on='zhuanlan_name')"
   ]
  },
  {
   "cell_type": "code",
   "execution_count": 28,
   "metadata": {
    "collapsed": true
   },
   "outputs": [],
   "source": [
    "comLike_df['articles_count_log'] = comLike_df['articles_count'].map(lambda x: np.log(x+1))\n",
    "comLike_df['followers_log'] = comLike_df['followers'].map(lambda x: np.log(x+1))"
   ]
  },
  {
   "cell_type": "code",
   "execution_count": 29,
   "metadata": {},
   "outputs": [
    {
     "data": {
      "text/html": [
       "<div>\n",
       "<style>\n",
       "    .dataframe thead tr:only-child th {\n",
       "        text-align: right;\n",
       "    }\n",
       "\n",
       "    .dataframe thead th {\n",
       "        text-align: left;\n",
       "    }\n",
       "\n",
       "    .dataframe tbody tr th {\n",
       "        vertical-align: top;\n",
       "    }\n",
       "</style>\n",
       "<table border=\"1\" class=\"dataframe\">\n",
       "  <thead>\n",
       "    <tr style=\"text-align: right;\">\n",
       "      <th></th>\n",
       "      <th>zhuanlan_name</th>\n",
       "      <th>commentsCount_min</th>\n",
       "      <th>commentsCount_mean</th>\n",
       "      <th>commentsCount_max</th>\n",
       "      <th>likesCount_min</th>\n",
       "      <th>likesCount_mean</th>\n",
       "      <th>likesCount_max</th>\n",
       "      <th>articles_count</th>\n",
       "      <th>followers</th>\n",
       "      <th>articles_count_log</th>\n",
       "      <th>followers_log</th>\n",
       "    </tr>\n",
       "  </thead>\n",
       "  <tbody>\n",
       "    <tr>\n",
       "      <th>0</th>\n",
       "      <td>PMCAFF产品社区</td>\n",
       "      <td>0.0</td>\n",
       "      <td>120.500000</td>\n",
       "      <td>3729.0</td>\n",
       "      <td>1.0</td>\n",
       "      <td>68.315789</td>\n",
       "      <td>766.0</td>\n",
       "      <td>38</td>\n",
       "      <td>3767</td>\n",
       "      <td>3.663562</td>\n",
       "      <td>8.234300</td>\n",
       "    </tr>\n",
       "    <tr>\n",
       "      <th>1</th>\n",
       "      <td>船长的机器学习海志</td>\n",
       "      <td>94.0</td>\n",
       "      <td>94.000000</td>\n",
       "      <td>94.0</td>\n",
       "      <td>355.0</td>\n",
       "      <td>355.000000</td>\n",
       "      <td>355.0</td>\n",
       "      <td>1</td>\n",
       "      <td>94</td>\n",
       "      <td>0.693147</td>\n",
       "      <td>4.553877</td>\n",
       "    </tr>\n",
       "    <tr>\n",
       "      <th>2</th>\n",
       "      <td>什么值得爬</td>\n",
       "      <td>6.0</td>\n",
       "      <td>87.000000</td>\n",
       "      <td>133.0</td>\n",
       "      <td>79.0</td>\n",
       "      <td>474.333333</td>\n",
       "      <td>754.0</td>\n",
       "      <td>3</td>\n",
       "      <td>3242</td>\n",
       "      <td>1.386294</td>\n",
       "      <td>8.084254</td>\n",
       "    </tr>\n",
       "    <tr>\n",
       "      <th>3</th>\n",
       "      <td>挖掘知乎里有趣的东西</td>\n",
       "      <td>6.0</td>\n",
       "      <td>72.678571</td>\n",
       "      <td>167.0</td>\n",
       "      <td>46.0</td>\n",
       "      <td>711.607143</td>\n",
       "      <td>1953.0</td>\n",
       "      <td>28</td>\n",
       "      <td>36321</td>\n",
       "      <td>3.367296</td>\n",
       "      <td>10.500179</td>\n",
       "    </tr>\n",
       "    <tr>\n",
       "      <th>4</th>\n",
       "      <td>AI带路党</td>\n",
       "      <td>12.0</td>\n",
       "      <td>71.000000</td>\n",
       "      <td>226.0</td>\n",
       "      <td>217.0</td>\n",
       "      <td>881.833333</td>\n",
       "      <td>2006.0</td>\n",
       "      <td>6</td>\n",
       "      <td>4451</td>\n",
       "      <td>1.945910</td>\n",
       "      <td>8.401109</td>\n",
       "    </tr>\n",
       "  </tbody>\n",
       "</table>\n",
       "</div>"
      ],
      "text/plain": [
       "  zhuanlan_name  commentsCount_min  commentsCount_mean  commentsCount_max  \\\n",
       "0    PMCAFF产品社区                0.0          120.500000             3729.0   \n",
       "1     船长的机器学习海志               94.0           94.000000               94.0   \n",
       "2         什么值得爬                6.0           87.000000              133.0   \n",
       "3    挖掘知乎里有趣的东西                6.0           72.678571              167.0   \n",
       "4         AI带路党               12.0           71.000000              226.0   \n",
       "\n",
       "   likesCount_min  likesCount_mean  likesCount_max  articles_count  followers  \\\n",
       "0             1.0        68.315789           766.0              38       3767   \n",
       "1           355.0       355.000000           355.0               1         94   \n",
       "2            79.0       474.333333           754.0               3       3242   \n",
       "3            46.0       711.607143          1953.0              28      36321   \n",
       "4           217.0       881.833333          2006.0               6       4451   \n",
       "\n",
       "   articles_count_log  followers_log  \n",
       "0            3.663562       8.234300  \n",
       "1            0.693147       4.553877  \n",
       "2            1.386294       8.084254  \n",
       "3            3.367296      10.500179  \n",
       "4            1.945910       8.401109  "
      ]
     },
     "execution_count": 29,
     "metadata": {},
     "output_type": "execute_result"
    }
   ],
   "source": [
    "comLike_df.head()"
   ]
  },
  {
   "cell_type": "markdown",
   "metadata": {},
   "source": [
    "# 计算专栏推荐指数"
   ]
  },
  {
   "cell_type": "code",
   "execution_count": 30,
   "metadata": {
    "collapsed": true
   },
   "outputs": [],
   "source": [
    "comLike_df.loc[:,'zhuanlan_REI'] = (comLike_df['commentsCount_mean'] + comLike_df['likesCount_mean']*0.5)*\\\n",
    "                                    comLike_df['articles_count_log']*comLike_df['followers_log']"
   ]
  },
  {
   "cell_type": "code",
   "execution_count": 31,
   "metadata": {},
   "outputs": [
    {
     "data": {
      "text/html": [
       "<div>\n",
       "<style>\n",
       "    .dataframe thead tr:only-child th {\n",
       "        text-align: right;\n",
       "    }\n",
       "\n",
       "    .dataframe thead th {\n",
       "        text-align: left;\n",
       "    }\n",
       "\n",
       "    .dataframe tbody tr th {\n",
       "        vertical-align: top;\n",
       "    }\n",
       "</style>\n",
       "<table border=\"1\" class=\"dataframe\">\n",
       "  <thead>\n",
       "    <tr style=\"text-align: right;\">\n",
       "      <th></th>\n",
       "      <th>zhuanlan_name</th>\n",
       "      <th>commentsCount_min</th>\n",
       "      <th>commentsCount_mean</th>\n",
       "      <th>commentsCount_max</th>\n",
       "      <th>likesCount_min</th>\n",
       "      <th>likesCount_mean</th>\n",
       "      <th>likesCount_max</th>\n",
       "      <th>articles_count</th>\n",
       "      <th>followers</th>\n",
       "      <th>articles_count_log</th>\n",
       "      <th>followers_log</th>\n",
       "      <th>zhuanlan_REI</th>\n",
       "    </tr>\n",
       "  </thead>\n",
       "  <tbody>\n",
       "    <tr>\n",
       "      <th>3</th>\n",
       "      <td>挖掘知乎里有趣的东西</td>\n",
       "      <td>6.0</td>\n",
       "      <td>72.678571</td>\n",
       "      <td>167.0</td>\n",
       "      <td>46.0</td>\n",
       "      <td>711.607143</td>\n",
       "      <td>1953.0</td>\n",
       "      <td>28</td>\n",
       "      <td>36321</td>\n",
       "      <td>3.367296</td>\n",
       "      <td>10.500179</td>\n",
       "      <td>15149.932513</td>\n",
       "    </tr>\n",
       "    <tr>\n",
       "      <th>5</th>\n",
       "      <td>AI Insight</td>\n",
       "      <td>4.0</td>\n",
       "      <td>69.285714</td>\n",
       "      <td>399.0</td>\n",
       "      <td>73.0</td>\n",
       "      <td>658.571429</td>\n",
       "      <td>4190.0</td>\n",
       "      <td>14</td>\n",
       "      <td>6004</td>\n",
       "      <td>2.708050</td>\n",
       "      <td>8.700348</td>\n",
       "      <td>9390.732832</td>\n",
       "    </tr>\n",
       "    <tr>\n",
       "      <th>4</th>\n",
       "      <td>AI带路党</td>\n",
       "      <td>12.0</td>\n",
       "      <td>71.000000</td>\n",
       "      <td>226.0</td>\n",
       "      <td>217.0</td>\n",
       "      <td>881.833333</td>\n",
       "      <td>2006.0</td>\n",
       "      <td>6</td>\n",
       "      <td>4451</td>\n",
       "      <td>1.945910</td>\n",
       "      <td>8.401109</td>\n",
       "      <td>8368.712669</td>\n",
       "    </tr>\n",
       "    <tr>\n",
       "      <th>18</th>\n",
       "      <td>智能单元</td>\n",
       "      <td>1.0</td>\n",
       "      <td>37.223404</td>\n",
       "      <td>195.0</td>\n",
       "      <td>9.0</td>\n",
       "      <td>265.978723</td>\n",
       "      <td>1655.0</td>\n",
       "      <td>94</td>\n",
       "      <td>37133</td>\n",
       "      <td>4.553877</td>\n",
       "      <td>10.522288</td>\n",
       "      <td>8156.120069</td>\n",
       "    </tr>\n",
       "    <tr>\n",
       "      <th>23</th>\n",
       "      <td>Hello 陈然！</td>\n",
       "      <td>1.0</td>\n",
       "      <td>32.633333</td>\n",
       "      <td>279.0</td>\n",
       "      <td>30.0</td>\n",
       "      <td>310.266667</td>\n",
       "      <td>2697.0</td>\n",
       "      <td>30</td>\n",
       "      <td>11209</td>\n",
       "      <td>3.433987</td>\n",
       "      <td>9.324562</td>\n",
       "      <td>6012.368455</td>\n",
       "    </tr>\n",
       "    <tr>\n",
       "      <th>48</th>\n",
       "      <td>Python中文社区</td>\n",
       "      <td>0.0</td>\n",
       "      <td>21.670782</td>\n",
       "      <td>189.0</td>\n",
       "      <td>1.0</td>\n",
       "      <td>133.761317</td>\n",
       "      <td>1561.0</td>\n",
       "      <td>243</td>\n",
       "      <td>34898</td>\n",
       "      <td>5.497168</td>\n",
       "      <td>10.460213</td>\n",
       "      <td>5091.845342</td>\n",
       "    </tr>\n",
       "    <tr>\n",
       "      <th>0</th>\n",
       "      <td>PMCAFF产品社区</td>\n",
       "      <td>0.0</td>\n",
       "      <td>120.500000</td>\n",
       "      <td>3729.0</td>\n",
       "      <td>1.0</td>\n",
       "      <td>68.315789</td>\n",
       "      <td>766.0</td>\n",
       "      <td>38</td>\n",
       "      <td>3767</td>\n",
       "      <td>3.663562</td>\n",
       "      <td>8.234300</td>\n",
       "      <td>4665.543728</td>\n",
       "    </tr>\n",
       "    <tr>\n",
       "      <th>24</th>\n",
       "      <td>程序猿数据爱好者</td>\n",
       "      <td>0.0</td>\n",
       "      <td>32.436620</td>\n",
       "      <td>425.0</td>\n",
       "      <td>1.0</td>\n",
       "      <td>178.746479</td>\n",
       "      <td>2511.0</td>\n",
       "      <td>71</td>\n",
       "      <td>3802</td>\n",
       "      <td>4.276666</td>\n",
       "      <td>8.243546</td>\n",
       "      <td>4294.393402</td>\n",
       "    </tr>\n",
       "    <tr>\n",
       "      <th>17</th>\n",
       "      <td>人工智能应用系列</td>\n",
       "      <td>0.0</td>\n",
       "      <td>37.250000</td>\n",
       "      <td>258.0</td>\n",
       "      <td>15.0</td>\n",
       "      <td>357.500000</td>\n",
       "      <td>2503.0</td>\n",
       "      <td>8</td>\n",
       "      <td>4069</td>\n",
       "      <td>2.197225</td>\n",
       "      <td>8.311398</td>\n",
       "      <td>3944.593851</td>\n",
       "    </tr>\n",
       "    <tr>\n",
       "      <th>8</th>\n",
       "      <td>硅谷老实人</td>\n",
       "      <td>3.0</td>\n",
       "      <td>43.875000</td>\n",
       "      <td>192.0</td>\n",
       "      <td>17.0</td>\n",
       "      <td>158.833333</td>\n",
       "      <td>723.0</td>\n",
       "      <td>48</td>\n",
       "      <td>3108</td>\n",
       "      <td>3.891820</td>\n",
       "      <td>8.042056</td>\n",
       "      <td>3858.811973</td>\n",
       "    </tr>\n",
       "  </tbody>\n",
       "</table>\n",
       "</div>"
      ],
      "text/plain": [
       "   zhuanlan_name  commentsCount_min  commentsCount_mean  commentsCount_max  \\\n",
       "3     挖掘知乎里有趣的东西                6.0           72.678571              167.0   \n",
       "5     AI Insight                4.0           69.285714              399.0   \n",
       "4          AI带路党               12.0           71.000000              226.0   \n",
       "18          智能单元                1.0           37.223404              195.0   \n",
       "23     Hello 陈然！                1.0           32.633333              279.0   \n",
       "48    Python中文社区                0.0           21.670782              189.0   \n",
       "0     PMCAFF产品社区                0.0          120.500000             3729.0   \n",
       "24      程序猿数据爱好者                0.0           32.436620              425.0   \n",
       "17      人工智能应用系列                0.0           37.250000              258.0   \n",
       "8          硅谷老实人                3.0           43.875000              192.0   \n",
       "\n",
       "    likesCount_min  likesCount_mean  likesCount_max  articles_count  \\\n",
       "3             46.0       711.607143          1953.0              28   \n",
       "5             73.0       658.571429          4190.0              14   \n",
       "4            217.0       881.833333          2006.0               6   \n",
       "18             9.0       265.978723          1655.0              94   \n",
       "23            30.0       310.266667          2697.0              30   \n",
       "48             1.0       133.761317          1561.0             243   \n",
       "0              1.0        68.315789           766.0              38   \n",
       "24             1.0       178.746479          2511.0              71   \n",
       "17            15.0       357.500000          2503.0               8   \n",
       "8             17.0       158.833333           723.0              48   \n",
       "\n",
       "    followers  articles_count_log  followers_log  zhuanlan_REI  \n",
       "3       36321            3.367296      10.500179  15149.932513  \n",
       "5        6004            2.708050       8.700348   9390.732832  \n",
       "4        4451            1.945910       8.401109   8368.712669  \n",
       "18      37133            4.553877      10.522288   8156.120069  \n",
       "23      11209            3.433987       9.324562   6012.368455  \n",
       "48      34898            5.497168      10.460213   5091.845342  \n",
       "0        3767            3.663562       8.234300   4665.543728  \n",
       "24       3802            4.276666       8.243546   4294.393402  \n",
       "17       4069            2.197225       8.311398   3944.593851  \n",
       "8        3108            3.891820       8.042056   3858.811973  "
      ]
     },
     "execution_count": 31,
     "metadata": {},
     "output_type": "execute_result"
    }
   ],
   "source": [
    "comLike_df = comLike_df.sort_values(by=['zhuanlan_REI'],ascending=False)\n",
    "comLike_df.head(10)"
   ]
  },
  {
   "cell_type": "markdown",
   "metadata": {},
   "source": [
    "# 发帖周期计算"
   ]
  },
  {
   "cell_type": "code",
   "execution_count": 61,
   "metadata": {},
   "outputs": [
    {
     "name": "stderr",
     "output_type": "stream",
     "text": [
      "/Users/wangle/anaconda3/lib/python3.6/site-packages/pandas/core/indexing.py:517: SettingWithCopyWarning: \n",
      "A value is trying to be set on a copy of a slice from a DataFrame.\n",
      "Try using .loc[row_indexer,col_indexer] = value instead\n",
      "\n",
      "See the caveats in the documentation: http://pandas.pydata.org/pandas-docs/stable/indexing.html#indexing-view-versus-copy\n",
      "  self.obj[item] = s\n"
     ]
    }
   ],
   "source": [
    "from datetime import datetime\n",
    "\n",
    "period_df = df_data[['zhuanlan_name','zhuanlan_author','zhuanlan_url','articles_count','author','publishedTime']]\n",
    "period_df.loc[:,'publishedTime'] = period_df.loc[:,'publishedTime'].map(lambda x : x.split('T')[0])"
   ]
  },
  {
   "cell_type": "markdown",
   "metadata": {},
   "source": [
    "## 第一次发帖时间"
   ]
  },
  {
   "cell_type": "code",
   "execution_count": 49,
   "metadata": {},
   "outputs": [],
   "source": [
    "period_df = period_df.sort_values(by=['zhuanlan_name','publishedTime'])"
   ]
  },
  {
   "cell_type": "code",
   "execution_count": 44,
   "metadata": {},
   "outputs": [],
   "source": [
    "first_pub = period_df.copy()\n",
    "first_pub.drop_duplicates(subset='zhuanlan_name', keep='first', inplace=True)"
   ]
  },
  {
   "cell_type": "code",
   "execution_count": 46,
   "metadata": {},
   "outputs": [],
   "source": [
    "first_pub = first_pub[['zhuanlan_name','publishedTime']]"
   ]
  },
  {
   "cell_type": "markdown",
   "metadata": {},
   "source": [
    "## 最后一次发帖时间"
   ]
  },
  {
   "cell_type": "code",
   "execution_count": 47,
   "metadata": {
    "collapsed": true
   },
   "outputs": [],
   "source": [
    "last_pub = period_df.copy()\n",
    "last_pub.drop_duplicates(subset='zhuanlan_name', keep='last', inplace=True)\n",
    "last_pub = last_pub[['zhuanlan_name','publishedTime']]"
   ]
  },
  {
   "cell_type": "markdown",
   "metadata": {},
   "source": [
    "## 专栏作者个数 (是否有投稿情况）"
   ]
  },
  {
   "cell_type": "code",
   "execution_count": 55,
   "metadata": {
    "collapsed": true
   },
   "outputs": [],
   "source": [
    "author_list_col = []\n",
    "for zhuanlan in last_pub['zhuanlan_name']:\n",
    "    author_list = period_df.loc[period_df['zhuanlan_name']==zhuanlan,'author'].unique().tolist()\n",
    "    author_list = ' '.join(author_list)\n",
    "    author_list_col.append(author_list)\n",
    "    \n",
    "last_pub['author_list'] = author_list_col"
   ]
  },
  {
   "cell_type": "code",
   "execution_count": 62,
   "metadata": {},
   "outputs": [],
   "source": [
    "first_pub.columns = ['zhuanlan_name','first_publishedTime']\n",
    "last_pub.columns = ['zhuanlan_name','last_publishedTime','author_list']\n",
    "\n",
    "period_df = period_df[['zhuanlan_name','zhuanlan_url','articles_count']]\n",
    "period_df.drop_duplicates(subset='zhuanlan_name', keep='last', inplace=True)\n",
    "\n",
    "period_df = pd.merge(first_pub,period_df,how='left',on='zhuanlan_name')\n",
    "period_df = pd.merge(period_df,last_pub,how='left',on='zhuanlan_name')"
   ]
  },
  {
   "cell_type": "code",
   "execution_count": 63,
   "metadata": {},
   "outputs": [
    {
     "data": {
      "text/html": [
       "<div>\n",
       "<style>\n",
       "    .dataframe thead tr:only-child th {\n",
       "        text-align: right;\n",
       "    }\n",
       "\n",
       "    .dataframe thead th {\n",
       "        text-align: left;\n",
       "    }\n",
       "\n",
       "    .dataframe tbody tr th {\n",
       "        vertical-align: top;\n",
       "    }\n",
       "</style>\n",
       "<table border=\"1\" class=\"dataframe\">\n",
       "  <thead>\n",
       "    <tr style=\"text-align: right;\">\n",
       "      <th></th>\n",
       "      <th>zhuanlan_name</th>\n",
       "      <th>first_publishedTime</th>\n",
       "      <th>zhuanlan_url</th>\n",
       "      <th>articles_count</th>\n",
       "      <th>last_publishedTime</th>\n",
       "      <th>author_list</th>\n",
       "    </tr>\n",
       "  </thead>\n",
       "  <tbody>\n",
       "    <tr>\n",
       "      <th>0</th>\n",
       "      <td>8层会议室</td>\n",
       "      <td>2017-04-06</td>\n",
       "      <td>https://zhuanlan.zhihu.com/8thfloor</td>\n",
       "      <td>15</td>\n",
       "      <td>2017-11-27</td>\n",
       "      <td>孙玉玺 谢泽华 周泽南 董国盛 黑鱼 花花 叶知秋 常庆丰 潘达</td>\n",
       "    </tr>\n",
       "    <tr>\n",
       "      <th>1</th>\n",
       "      <td>AI Insight</td>\n",
       "      <td>2016-11-05</td>\n",
       "      <td>https://zhuanlan.zhihu.com/ai-insight</td>\n",
       "      <td>14</td>\n",
       "      <td>2017-11-05</td>\n",
       "      <td>何之源</td>\n",
       "    </tr>\n",
       "    <tr>\n",
       "      <th>2</th>\n",
       "      <td>AI+安全试路人</td>\n",
       "      <td>2017-06-02</td>\n",
       "      <td>https://zhuanlan.zhihu.com/taoanwang</td>\n",
       "      <td>1</td>\n",
       "      <td>2017-06-02</td>\n",
       "      <td>小超超</td>\n",
       "    </tr>\n",
       "    <tr>\n",
       "      <th>3</th>\n",
       "      <td>AIvsBI</td>\n",
       "      <td>2017-10-24</td>\n",
       "      <td>https://zhuanlan.zhihu.com/lxwcel</td>\n",
       "      <td>4</td>\n",
       "      <td>2017-11-07</td>\n",
       "      <td>AlphaYong</td>\n",
       "    </tr>\n",
       "    <tr>\n",
       "      <th>4</th>\n",
       "      <td>AI带路党</td>\n",
       "      <td>2016-10-08</td>\n",
       "      <td>https://zhuanlan.zhihu.com/ai-leader</td>\n",
       "      <td>6</td>\n",
       "      <td>2017-07-31</td>\n",
       "      <td>郑华滨 刘思聪 吴晓晖</td>\n",
       "    </tr>\n",
       "  </tbody>\n",
       "</table>\n",
       "</div>"
      ],
      "text/plain": [
       "  zhuanlan_name first_publishedTime                           zhuanlan_url  \\\n",
       "0         8层会议室          2017-04-06    https://zhuanlan.zhihu.com/8thfloor   \n",
       "1    AI Insight          2016-11-05  https://zhuanlan.zhihu.com/ai-insight   \n",
       "2      AI+安全试路人          2017-06-02   https://zhuanlan.zhihu.com/taoanwang   \n",
       "3        AIvsBI          2017-10-24      https://zhuanlan.zhihu.com/lxwcel   \n",
       "4         AI带路党          2016-10-08   https://zhuanlan.zhihu.com/ai-leader   \n",
       "\n",
       "   articles_count last_publishedTime                       author_list  \n",
       "0              15         2017-11-27  孙玉玺 谢泽华 周泽南 董国盛 黑鱼 花花 叶知秋 常庆丰 潘达  \n",
       "1              14         2017-11-05                               何之源  \n",
       "2               1         2017-06-02                               小超超  \n",
       "3               4         2017-11-07                         AlphaYong  \n",
       "4               6         2017-07-31                       郑华滨 刘思聪 吴晓晖  "
      ]
     },
     "execution_count": 63,
     "metadata": {},
     "output_type": "execute_result"
    }
   ],
   "source": [
    "period_df.head()"
   ]
  },
  {
   "cell_type": "markdown",
   "metadata": {},
   "source": [
    "## 根据第一次发文时间、最后一次发文时间和发文数量计算平均发文周期"
   ]
  },
  {
   "cell_type": "code",
   "execution_count": 64,
   "metadata": {
    "collapsed": true
   },
   "outputs": [],
   "source": [
    "period_df['publish_period'] = period_df['first_publishedTime'].map(lambda x : datetime.strptime('2018-1-11','%Y-%m-%d') - \\\n",
    "                                                            datetime.strptime(x, '%Y-%m-%d'))\n",
    "period_df['publish_period'] = period_df['publish_period'].map(lambda x: x.days)\n",
    "period_df.loc[:,'published_period'] = period_df['publish_period'] / period_df['articles_count']\n",
    "del period_df['publish_period']"
   ]
  },
  {
   "cell_type": "code",
   "execution_count": 66,
   "metadata": {},
   "outputs": [
    {
     "data": {
      "text/html": [
       "<div>\n",
       "<style>\n",
       "    .dataframe thead tr:only-child th {\n",
       "        text-align: right;\n",
       "    }\n",
       "\n",
       "    .dataframe thead th {\n",
       "        text-align: left;\n",
       "    }\n",
       "\n",
       "    .dataframe tbody tr th {\n",
       "        vertical-align: top;\n",
       "    }\n",
       "</style>\n",
       "<table border=\"1\" class=\"dataframe\">\n",
       "  <thead>\n",
       "    <tr style=\"text-align: right;\">\n",
       "      <th></th>\n",
       "      <th>zhuanlan_name</th>\n",
       "      <th>first_publishedTime</th>\n",
       "      <th>zhuanlan_url</th>\n",
       "      <th>articles_count</th>\n",
       "      <th>last_publishedTime</th>\n",
       "      <th>author_list</th>\n",
       "      <th>published_period</th>\n",
       "    </tr>\n",
       "  </thead>\n",
       "  <tbody>\n",
       "    <tr>\n",
       "      <th>387</th>\n",
       "      <td>车神的机器学习</td>\n",
       "      <td>2017-12-25</td>\n",
       "      <td>https://zhuanlan.zhihu.com/c_128528277</td>\n",
       "      <td>18</td>\n",
       "      <td>2018-01-10</td>\n",
       "      <td>Pig951001</td>\n",
       "      <td>0.944444</td>\n",
       "    </tr>\n",
       "    <tr>\n",
       "      <th>301</th>\n",
       "      <td>深度学习源码解析</td>\n",
       "      <td>2017-11-24</td>\n",
       "      <td>https://zhuanlan.zhihu.com/c_144268772</td>\n",
       "      <td>39</td>\n",
       "      <td>2018-01-11</td>\n",
       "      <td>小白</td>\n",
       "      <td>1.230769</td>\n",
       "    </tr>\n",
       "    <tr>\n",
       "      <th>9</th>\n",
       "      <td>BAT面试1000题</td>\n",
       "      <td>2017-11-10</td>\n",
       "      <td>https://zhuanlan.zhihu.com/c_140166199</td>\n",
       "      <td>40</td>\n",
       "      <td>2018-01-11</td>\n",
       "      <td>julyedu</td>\n",
       "      <td>1.550000</td>\n",
       "    </tr>\n",
       "    <tr>\n",
       "      <th>357</th>\n",
       "      <td>网易智能</td>\n",
       "      <td>2017-02-14</td>\n",
       "      <td>https://zhuanlan.zhihu.com/smartman163</td>\n",
       "      <td>196</td>\n",
       "      <td>2018-01-11</td>\n",
       "      <td>小羿</td>\n",
       "      <td>1.688776</td>\n",
       "    </tr>\n",
       "    <tr>\n",
       "      <th>112</th>\n",
       "      <td>一片神鸦社鼓</td>\n",
       "      <td>2017-12-18</td>\n",
       "      <td>https://zhuanlan.zhihu.com/yang3</td>\n",
       "      <td>11</td>\n",
       "      <td>2018-01-08</td>\n",
       "      <td>讳莫如深</td>\n",
       "      <td>2.181818</td>\n",
       "    </tr>\n",
       "    <tr>\n",
       "      <th>127</th>\n",
       "      <td>人工智能成长之路</td>\n",
       "      <td>2017-12-04</td>\n",
       "      <td>https://zhuanlan.zhihu.com/c_147015982</td>\n",
       "      <td>17</td>\n",
       "      <td>2018-01-09</td>\n",
       "      <td>weapon</td>\n",
       "      <td>2.235294</td>\n",
       "    </tr>\n",
       "    <tr>\n",
       "      <th>69</th>\n",
       "      <td>Python中文社区</td>\n",
       "      <td>2016-06-15</td>\n",
       "      <td>https://zhuanlan.zhihu.com/zimei</td>\n",
       "      <td>243</td>\n",
       "      <td>2018-01-04</td>\n",
       "      <td>段小草 iGuo xchaoinfo 笑虎 阿橙 夏洛之枫 苍冥 九茶 Jerry Wayn...</td>\n",
       "      <td>2.366255</td>\n",
       "    </tr>\n",
       "    <tr>\n",
       "      <th>85</th>\n",
       "      <td>TensorFlowNews</td>\n",
       "      <td>2017-07-11</td>\n",
       "      <td>https://zhuanlan.zhihu.com/TensorFlownews</td>\n",
       "      <td>77</td>\n",
       "      <td>2018-01-07</td>\n",
       "      <td>灰灰</td>\n",
       "      <td>2.389610</td>\n",
       "    </tr>\n",
       "    <tr>\n",
       "      <th>102</th>\n",
       "      <td>nlp相关论文笔记</td>\n",
       "      <td>2017-12-21</td>\n",
       "      <td>https://zhuanlan.zhihu.com/c_134593059</td>\n",
       "      <td>8</td>\n",
       "      <td>2018-01-10</td>\n",
       "      <td>TtC的WH</td>\n",
       "      <td>2.625000</td>\n",
       "    </tr>\n",
       "    <tr>\n",
       "      <th>65</th>\n",
       "      <td>PaperWeekly</td>\n",
       "      <td>2016-05-26</td>\n",
       "      <td>https://zhuanlan.zhihu.com/paperweekly</td>\n",
       "      <td>216</td>\n",
       "      <td>2018-01-05</td>\n",
       "      <td>张俊</td>\n",
       "      <td>2.754630</td>\n",
       "    </tr>\n",
       "  </tbody>\n",
       "</table>\n",
       "</div>"
      ],
      "text/plain": [
       "      zhuanlan_name first_publishedTime  \\\n",
       "387         车神的机器学习          2017-12-25   \n",
       "301        深度学习源码解析          2017-11-24   \n",
       "9        BAT面试1000题          2017-11-10   \n",
       "357            网易智能          2017-02-14   \n",
       "112          一片神鸦社鼓          2017-12-18   \n",
       "127        人工智能成长之路          2017-12-04   \n",
       "69       Python中文社区          2016-06-15   \n",
       "85   TensorFlowNews          2017-07-11   \n",
       "102       nlp相关论文笔记          2017-12-21   \n",
       "65      PaperWeekly          2016-05-26   \n",
       "\n",
       "                                  zhuanlan_url  articles_count  \\\n",
       "387     https://zhuanlan.zhihu.com/c_128528277              18   \n",
       "301     https://zhuanlan.zhihu.com/c_144268772              39   \n",
       "9       https://zhuanlan.zhihu.com/c_140166199              40   \n",
       "357     https://zhuanlan.zhihu.com/smartman163             196   \n",
       "112           https://zhuanlan.zhihu.com/yang3              11   \n",
       "127     https://zhuanlan.zhihu.com/c_147015982              17   \n",
       "69            https://zhuanlan.zhihu.com/zimei             243   \n",
       "85   https://zhuanlan.zhihu.com/TensorFlownews              77   \n",
       "102     https://zhuanlan.zhihu.com/c_134593059               8   \n",
       "65      https://zhuanlan.zhihu.com/paperweekly             216   \n",
       "\n",
       "    last_publishedTime                                        author_list  \\\n",
       "387         2018-01-10                                          Pig951001   \n",
       "301         2018-01-11                                                 小白   \n",
       "9           2018-01-11                                            julyedu   \n",
       "357         2018-01-11                                                 小羿   \n",
       "112         2018-01-08                                               讳莫如深   \n",
       "127         2018-01-09                                             weapon   \n",
       "69          2018-01-04  段小草 iGuo xchaoinfo 笑虎 阿橙 夏洛之枫 苍冥 九茶 Jerry Wayn...   \n",
       "85          2018-01-07                                                 灰灰   \n",
       "102         2018-01-10                                             TtC的WH   \n",
       "65          2018-01-05                                                 张俊   \n",
       "\n",
       "     published_period  \n",
       "387          0.944444  \n",
       "301          1.230769  \n",
       "9            1.550000  \n",
       "357          1.688776  \n",
       "112          2.181818  \n",
       "127          2.235294  \n",
       "69           2.366255  \n",
       "85           2.389610  \n",
       "102          2.625000  \n",
       "65           2.754630  "
      ]
     },
     "execution_count": 66,
     "metadata": {},
     "output_type": "execute_result"
    }
   ],
   "source": [
    "period_df.sort_values(by='published_period',).head(10)"
   ]
  },
  {
   "cell_type": "code",
   "execution_count": 67,
   "metadata": {
    "collapsed": true
   },
   "outputs": [],
   "source": [
    "period_df = period_df.sort_values(by='published_period')\n",
    "period_df = period_df[['zhuanlan_name','zhuanlan_url','author_list','articles_count','first_publishedTime','last_publishedTime','published_period']]"
   ]
  },
  {
   "cell_type": "code",
   "execution_count": 70,
   "metadata": {},
   "outputs": [],
   "source": [
    "period_df = period_df.reset_index(drop = True)\n",
    "\n",
    "with open('recommend_Index_publish_Period.txt','a+') as f:\n",
    "    for i in period_df.index:\n",
    "        f.write('<tr>\\n')\n",
    "        f.write('<td>'+ period_df.loc[i,'zhuanlan_name']+'</td>\\n')\n",
    "        f.write('<td>'+ period_df.loc[i,'zhuanlan_url']+'</td>\\n')\n",
    "        f.write('<td>'+ period_df.loc[i,'author_list']+'</td>\\n')\n",
    "        f.write('<td>'+ str(period_df.loc[i,'articles_count'])+'</td>\\n')\n",
    "        f.write('<td>'+ period_df.loc[i,'first_publishedTime']+'</td>\\n') \n",
    "        f.write('<td>'+ period_df.loc[i,'last_publishedTime']+'</td>\\n')\n",
    "        f.write('<td>'+ str(period_df.loc[i,'published_period'])+'</td>\\n')\n",
    "        f.write('</tr>\\n')\n",
    "        f.write('\\n')"
   ]
  },
  {
   "cell_type": "code",
   "execution_count": 71,
   "metadata": {},
   "outputs": [
    {
     "data": {
      "text/plain": [
       "Index(['zhuanlan_name', 'commentsCount_min', 'commentsCount_mean',\n",
       "       'commentsCount_max', 'likesCount_min', 'likesCount_mean',\n",
       "       'likesCount_max', 'articles_count', 'followers', 'articles_count_log',\n",
       "       'followers_log', 'zhuanlan_REI'],\n",
       "      dtype='object')"
      ]
     },
     "execution_count": 71,
     "metadata": {},
     "output_type": "execute_result"
    }
   ],
   "source": [
    "comLike_df.columns"
   ]
  },
  {
   "cell_type": "code",
   "execution_count": 72,
   "metadata": {
    "collapsed": true
   },
   "outputs": [],
   "source": [
    "del comLike_df['articles_count_log']\n",
    "del comLike_df['followers_log']"
   ]
  },
  {
   "cell_type": "code",
   "execution_count": 73,
   "metadata": {
    "collapsed": true
   },
   "outputs": [],
   "source": [
    "comLike_df = pd.merge(period_df[['zhuanlan_name','zhuanlan_url','published_period']],comLike_df,how='outer',on='zhuanlan_name')\n",
    "comLike_df = comLike_df.reset_index(drop = True)"
   ]
  },
  {
   "cell_type": "code",
   "execution_count": 76,
   "metadata": {},
   "outputs": [
    {
     "data": {
      "text/html": [
       "<div>\n",
       "<style>\n",
       "    .dataframe thead tr:only-child th {\n",
       "        text-align: right;\n",
       "    }\n",
       "\n",
       "    .dataframe thead th {\n",
       "        text-align: left;\n",
       "    }\n",
       "\n",
       "    .dataframe tbody tr th {\n",
       "        vertical-align: top;\n",
       "    }\n",
       "</style>\n",
       "<table border=\"1\" class=\"dataframe\">\n",
       "  <thead>\n",
       "    <tr style=\"text-align: right;\">\n",
       "      <th></th>\n",
       "      <th>zhuanlan_name</th>\n",
       "      <th>zhuanlan_url</th>\n",
       "      <th>published_period</th>\n",
       "      <th>commentsCount_min</th>\n",
       "      <th>commentsCount_mean</th>\n",
       "      <th>commentsCount_max</th>\n",
       "      <th>likesCount_min</th>\n",
       "      <th>likesCount_mean</th>\n",
       "      <th>likesCount_max</th>\n",
       "      <th>articles_count</th>\n",
       "      <th>followers</th>\n",
       "      <th>zhuanlan_REI</th>\n",
       "    </tr>\n",
       "  </thead>\n",
       "  <tbody>\n",
       "    <tr>\n",
       "      <th>0</th>\n",
       "      <td>挖掘知乎里有趣的东西</td>\n",
       "      <td>https://zhuanlan.zhihu.com/grapeot</td>\n",
       "      <td>36.321429</td>\n",
       "      <td>6.0</td>\n",
       "      <td>72.678571</td>\n",
       "      <td>167.0</td>\n",
       "      <td>46.0</td>\n",
       "      <td>711.607143</td>\n",
       "      <td>1953.0</td>\n",
       "      <td>28</td>\n",
       "      <td>36321</td>\n",
       "      <td>15149.932513</td>\n",
       "    </tr>\n",
       "    <tr>\n",
       "      <th>1</th>\n",
       "      <td>AI Insight</td>\n",
       "      <td>https://zhuanlan.zhihu.com/ai-insight</td>\n",
       "      <td>30.857143</td>\n",
       "      <td>4.0</td>\n",
       "      <td>69.285714</td>\n",
       "      <td>399.0</td>\n",
       "      <td>73.0</td>\n",
       "      <td>658.571429</td>\n",
       "      <td>4190.0</td>\n",
       "      <td>14</td>\n",
       "      <td>6004</td>\n",
       "      <td>9390.732832</td>\n",
       "    </tr>\n",
       "    <tr>\n",
       "      <th>2</th>\n",
       "      <td>AI带路党</td>\n",
       "      <td>https://zhuanlan.zhihu.com/ai-leader</td>\n",
       "      <td>76.666667</td>\n",
       "      <td>12.0</td>\n",
       "      <td>71.000000</td>\n",
       "      <td>226.0</td>\n",
       "      <td>217.0</td>\n",
       "      <td>881.833333</td>\n",
       "      <td>2006.0</td>\n",
       "      <td>6</td>\n",
       "      <td>4451</td>\n",
       "      <td>8368.712669</td>\n",
       "    </tr>\n",
       "    <tr>\n",
       "      <th>3</th>\n",
       "      <td>智能单元</td>\n",
       "      <td>https://zhuanlan.zhihu.com/intelligentunit</td>\n",
       "      <td>6.510638</td>\n",
       "      <td>1.0</td>\n",
       "      <td>37.223404</td>\n",
       "      <td>195.0</td>\n",
       "      <td>9.0</td>\n",
       "      <td>265.978723</td>\n",
       "      <td>1655.0</td>\n",
       "      <td>94</td>\n",
       "      <td>37133</td>\n",
       "      <td>8156.120069</td>\n",
       "    </tr>\n",
       "    <tr>\n",
       "      <th>4</th>\n",
       "      <td>Hello 陈然！</td>\n",
       "      <td>https://zhuanlan.zhihu.com/chenran</td>\n",
       "      <td>53.166667</td>\n",
       "      <td>1.0</td>\n",
       "      <td>32.633333</td>\n",
       "      <td>279.0</td>\n",
       "      <td>30.0</td>\n",
       "      <td>310.266667</td>\n",
       "      <td>2697.0</td>\n",
       "      <td>30</td>\n",
       "      <td>11209</td>\n",
       "      <td>6012.368455</td>\n",
       "    </tr>\n",
       "  </tbody>\n",
       "</table>\n",
       "</div>"
      ],
      "text/plain": [
       "  zhuanlan_name                                zhuanlan_url  published_period  \\\n",
       "0    挖掘知乎里有趣的东西          https://zhuanlan.zhihu.com/grapeot         36.321429   \n",
       "1    AI Insight       https://zhuanlan.zhihu.com/ai-insight         30.857143   \n",
       "2         AI带路党        https://zhuanlan.zhihu.com/ai-leader         76.666667   \n",
       "3          智能单元  https://zhuanlan.zhihu.com/intelligentunit          6.510638   \n",
       "4     Hello 陈然！          https://zhuanlan.zhihu.com/chenran         53.166667   \n",
       "\n",
       "   commentsCount_min  commentsCount_mean  commentsCount_max  likesCount_min  \\\n",
       "0                6.0           72.678571              167.0            46.0   \n",
       "1                4.0           69.285714              399.0            73.0   \n",
       "2               12.0           71.000000              226.0           217.0   \n",
       "3                1.0           37.223404              195.0             9.0   \n",
       "4                1.0           32.633333              279.0            30.0   \n",
       "\n",
       "   likesCount_mean  likesCount_max  articles_count  followers  zhuanlan_REI  \n",
       "0       711.607143          1953.0              28      36321  15149.932513  \n",
       "1       658.571429          4190.0              14       6004   9390.732832  \n",
       "2       881.833333          2006.0               6       4451   8368.712669  \n",
       "3       265.978723          1655.0              94      37133   8156.120069  \n",
       "4       310.266667          2697.0              30      11209   6012.368455  "
      ]
     },
     "execution_count": 76,
     "metadata": {},
     "output_type": "execute_result"
    }
   ],
   "source": [
    "comLike_df = comLike_df.reset_index(drop = True)\n",
    "comLike_df = comLike_df.sort_values(by=['zhuanlan_REI'],ascending=False)\n",
    "comLike_df.head()"
   ]
  },
  {
   "cell_type": "code",
   "execution_count": 77,
   "metadata": {},
   "outputs": [
    {
     "data": {
      "text/plain": [
       "Index(['zhuanlan_name', 'zhuanlan_url', 'published_period',\n",
       "       'commentsCount_min', 'commentsCount_mean', 'commentsCount_max',\n",
       "       'likesCount_min', 'likesCount_mean', 'likesCount_max', 'articles_count',\n",
       "       'followers', 'zhuanlan_REI'],\n",
       "      dtype='object')"
      ]
     },
     "execution_count": 77,
     "metadata": {},
     "output_type": "execute_result"
    }
   ],
   "source": [
    "comLike_df.columns"
   ]
  },
  {
   "cell_type": "code",
   "execution_count": 80,
   "metadata": {
    "collapsed": true
   },
   "outputs": [],
   "source": [
    "comLike_df = comLike_df[['zhuanlan_name','zhuanlan_REI', 'zhuanlan_url', 'published_period','articles_count','followers',\n",
    "       'commentsCount_min', 'commentsCount_mean', 'commentsCount_max',\n",
    "       'likesCount_min', 'likesCount_mean', 'likesCount_max']]"
   ]
  },
  {
   "cell_type": "code",
   "execution_count": 85,
   "metadata": {},
   "outputs": [
    {
     "data": {
      "text/html": [
       "<div>\n",
       "<style>\n",
       "    .dataframe thead tr:only-child th {\n",
       "        text-align: right;\n",
       "    }\n",
       "\n",
       "    .dataframe thead th {\n",
       "        text-align: left;\n",
       "    }\n",
       "\n",
       "    .dataframe tbody tr th {\n",
       "        vertical-align: top;\n",
       "    }\n",
       "</style>\n",
       "<table border=\"1\" class=\"dataframe\">\n",
       "  <thead>\n",
       "    <tr style=\"text-align: right;\">\n",
       "      <th></th>\n",
       "      <th>zhuanlan_name</th>\n",
       "      <th>zhuanlan_REI</th>\n",
       "      <th>zhuanlan_url</th>\n",
       "      <th>published_period</th>\n",
       "      <th>articles_count</th>\n",
       "      <th>followers</th>\n",
       "      <th>commentsCount_min</th>\n",
       "      <th>commentsCount_mean</th>\n",
       "      <th>commentsCount_max</th>\n",
       "      <th>likesCount_min</th>\n",
       "      <th>likesCount_mean</th>\n",
       "      <th>likesCount_max</th>\n",
       "    </tr>\n",
       "  </thead>\n",
       "  <tbody>\n",
       "    <tr>\n",
       "      <th>0</th>\n",
       "      <td>挖掘知乎里有趣的东西</td>\n",
       "      <td>15149.932513</td>\n",
       "      <td>https://zhuanlan.zhihu.com/grapeot</td>\n",
       "      <td>36.321429</td>\n",
       "      <td>28</td>\n",
       "      <td>36321</td>\n",
       "      <td>6.0</td>\n",
       "      <td>72.678571</td>\n",
       "      <td>167.0</td>\n",
       "      <td>46.0</td>\n",
       "      <td>711.607143</td>\n",
       "      <td>1953.0</td>\n",
       "    </tr>\n",
       "    <tr>\n",
       "      <th>1</th>\n",
       "      <td>AI Insight</td>\n",
       "      <td>9390.732832</td>\n",
       "      <td>https://zhuanlan.zhihu.com/ai-insight</td>\n",
       "      <td>30.857143</td>\n",
       "      <td>14</td>\n",
       "      <td>6004</td>\n",
       "      <td>4.0</td>\n",
       "      <td>69.285714</td>\n",
       "      <td>399.0</td>\n",
       "      <td>73.0</td>\n",
       "      <td>658.571429</td>\n",
       "      <td>4190.0</td>\n",
       "    </tr>\n",
       "    <tr>\n",
       "      <th>2</th>\n",
       "      <td>AI带路党</td>\n",
       "      <td>8368.712669</td>\n",
       "      <td>https://zhuanlan.zhihu.com/ai-leader</td>\n",
       "      <td>76.666667</td>\n",
       "      <td>6</td>\n",
       "      <td>4451</td>\n",
       "      <td>12.0</td>\n",
       "      <td>71.000000</td>\n",
       "      <td>226.0</td>\n",
       "      <td>217.0</td>\n",
       "      <td>881.833333</td>\n",
       "      <td>2006.0</td>\n",
       "    </tr>\n",
       "    <tr>\n",
       "      <th>3</th>\n",
       "      <td>智能单元</td>\n",
       "      <td>8156.120069</td>\n",
       "      <td>https://zhuanlan.zhihu.com/intelligentunit</td>\n",
       "      <td>6.510638</td>\n",
       "      <td>94</td>\n",
       "      <td>37133</td>\n",
       "      <td>1.0</td>\n",
       "      <td>37.223404</td>\n",
       "      <td>195.0</td>\n",
       "      <td>9.0</td>\n",
       "      <td>265.978723</td>\n",
       "      <td>1655.0</td>\n",
       "    </tr>\n",
       "    <tr>\n",
       "      <th>4</th>\n",
       "      <td>Hello 陈然！</td>\n",
       "      <td>6012.368455</td>\n",
       "      <td>https://zhuanlan.zhihu.com/chenran</td>\n",
       "      <td>53.166667</td>\n",
       "      <td>30</td>\n",
       "      <td>11209</td>\n",
       "      <td>1.0</td>\n",
       "      <td>32.633333</td>\n",
       "      <td>279.0</td>\n",
       "      <td>30.0</td>\n",
       "      <td>310.266667</td>\n",
       "      <td>2697.0</td>\n",
       "    </tr>\n",
       "    <tr>\n",
       "      <th>5</th>\n",
       "      <td>Python中文社区</td>\n",
       "      <td>5091.845342</td>\n",
       "      <td>https://zhuanlan.zhihu.com/zimei</td>\n",
       "      <td>2.366255</td>\n",
       "      <td>243</td>\n",
       "      <td>34898</td>\n",
       "      <td>0.0</td>\n",
       "      <td>21.670782</td>\n",
       "      <td>189.0</td>\n",
       "      <td>1.0</td>\n",
       "      <td>133.761317</td>\n",
       "      <td>1561.0</td>\n",
       "    </tr>\n",
       "    <tr>\n",
       "      <th>6</th>\n",
       "      <td>PMCAFF产品社区</td>\n",
       "      <td>4665.543728</td>\n",
       "      <td>https://zhuanlan.zhihu.com/pmcaff</td>\n",
       "      <td>24.394737</td>\n",
       "      <td>38</td>\n",
       "      <td>3767</td>\n",
       "      <td>0.0</td>\n",
       "      <td>120.500000</td>\n",
       "      <td>3729.0</td>\n",
       "      <td>1.0</td>\n",
       "      <td>68.315789</td>\n",
       "      <td>766.0</td>\n",
       "    </tr>\n",
       "    <tr>\n",
       "      <th>7</th>\n",
       "      <td>程序猿数据爱好者</td>\n",
       "      <td>4294.393402</td>\n",
       "      <td>https://zhuanlan.zhihu.com/c_94187513</td>\n",
       "      <td>3.676056</td>\n",
       "      <td>71</td>\n",
       "      <td>3802</td>\n",
       "      <td>0.0</td>\n",
       "      <td>32.436620</td>\n",
       "      <td>425.0</td>\n",
       "      <td>1.0</td>\n",
       "      <td>178.746479</td>\n",
       "      <td>2511.0</td>\n",
       "    </tr>\n",
       "    <tr>\n",
       "      <th>8</th>\n",
       "      <td>人工智能应用系列</td>\n",
       "      <td>3944.593851</td>\n",
       "      <td>https://zhuanlan.zhihu.com/ai4application</td>\n",
       "      <td>38.000000</td>\n",
       "      <td>8</td>\n",
       "      <td>4069</td>\n",
       "      <td>0.0</td>\n",
       "      <td>37.250000</td>\n",
       "      <td>258.0</td>\n",
       "      <td>15.0</td>\n",
       "      <td>357.500000</td>\n",
       "      <td>2503.0</td>\n",
       "    </tr>\n",
       "    <tr>\n",
       "      <th>9</th>\n",
       "      <td>硅谷老实人</td>\n",
       "      <td>3858.811973</td>\n",
       "      <td>https://zhuanlan.zhihu.com/nullptr</td>\n",
       "      <td>6.604167</td>\n",
       "      <td>48</td>\n",
       "      <td>3108</td>\n",
       "      <td>3.0</td>\n",
       "      <td>43.875000</td>\n",
       "      <td>192.0</td>\n",
       "      <td>17.0</td>\n",
       "      <td>158.833333</td>\n",
       "      <td>723.0</td>\n",
       "    </tr>\n",
       "  </tbody>\n",
       "</table>\n",
       "</div>"
      ],
      "text/plain": [
       "  zhuanlan_name  zhuanlan_REI                                zhuanlan_url  \\\n",
       "0    挖掘知乎里有趣的东西  15149.932513          https://zhuanlan.zhihu.com/grapeot   \n",
       "1    AI Insight   9390.732832       https://zhuanlan.zhihu.com/ai-insight   \n",
       "2         AI带路党   8368.712669        https://zhuanlan.zhihu.com/ai-leader   \n",
       "3          智能单元   8156.120069  https://zhuanlan.zhihu.com/intelligentunit   \n",
       "4     Hello 陈然！   6012.368455          https://zhuanlan.zhihu.com/chenran   \n",
       "5    Python中文社区   5091.845342            https://zhuanlan.zhihu.com/zimei   \n",
       "6    PMCAFF产品社区   4665.543728           https://zhuanlan.zhihu.com/pmcaff   \n",
       "7      程序猿数据爱好者   4294.393402       https://zhuanlan.zhihu.com/c_94187513   \n",
       "8      人工智能应用系列   3944.593851   https://zhuanlan.zhihu.com/ai4application   \n",
       "9         硅谷老实人   3858.811973          https://zhuanlan.zhihu.com/nullptr   \n",
       "\n",
       "   published_period  articles_count  followers  commentsCount_min  \\\n",
       "0         36.321429              28      36321                6.0   \n",
       "1         30.857143              14       6004                4.0   \n",
       "2         76.666667               6       4451               12.0   \n",
       "3          6.510638              94      37133                1.0   \n",
       "4         53.166667              30      11209                1.0   \n",
       "5          2.366255             243      34898                0.0   \n",
       "6         24.394737              38       3767                0.0   \n",
       "7          3.676056              71       3802                0.0   \n",
       "8         38.000000               8       4069                0.0   \n",
       "9          6.604167              48       3108                3.0   \n",
       "\n",
       "   commentsCount_mean  commentsCount_max  likesCount_min  likesCount_mean  \\\n",
       "0           72.678571              167.0            46.0       711.607143   \n",
       "1           69.285714              399.0            73.0       658.571429   \n",
       "2           71.000000              226.0           217.0       881.833333   \n",
       "3           37.223404              195.0             9.0       265.978723   \n",
       "4           32.633333              279.0            30.0       310.266667   \n",
       "5           21.670782              189.0             1.0       133.761317   \n",
       "6          120.500000             3729.0             1.0        68.315789   \n",
       "7           32.436620              425.0             1.0       178.746479   \n",
       "8           37.250000              258.0            15.0       357.500000   \n",
       "9           43.875000              192.0            17.0       158.833333   \n",
       "\n",
       "   likesCount_max  \n",
       "0          1953.0  \n",
       "1          4190.0  \n",
       "2          2006.0  \n",
       "3          1655.0  \n",
       "4          2697.0  \n",
       "5          1561.0  \n",
       "6           766.0  \n",
       "7          2511.0  \n",
       "8          2503.0  \n",
       "9           723.0  "
      ]
     },
     "execution_count": 85,
     "metadata": {},
     "output_type": "execute_result"
    }
   ],
   "source": [
    "comLike_df.head(10)"
   ]
  },
  {
   "cell_type": "code",
   "execution_count": 83,
   "metadata": {},
   "outputs": [],
   "source": [
    "with open('recommend_Index.txt','a+') as f:\n",
    "    for i in comLike_df.index:\n",
    "        f.write('<tr>\\n')\n",
    "        f.write('<td>'+ comLike_df.loc[i,'zhuanlan_name']+'</td>\\n')\n",
    "        f.write('<td>'+ str(comLike_df.loc[i,'zhuanlan_REI'])+'</td>\\n')\n",
    "        f.write('<td>'+ comLike_df.loc[i,'zhuanlan_url']+'</td>\\n')\n",
    "        f.write('<td>'+ str(comLike_df.loc[i,'published_period'])+'</td>\\n')\n",
    "        f.write('<td>'+ str(comLike_df.loc[i,'articles_count'])+'</td>\\n')\n",
    "        f.write('<td>'+ str(comLike_df.loc[i,'followers'])+'</td>\\n')\n",
    "        f.write('<td>'+ str(comLike_df.loc[i,'commentsCount_min'])+'</td>\\n')\n",
    "        f.write('<td>'+ str(comLike_df.loc[i,'commentsCount_mean'])+'</td>\\n')\n",
    "        f.write('<td>'+ str(comLike_df.loc[i,'commentsCount_max'])+'</td>\\n')\n",
    "        f.write('<td>'+ str(comLike_df.loc[i,'likesCount_min'])+'</td>\\n')\n",
    "        f.write('<td>'+ str(comLike_df.loc[i,'likesCount_mean'])+'</td>\\n')\n",
    "        f.write('<td>'+ str(comLike_df.loc[i,'likesCount_max'])+'</td>\\n')\n",
    "        f.write('</tr>\\n')\n",
    "        f.write('\\n')"
   ]
  },
  {
   "cell_type": "code",
   "execution_count": 84,
   "metadata": {},
   "outputs": [
    {
     "data": {
      "text/html": [
       "<div>\n",
       "<style>\n",
       "    .dataframe thead tr:only-child th {\n",
       "        text-align: right;\n",
       "    }\n",
       "\n",
       "    .dataframe thead th {\n",
       "        text-align: left;\n",
       "    }\n",
       "\n",
       "    .dataframe tbody tr th {\n",
       "        vertical-align: top;\n",
       "    }\n",
       "</style>\n",
       "<table border=\"1\" class=\"dataframe\">\n",
       "  <thead>\n",
       "    <tr style=\"text-align: right;\">\n",
       "      <th></th>\n",
       "      <th>zhuanlan_name</th>\n",
       "      <th>zhuanlan_REI</th>\n",
       "      <th>zhuanlan_url</th>\n",
       "      <th>published_period</th>\n",
       "      <th>articles_count</th>\n",
       "      <th>followers</th>\n",
       "      <th>commentsCount_min</th>\n",
       "      <th>commentsCount_mean</th>\n",
       "      <th>commentsCount_max</th>\n",
       "      <th>likesCount_min</th>\n",
       "      <th>likesCount_mean</th>\n",
       "      <th>likesCount_max</th>\n",
       "    </tr>\n",
       "  </thead>\n",
       "  <tbody>\n",
       "    <tr>\n",
       "      <th>102</th>\n",
       "      <td>每天都要机器学习哦</td>\n",
       "      <td>582.316004</td>\n",
       "      <td>https://zhuanlan.zhihu.com/leemoo</td>\n",
       "      <td>5.588235</td>\n",
       "      <td>17</td>\n",
       "      <td>1576</td>\n",
       "      <td>0.0</td>\n",
       "      <td>7.0</td>\n",
       "      <td>57.0</td>\n",
       "      <td>0.0</td>\n",
       "      <td>40.722222</td>\n",
       "      <td>173.0</td>\n",
       "    </tr>\n",
       "  </tbody>\n",
       "</table>\n",
       "</div>"
      ],
      "text/plain": [
       "    zhuanlan_name  zhuanlan_REI                       zhuanlan_url  \\\n",
       "102     每天都要机器学习哦    582.316004  https://zhuanlan.zhihu.com/leemoo   \n",
       "\n",
       "     published_period  articles_count  followers  commentsCount_min  \\\n",
       "102          5.588235              17       1576                0.0   \n",
       "\n",
       "     commentsCount_mean  commentsCount_max  likesCount_min  likesCount_mean  \\\n",
       "102                 7.0               57.0             0.0        40.722222   \n",
       "\n",
       "     likesCount_max  \n",
       "102           173.0  "
      ]
     },
     "execution_count": 84,
     "metadata": {},
     "output_type": "execute_result"
    }
   ],
   "source": [
    "comLike_df[comLike_df['zhuanlan_name'] == '每天都要机器学习哦']"
   ]
  },
  {
   "cell_type": "markdown",
   "metadata": {},
   "source": [
    "# 前十推荐专栏文章内容分析"
   ]
  },
  {
   "cell_type": "markdown",
   "metadata": {},
   "source": [
    "## 文章标题主题分类"
   ]
  },
  {
   "cell_type": "code",
   "execution_count": 107,
   "metadata": {},
   "outputs": [
    {
     "data": {
      "text/plain": [
       "4202           TensorFlow全新的数据读取方式：Dataset API入门教程\n",
       "4203              如何优雅地用TensorFlow预测时间序列：TFTS库详细教程\n",
       "4204                               AI可能真的要代替插画师了……\n",
       "4205              可能是近期最好玩的深度学习模型：CycleGAN的原理与实验详解\n",
       "4206                       TensorFlow中RNN实现的正确打开方式\n",
       "4207             完全图解RNN、RNN变体、Seq2Seq、Attention机制\n",
       "4208                      如何用TensorFlow生成令人惊艳的分形图案\n",
       "4209    「Show and Tell」——图像标注（Image Caption）任务技术综述\n",
       "4210                当人工智能遇见黑暗之魂：如何使用神经网络训练一个PVP AI\n",
       "4211                     十图详解tensorflow数据读取机制（附代码）\n",
       "4212    通过文字描述来生成二次元妹子！聊聊conditional GAN与txt2img模型\n",
       "4213                        GAN学习指南：从原理入门到制作生成Demo\n",
       "4214                   深度学习实践：使用Tensorflow实现快速风格迁移\n",
       "4215                             训练集样本不平衡问题对CNN的影响\n",
       "Name: title, dtype: object"
      ]
     },
     "execution_count": 107,
     "metadata": {},
     "output_type": "execute_result"
    }
   ],
   "source": [
    "df_article.loc[df_article['zhuanlan_url']=='https://zhuanlan.zhihu.com/ai-insight','title']"
   ]
  },
  {
   "cell_type": "code",
   "execution_count": 112,
   "metadata": {
    "collapsed": true
   },
   "outputs": [],
   "source": [
    "import jieba\n",
    "import re,pickle\n",
    "from sklearn.feature_extraction.text import TfidfVectorizer,CountVectorizer"
   ]
  },
  {
   "cell_type": "code",
   "execution_count": 130,
   "metadata": {},
   "outputs": [],
   "source": [
    "jieba.load_userdict('jieba_dict.txt')\n",
    "stop_word = pickle.load(open('stop_word.pkl','rb'))\n",
    "def deal_data(text):\n",
    "    text = text.upper()\n",
    "    text = re.sub(' ','',text)\n",
    "    text = jieba.cut(text)\n",
    "    text = [word for word in text if word not in stop_word]\n",
    "    return text"
   ]
  },
  {
   "cell_type": "code",
   "execution_count": 131,
   "metadata": {},
   "outputs": [],
   "source": [
    "def make_corpus(data):\n",
    "    corpus = []\n",
    "    for line in data:\n",
    "        text = str(line)\n",
    "        text = deal_data(text)\n",
    "        corpus.append(text)\n",
    "    return corpus"
   ]
  },
  {
   "cell_type": "code",
   "execution_count": 132,
   "metadata": {},
   "outputs": [],
   "source": [
    "corpus = make_corpus(df_article['title'])"
   ]
  },
  {
   "cell_type": "code",
   "execution_count": 133,
   "metadata": {},
   "outputs": [],
   "source": [
    "from gensim import models,corpora,similarities\n",
    "\n",
    "dictionary = corpora.Dictionary(corpus)\n",
    "corpus_ = [dictionary.doc2bow(text) for text in corpus]\n",
    "tfidf = models.TfidfModel(corpus_)\n",
    "corpus_tiidf = tfidf[corpus_]\n",
    "\n",
    "lsi = models.LsiModel(corpus_tiidf,id2word=dictionary, num_topics = 10)\n"
   ]
  },
  {
   "cell_type": "code",
   "execution_count": 148,
   "metadata": {},
   "outputs": [
    {
     "data": {
      "text/plain": [
       "[(0,\n",
       "  '-0.513*\"笔记\" + -0.331*\"机器学习\" + -0.326*\"学习\" + -0.218*\"深度学习\" + -0.215*\"阅读\" + -0.190*\"课程\" + -0.185*\"神经网络\" + -0.178*\"PYTHON\" + -0.168*\"入门\" + -0.136*\"算法\" + -0.119*\"数据分析\" + -0.108*\"基础\" + -0.090*\"TENSORFLOW\" + -0.089*\"翻译\" + -0.087*\"论文\" + -0.085*\"模型\" + -0.085*\"讲\" + -0.084*\"回归\" + -0.084*\"林轩\" + -0.084*\"田\"'),\n",
       " (1,\n",
       "  '-0.459*\"笔记\" + 0.434*\"PYTHON\" + -0.378*\"阅读\" + 0.352*\"数据分析\" + 0.267*\"入门\" + 0.164*\"可视化\" + 0.142*\"实例\" + 0.129*\"基础\" + 0.103*\"实践\" + -0.097*\"课程\" + 0.094*\"数据\" + 0.085*\"深度学习\" + 0.084*\"强化学习\" + 0.078*\"TENSORFLOW\" + 0.076*\"算法\" + 0.074*\"爬虫\" + 0.070*\"中\" + -0.067*\"论文\" + 0.064*\"机器学习\" + 0.063*\"模型\"'),\n",
       " (2,\n",
       "  '0.560*\"机器学习\" + -0.289*\"数据分析\" + -0.287*\"PYTHON\" + -0.283*\"阅读\" + -0.213*\"笔记\" + 0.202*\"题\" + 0.202*\"算法\" + -0.146*\"学习\" + -0.140*\"可视化\" + 0.134*\"回归\" + 0.125*\"面试\" + 0.122*\"系列\" + -0.117*\"实例\" + -0.113*\"神经网络\" + 0.111*\"BAT\" + 0.110*\"1000\" + 0.095*\"田\" + 0.095*\"林轩\" + 0.094*\"讲\" + 0.091*\"强化学习\"'),\n",
       " (3,\n",
       "  '-0.555*\"深度学习\" + 0.324*\"数据分析\" + 0.275*\"机器学习\" + -0.236*\"神经网络\" + -0.232*\"TENSORFLOW\" + 0.197*\"PYTHON\" + -0.159*\"一行\" + -0.141*\"网络\" + -0.135*\"模型\" + 0.124*\"可视化\" + 0.122*\"阅读\" + 0.109*\"实例\" + -0.103*\"强化学习\" + 0.102*\"笔记\" + -0.095*\"AI\" + -0.091*\"中\" + -0.090*\"KERAS\" + -0.086*\"入门\" + -0.082*\"CNN\" + -0.082*\"深度\"'),\n",
       " (4,\n",
       "  '-0.504*\"学习\" + 0.426*\"神经网络\" + -0.345*\"入门\" + 0.339*\"PYTHON\" + 0.192*\"课程\" + 0.131*\"机器学习\" + -0.126*\"语言\" + -0.124*\"TENSORFLOW\" + -0.122*\"R\" + 0.109*\"基础\" + 0.109*\"翻译\" + -0.107*\"强化学习\" + 0.094*\"吴恩达\" + 0.090*\"可视化\" + -0.086*\"放弃\" + 0.083*\"深度学习\" + -0.080*\"增强\" + 0.077*\"实例\" + -0.068*\"实践\" + 0.067*\"CS231N\"'),\n",
       " (5,\n",
       "  '0.502*\"入门\" + -0.498*\"学习\" + 0.384*\"阅读\" + 0.204*\"强化学习\" + 0.141*\"PYTHON\" + -0.140*\"课程\" + 0.139*\"TENSORFLOW\" + -0.134*\"深度学习\" + 0.116*\"系列\" + 0.114*\"放弃\" + -0.113*\"数据分析\" + 0.102*\"题\" + 0.097*\"笔记\" + 0.093*\"快速\" + -0.092*\"计划\" + 0.091*\"CV\" + 0.074*\"PYTORCH\" + 0.072*\"分钟\" + 0.064*\"读书笔记\" + 0.064*\"经典\"'),\n",
       " (6,\n",
       "  '0.499*\"算法\" + -0.292*\"深度学习\" + -0.286*\"入门\" + 0.225*\"模型\" + 0.200*\"强化学习\" + -0.190*\"课程\" + 0.183*\"回归\" + -0.182*\"题\" + 0.165*\"TENSORFLOW\" + 0.132*\"分类\" + 0.129*\"理解\" + -0.120*\"机器学习\" + 0.111*\"CNN\" + -0.109*\"系列\" + -0.100*\"面试\" + -0.100*\"BAT\" + -0.099*\"1000\" + 0.096*\"神经网络\" + -0.094*\"数据分析\" + 0.092*\"线性\"'),\n",
       " (7,\n",
       "  '-0.391*\"入门\" + 0.367*\"题\" + 0.319*\"TENSORFLOW\" + -0.249*\"神经网络\" + 0.223*\"面试\" + 0.200*\"BAT\" + 0.199*\"1000\" + 0.199*\"系列\" + -0.190*\"课程\" + 0.184*\"阅读\" + 0.142*\"数据分析\" + 0.137*\"数据\" + 0.117*\"一行\" + -0.114*\"算法\" + 0.108*\"模型\" + -0.098*\"放弃\" + -0.097*\"翻译\" + -0.090*\"强化学习\" + 0.087*\"网络\" + 0.084*\"中\"'),\n",
       " (8,\n",
       "  '0.648*\"TENSORFLOW\" + -0.348*\"深度学习\" + -0.315*\"算法\" + 0.236*\"课程\" + 0.180*\"翻译\" + -0.174*\"阅读\" + 0.099*\"CS229\" + 0.097*\"神经网络\" + 0.096*\"斯坦福大学\" + -0.091*\"题\" + 0.090*\"CS231N\" + 0.088*\"CNN\" + 0.088*\"讲义\" + 0.085*\"初步\" + 0.077*\"安装\" + -0.077*\"系列\" + 0.072*\"GAN\" + -0.071*\"一行\" + 0.071*\"深度\" + -0.067*\"面试\"'),\n",
       " (9,\n",
       "  '0.470*\"神经网络\" + 0.323*\"题\" + 0.289*\"强化学习\" + 0.270*\"学习\" + 0.262*\"系列\" + -0.216*\"深度学习\" + 0.176*\"面试\" + 0.176*\"BAT\" + 0.175*\"1000\" + -0.162*\"机器学习\" + -0.121*\"一行\" + -0.120*\"中\" + -0.116*\"回归\" + 0.114*\"深度\" + -0.098*\"阅读\" + -0.096*\"数据分析\" + -0.089*\"数据\" + -0.084*\"系统\" + -0.079*\"模型\" + -0.074*\"TENSORFLOW\"')]"
      ]
     },
     "execution_count": 148,
     "metadata": {},
     "output_type": "execute_result"
    }
   ],
   "source": [
    "lsi.print_topics(num_topics=10, num_words=20)"
   ]
  },
  {
   "cell_type": "code",
   "execution_count": 136,
   "metadata": {},
   "outputs": [],
   "source": [
    "test_text = '如何优雅地用TensorFlow预测时间序列：TFTS库详细教程'\n",
    "test_text = deal_data(test_text)\n",
    "test_bow = dictionary.doc2bow(test_text)\n",
    "test_lsi = lsi[test_bow]"
   ]
  },
  {
   "cell_type": "code",
   "execution_count": 137,
   "metadata": {},
   "outputs": [
    {
     "data": {
      "text/plain": [
       "[(0, -0.16992401619492636),\n",
       " (1, 0.16650707540391096),\n",
       " (2, -0.043419034143707548),\n",
       " (3, -0.25418315178481449),\n",
       " (4, -0.14660814654199777),\n",
       " (5, 0.11924932464105902),\n",
       " (6, 0.20001282781761126),\n",
       " (7, 0.39891875774063684),\n",
       " (8, 0.69431035750226766),\n",
       " (9, -0.062935508077685526)]"
      ]
     },
     "execution_count": 137,
     "metadata": {},
     "output_type": "execute_result"
    }
   ],
   "source": [
    "test_lsi"
   ]
  },
  {
   "cell_type": "code",
   "execution_count": 142,
   "metadata": {},
   "outputs": [
    {
     "data": {
      "text/plain": [
       "[(8, 0.69431035750226766),\n",
       " (7, 0.39891875774063684),\n",
       " (6, 0.20001282781761126),\n",
       " (1, 0.16650707540391096),\n",
       " (5, 0.11924932464105902),\n",
       " (2, -0.043419034143707548),\n",
       " (9, -0.062935508077685526),\n",
       " (4, -0.14660814654199777),\n",
       " (0, -0.16992401619492636),\n",
       " (3, -0.25418315178481449)]"
      ]
     },
     "execution_count": 142,
     "metadata": {},
     "output_type": "execute_result"
    }
   ],
   "source": [
    "sorted(test_lsi,key = lambda x:x[1],reverse = True)"
   ]
  },
  {
   "cell_type": "markdown",
   "metadata": {},
   "source": [
    "## 测试语句属于第8个主题的概率最大，为0.69"
   ]
  },
  {
   "cell_type": "code",
   "execution_count": 139,
   "metadata": {},
   "outputs": [
    {
     "data": {
      "text/plain": [
       "[('TENSORFLOW', 0.64756969413399812),\n",
       " ('深度学习', -0.34771117197533408),\n",
       " ('算法', -0.31522069129457225),\n",
       " ('课程', 0.23557708685778173),\n",
       " ('翻译', 0.17976032673024467)]"
      ]
     },
     "execution_count": 139,
     "metadata": {},
     "output_type": "execute_result"
    }
   ],
   "source": [
    "lsi.show_topic(8, topn=5)"
   ]
  },
  {
   "cell_type": "markdown",
   "metadata": {},
   "source": [
    "TensorFlow对应TENSORFLOW；\n",
    "\n",
    "教程对应课程"
   ]
  },
  {
   "cell_type": "markdown",
   "metadata": {},
   "source": [
    "## 前十推荐专栏里的文章主题分布\n"
   ]
  },
  {
   "cell_type": "code",
   "execution_count": 143,
   "metadata": {
    "collapsed": true
   },
   "outputs": [],
   "source": [
    "def get_topic(lsi,text):\n",
    "    test_text = deal_data(text)\n",
    "    test_bow = dictionary.doc2bow(test_text)\n",
    "    test_lsi = lsi[test_bow]\n",
    "    sort_test_lsi = sorted(test_lsi,key = lambda x:x[1],reverse = True)\n",
    "    topic = sort_test_lsi[0][0]\n",
    "    return topic"
   ]
  },
  {
   "cell_type": "code",
   "execution_count": 146,
   "metadata": {},
   "outputs": [
    {
     "name": "stdout",
     "output_type": "stream",
     "text": [
      "grapeot 专栏文章主题分布： Counter({7: 9, 6: 8, 1: 4, 5: 2, 2: 2, 4: 2, 8: 1})\n"
     ]
    }
   ],
   "source": [
    "from collections import Counter\n",
    "\n",
    "grapeot = df_article.loc[df_article['zhuanlan_url']=='https://zhuanlan.zhihu.com/grapeot','title']\n",
    "topict_list = []\n",
    "for text in grapeot:\n",
    "    topict_list.append(get_topic(lsi,text))\n",
    "print('grapeot 专栏文章主题分布：',Counter(topict_list))"
   ]
  },
  {
   "cell_type": "code",
   "execution_count": 147,
   "metadata": {},
   "outputs": [
    {
     "name": "stdout",
     "output_type": "stream",
     "text": [
      "ai_insight 专栏文章主题分布： Counter({8: 6, 7: 4, 1: 1, 4: 1, 6: 1, 5: 1})\n"
     ]
    }
   ],
   "source": [
    "ai_insight = df_article.loc[df_article['zhuanlan_url']=='https://zhuanlan.zhihu.com/ai-insight','title']\n",
    "topict_list = []\n",
    "for text in ai_insight:\n",
    "    topict_list.append(get_topic(lsi,text))\n",
    "print('ai_insight 专栏文章主题分布：',Counter(topict_list))"
   ]
  },
  {
   "cell_type": "code",
   "execution_count": 149,
   "metadata": {},
   "outputs": [
    {
     "name": "stdout",
     "output_type": "stream",
     "text": [
      "ai_leader 专栏文章主题分布： Counter({6: 2, 8: 2, 5: 1, 7: 1})\n"
     ]
    }
   ],
   "source": [
    "ai_leader = df_article.loc[df_article['zhuanlan_url']=='https://zhuanlan.zhihu.com/ai-leader','title']\n",
    "topict_list = []\n",
    "for text in ai_leader:\n",
    "    topict_list.append(get_topic(lsi,text))\n",
    "print('ai_leader 专栏文章主题分布：',Counter(topict_list))"
   ]
  },
  {
   "cell_type": "code",
   "execution_count": 154,
   "metadata": {},
   "outputs": [
    {
     "name": "stdout",
     "output_type": "stream",
     "text": [
      "intelligentunit 专栏文章主题分布： Counter({9: 20, 8: 20, 1: 19, 4: 11, 6: 10, 5: 7, 7: 6, 2: 1})\n",
      "chenran 专栏文章主题分布： Counter({1: 10, 7: 8, 5: 6, 8: 4, 6: 1, 4: 1})\n",
      "zimei 专栏文章主题分布： Counter({1: 144, 7: 35, 6: 30, 2: 10, 8: 9, 5: 8, 9: 4, 4: 3})\n",
      "pmcaff 专栏文章主题分布： Counter({7: 15, 1: 12, 6: 5, 5: 2, 8: 2, 4: 1, 9: 1})\n",
      "c_94187513 专栏文章主题分布： Counter({7: 30, 1: 23, 6: 5, 5: 4, 4: 3, 2: 3, 8: 2, 9: 1})\n",
      "ai4application 专栏文章主题分布： Counter({1: 4, 8: 2, 9: 1, 6: 1})\n"
     ]
    }
   ],
   "source": [
    "zhuanlan_list = ['intelligentunit','chenran','zimei','pmcaff','c_94187513','ai4application']\n",
    "for zhuanlan in zhuanlan_list:\n",
    "    zhuanlan_name = df_article.loc[df_article['zhuanlan_url']=='https://zhuanlan.zhihu.com/'+zhuanlan ,'title']\n",
    "    topict_list = []\n",
    "    for text in zhuanlan_name:\n",
    "        topict_list.append(get_topic(lsi,text))\n",
    "    print('%s 专栏文章主题分布：'%zhuanlan,Counter(topict_list))"
   ]
  },
  {
   "cell_type": "code",
   "execution_count": 155,
   "metadata": {},
   "outputs": [
    {
     "name": "stdout",
     "output_type": "stream",
     "text": [
      "nullptr 专栏文章主题分布： Counter({1: 13, 9: 10, 7: 9, 6: 5, 4: 4, 8: 3, 3: 1, 2: 1, 5: 1})\n"
     ]
    }
   ],
   "source": [
    "nullptr = df_article.loc[df_article['zhuanlan_url']=='https://zhuanlan.zhihu.com/'+'nullptr' ,'title']\n",
    "topict_list = []\n",
    "for text in nullptr:\n",
    "    try:\n",
    "        topic = get_topic(lsi,text)\n",
    "        topict_list.append(topic)\n",
    "    except:\n",
    "        continue\n",
    "print('nullptr 专栏文章主题分布：',Counter(topict_list))"
   ]
  },
  {
   "cell_type": "code",
   "execution_count": null,
   "metadata": {
    "collapsed": true
   },
   "outputs": [],
   "source": []
  }
 ],
 "metadata": {
  "kernelspec": {
   "display_name": "Python 3",
   "language": "python",
   "name": "python3"
  },
  "language_info": {
   "codemirror_mode": {
    "name": "ipython",
    "version": 3
   },
   "file_extension": ".py",
   "mimetype": "text/x-python",
   "name": "python",
   "nbconvert_exporter": "python",
   "pygments_lexer": "ipython3",
   "version": "3.6.2"
  }
 },
 "nbformat": 4,
 "nbformat_minor": 2
}
