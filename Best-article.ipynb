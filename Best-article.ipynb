{
 "cells": [
  {
   "cell_type": "code",
   "execution_count": 1,
   "metadata": {
    "collapsed": true
   },
   "outputs": [],
   "source": [
    "import pandas as pd\n",
    "import numpy as np\n",
    "import matplotlib.pyplot as plt\n",
    "from datetime import datetime\n",
    "import math"
   ]
  },
  {
   "cell_type": "code",
   "execution_count": 4,
   "metadata": {
    "collapsed": true
   },
   "outputs": [],
   "source": [
    "df_article = pd.read_csv('./data/zhuanlan_article.csv',header=0)\n",
    "df_info = pd.read_csv('./data/zhuanlan_info.csv',header=None)\n",
    "df_info.columns = ['zhuanlan_name','zhuanlan_author','description','zhuanlan_url','articles_count','followers']\n",
    "\n",
    "df_data = pd.merge(df_info[['zhuanlan_name','zhuanlan_url','followers']],\\\n",
    "                  df_article[['zhuanlan_url','title','article_url','publishedTime','commentsCount','likesCount','content']],\\\n",
    "                  how = 'inner',on = 'zhuanlan_url')"
   ]
  },
  {
   "cell_type": "code",
   "execution_count": 6,
   "metadata": {},
   "outputs": [
    {
     "data": {
      "text/plain": [
       "6587"
      ]
     },
     "execution_count": 6,
     "metadata": {},
     "output_type": "execute_result"
    }
   ],
   "source": [
    "len(df_article)"
   ]
  },
  {
   "cell_type": "code",
   "execution_count": 7,
   "metadata": {
    "collapsed": true
   },
   "outputs": [],
   "source": [
    "df_data.loc[:,'publishedTime'] = df_data.loc[:,'publishedTime'].map(lambda x : x.split('T')[0])\n",
    "df_data = df_data.sort_values(by=['zhuanlan_name','publishedTime'])"
   ]
  },
  {
   "cell_type": "markdown",
   "metadata": {},
   "source": [
    "# 提取专栏的首次发文时间和最后一次发文时间"
   ]
  },
  {
   "cell_type": "code",
   "execution_count": 8,
   "metadata": {
    "collapsed": true
   },
   "outputs": [],
   "source": [
    "first_pub = df_data[['zhuanlan_name','publishedTime']].copy()\n",
    "first_pub.drop_duplicates(subset='zhuanlan_name', keep='first', inplace=True)\n",
    "first_pub.columns = ['zhuanlan_name','first_publishedTime']\n",
    "\n",
    "last_pub = df_data[['zhuanlan_name','publishedTime']].copy()\n",
    "last_pub.drop_duplicates(subset='zhuanlan_name', keep='last', inplace=True)\n",
    "last_pub.columns = ['zhuanlan_name','last_publishedTime']\n",
    "\n",
    "df_data = pd.merge(df_data,first_pub,how='left',on='zhuanlan_name')\n",
    "df_data = pd.merge(df_data,last_pub,how='left',on='zhuanlan_name')"
   ]
  },
  {
   "cell_type": "code",
   "execution_count": 9,
   "metadata": {
    "collapsed": true
   },
   "outputs": [],
   "source": [
    "df_data['publishedTime'] = df_data['publishedTime'].map(lambda x : datetime.strptime(x,'%Y-%m-%d'))\n",
    "df_data['first_publishedTime'] = df_data['first_publishedTime'].map(lambda x : datetime.strptime(x,'%Y-%m-%d'))\n",
    "df_data['last_publishedTime'] = df_data['last_publishedTime'].map(lambda x : datetime.strptime(x,'%Y-%m-%d'))"
   ]
  },
  {
   "cell_type": "markdown",
   "metadata": {},
   "source": [
    "## 增加三列作为辅助列计算专栏的关注人数修正值"
   ]
  },
  {
   "cell_type": "markdown",
   "metadata": {},
   "source": [
    "计算每篇文章的发文日期距离专栏开通日期的天数，最后 +1 做平滑，方便后面的“除法运算”"
   ]
  },
  {
   "cell_type": "code",
   "execution_count": 10,
   "metadata": {
    "collapsed": true
   },
   "outputs": [],
   "source": [
    "df_data['published_day'] = df_data['publishedTime'] - df_data['first_publishedTime']\n",
    "df_data['published_day'] = df_data['published_day'].map(lambda x: x.days) + 1"
   ]
  },
  {
   "cell_type": "markdown",
   "metadata": {},
   "source": [
    "计算最后一次发文日期距离第一篇文章的发文日期的天数，最后 +1 做平滑，方便后面的“除法运算”"
   ]
  },
  {
   "cell_type": "code",
   "execution_count": 11,
   "metadata": {
    "collapsed": true
   },
   "outputs": [],
   "source": [
    "df_data['published_w_day'] = df_data['last_publishedTime'] - df_data['first_publishedTime']\n",
    "df_data['published_w_day'] = df_data['published_w_day'].map(lambda x: x.days + 1)"
   ]
  },
  {
   "cell_type": "markdown",
   "metadata": {},
   "source": [
    "### 关注人数修正值计算方法\n",
    "\n",
    "假设专栏的关注人数是以直线增长的，如下图所示\n",
    "![](pic1.png)"
   ]
  },
  {
   "cell_type": "code",
   "execution_count": 12,
   "metadata": {
    "collapsed": true
   },
   "outputs": [],
   "source": [
    "df_data.loc[:,'correction_followers'] = df_data['published_day']/df_data['published_w_day']\n",
    "df_data.loc[:,'correction_followers'] = df_data.loc[:,'correction_followers'] * df_data.loc[:,'followers']\n",
    "df_data.loc[:,'correction_followers'] = df_data.loc[:,'correction_followers'].map(lambda x : round(x)+1)"
   ]
  },
  {
   "cell_type": "code",
   "execution_count": 13,
   "metadata": {
    "collapsed": true
   },
   "outputs": [],
   "source": [
    "del df_data['first_publishedTime']\n",
    "del df_data['last_publishedTime']\n",
    "del df_data['published_day']\n",
    "del df_data['published_w_day']"
   ]
  },
  {
   "cell_type": "markdown",
   "metadata": {},
   "source": [
    "# 计算文章受欢迎指数\n",
    "\n",
    "计算方法：\n",
    "\n",
    "$$(commentCount + \\frac{1}{2} * likeCount)*  \\frac{1}{log_{5}(correction\\_followers +5)}$$"
   ]
  },
  {
   "cell_type": "code",
   "execution_count": 14,
   "metadata": {
    "collapsed": true
   },
   "outputs": [],
   "source": [
    "df_data['comLike'] = df_data['commentsCount'] + 0.5 * df_data['likesCount']\n",
    "df_data.loc[:,'correction_followers_log'] = df_data['correction_followers'].map(lambda x: 1/math.log(x+5,5))\n",
    "df_data.loc[:,'article_PPI'] = df_data['comLike'] * df_data['correction_followers_log']\n",
    "df_data['article_PPI'] = df_data['article_PPI'].astype('int')"
   ]
  },
  {
   "cell_type": "code",
   "execution_count": 15,
   "metadata": {
    "collapsed": true
   },
   "outputs": [],
   "source": [
    "del df_data['comLike']\n",
    "del df_data['correction_followers_log']"
   ]
  },
  {
   "cell_type": "code",
   "execution_count": 16,
   "metadata": {
    "collapsed": true
   },
   "outputs": [],
   "source": [
    "df_data = df_data.sort_values(by='article_PPI',ascending=False).reset_index()"
   ]
  },
  {
   "cell_type": "code",
   "execution_count": 17,
   "metadata": {
    "scrolled": false
   },
   "outputs": [
    {
     "data": {
      "text/html": [
       "<div>\n",
       "<style>\n",
       "    .dataframe thead tr:only-child th {\n",
       "        text-align: right;\n",
       "    }\n",
       "\n",
       "    .dataframe thead th {\n",
       "        text-align: left;\n",
       "    }\n",
       "\n",
       "    .dataframe tbody tr th {\n",
       "        vertical-align: top;\n",
       "    }\n",
       "</style>\n",
       "<table border=\"1\" class=\"dataframe\">\n",
       "  <thead>\n",
       "    <tr style=\"text-align: right;\">\n",
       "      <th></th>\n",
       "      <th>title</th>\n",
       "      <th>article_PPI</th>\n",
       "      <th>article_url</th>\n",
       "      <th>publishedTime</th>\n",
       "      <th>commentsCount</th>\n",
       "      <th>likesCount</th>\n",
       "      <th>zhuanlan_name</th>\n",
       "      <th>followers</th>\n",
       "    </tr>\n",
       "  </thead>\n",
       "  <tbody>\n",
       "    <tr>\n",
       "      <th>0</th>\n",
       "      <td>打算在知乎送一波邀请码：PMCAFF全球最大的产品经理社区（已结束）</td>\n",
       "      <td>774</td>\n",
       "      <td>https://zhuanlan.zhihu.com/p/25310515</td>\n",
       "      <td>2017-02-19</td>\n",
       "      <td>3729.0</td>\n",
       "      <td>258.0</td>\n",
       "      <td>PMCAFF产品社区</td>\n",
       "      <td>3767</td>\n",
       "    </tr>\n",
       "    <tr>\n",
       "      <th>1</th>\n",
       "      <td>AI可能真的要代替插画师了……</td>\n",
       "      <td>475</td>\n",
       "      <td>https://zhuanlan.zhihu.com/p/28488946</td>\n",
       "      <td>2017-08-13</td>\n",
       "      <td>399.0</td>\n",
       "      <td>4190.0</td>\n",
       "      <td>AI Insight</td>\n",
       "      <td>6004</td>\n",
       "    </tr>\n",
       "    <tr>\n",
       "      <th>2</th>\n",
       "      <td>十款被人忽视的堪称神器的软件 好用又实用</td>\n",
       "      <td>419</td>\n",
       "      <td>https://zhuanlan.zhihu.com/p/26740908</td>\n",
       "      <td>2017-05-06</td>\n",
       "      <td>102.0</td>\n",
       "      <td>2511.0</td>\n",
       "      <td>程序猿数据爱好者</td>\n",
       "      <td>3802</td>\n",
       "    </tr>\n",
       "    <tr>\n",
       "      <th>3</th>\n",
       "      <td>强烈推荐的机器学习，深度学习课程以及python库</td>\n",
       "      <td>402</td>\n",
       "      <td>https://zhuanlan.zhihu.com/p/24768878</td>\n",
       "      <td>2017-01-07</td>\n",
       "      <td>82.0</td>\n",
       "      <td>1333.0</td>\n",
       "      <td>深度学习炼丹师</td>\n",
       "      <td>1494</td>\n",
       "    </tr>\n",
       "    <tr>\n",
       "      <th>4</th>\n",
       "      <td>当你们羡慕IT程序员月薪两三万时，请看深圳这些科技公司的夜晚</td>\n",
       "      <td>371</td>\n",
       "      <td>https://zhuanlan.zhihu.com/p/26566138</td>\n",
       "      <td>2017-04-25</td>\n",
       "      <td>389.0</td>\n",
       "      <td>628.0</td>\n",
       "      <td>程序猿数据爱好者</td>\n",
       "      <td>3802</td>\n",
       "    </tr>\n",
       "    <tr>\n",
       "      <th>5</th>\n",
       "      <td>AI玩微信跳一跳的正确姿势 --跳一跳Auto-Jump算法详解</td>\n",
       "      <td>323</td>\n",
       "      <td>https://zhuanlan.zhihu.com/p/32636329</td>\n",
       "      <td>2018-01-04</td>\n",
       "      <td>258.0</td>\n",
       "      <td>2503.0</td>\n",
       "      <td>学术兴趣小组</td>\n",
       "      <td>1809</td>\n",
       "    </tr>\n",
       "    <tr>\n",
       "      <th>6</th>\n",
       "      <td>深度学习岗位面试问题整理笔记</td>\n",
       "      <td>309</td>\n",
       "      <td>https://zhuanlan.zhihu.com/p/25005808</td>\n",
       "      <td>2017-02-09</td>\n",
       "      <td>20.0</td>\n",
       "      <td>915.0</td>\n",
       "      <td>许韩VS许韩</td>\n",
       "      <td>694</td>\n",
       "    </tr>\n",
       "    <tr>\n",
       "      <th>7</th>\n",
       "      <td>深层学习为何要“Deep”（上）</td>\n",
       "      <td>309</td>\n",
       "      <td>https://zhuanlan.zhihu.com/p/22888385</td>\n",
       "      <td>2016-10-12</td>\n",
       "      <td>83.0</td>\n",
       "      <td>1071.0</td>\n",
       "      <td>超智能体</td>\n",
       "      <td>8491</td>\n",
       "    </tr>\n",
       "    <tr>\n",
       "      <th>8</th>\n",
       "      <td>人工智能打脸史</td>\n",
       "      <td>298</td>\n",
       "      <td>https://zhuanlan.zhihu.com/p/20622308</td>\n",
       "      <td>2016-03-05</td>\n",
       "      <td>279.0</td>\n",
       "      <td>2697.0</td>\n",
       "      <td>Hello 陈然！</td>\n",
       "      <td>11209</td>\n",
       "    </tr>\n",
       "    <tr>\n",
       "      <th>9</th>\n",
       "      <td>AI玩微信跳一跳的正确姿势 --跳一跳Auto-Jump算法详解</td>\n",
       "      <td>292</td>\n",
       "      <td>https://zhuanlan.zhihu.com/p/32636329</td>\n",
       "      <td>2018-01-04</td>\n",
       "      <td>258.0</td>\n",
       "      <td>2503.0</td>\n",
       "      <td>人工智能应用系列</td>\n",
       "      <td>4069</td>\n",
       "    </tr>\n",
       "  </tbody>\n",
       "</table>\n",
       "</div>"
      ],
      "text/plain": [
       "                                title  article_PPI  \\\n",
       "0  打算在知乎送一波邀请码：PMCAFF全球最大的产品经理社区（已结束）          774   \n",
       "1                     AI可能真的要代替插画师了……          475   \n",
       "2                十款被人忽视的堪称神器的软件 好用又实用          419   \n",
       "3           强烈推荐的机器学习，深度学习课程以及python库          402   \n",
       "4      当你们羡慕IT程序员月薪两三万时，请看深圳这些科技公司的夜晚          371   \n",
       "5    AI玩微信跳一跳的正确姿势 --跳一跳Auto-Jump算法详解          323   \n",
       "6                      深度学习岗位面试问题整理笔记          309   \n",
       "7                    深层学习为何要“Deep”（上）          309   \n",
       "8                             人工智能打脸史          298   \n",
       "9    AI玩微信跳一跳的正确姿势 --跳一跳Auto-Jump算法详解          292   \n",
       "\n",
       "                             article_url publishedTime  commentsCount  \\\n",
       "0  https://zhuanlan.zhihu.com/p/25310515    2017-02-19         3729.0   \n",
       "1  https://zhuanlan.zhihu.com/p/28488946    2017-08-13          399.0   \n",
       "2  https://zhuanlan.zhihu.com/p/26740908    2017-05-06          102.0   \n",
       "3  https://zhuanlan.zhihu.com/p/24768878    2017-01-07           82.0   \n",
       "4  https://zhuanlan.zhihu.com/p/26566138    2017-04-25          389.0   \n",
       "5  https://zhuanlan.zhihu.com/p/32636329    2018-01-04          258.0   \n",
       "6  https://zhuanlan.zhihu.com/p/25005808    2017-02-09           20.0   \n",
       "7  https://zhuanlan.zhihu.com/p/22888385    2016-10-12           83.0   \n",
       "8  https://zhuanlan.zhihu.com/p/20622308    2016-03-05          279.0   \n",
       "9  https://zhuanlan.zhihu.com/p/32636329    2018-01-04          258.0   \n",
       "\n",
       "   likesCount zhuanlan_name  followers  \n",
       "0       258.0    PMCAFF产品社区       3767  \n",
       "1      4190.0    AI Insight       6004  \n",
       "2      2511.0      程序猿数据爱好者       3802  \n",
       "3      1333.0       深度学习炼丹师       1494  \n",
       "4       628.0      程序猿数据爱好者       3802  \n",
       "5      2503.0        学术兴趣小组       1809  \n",
       "6       915.0        许韩VS许韩        694  \n",
       "7      1071.0          超智能体       8491  \n",
       "8      2697.0     Hello 陈然！      11209  \n",
       "9      2503.0      人工智能应用系列       4069  "
      ]
     },
     "execution_count": 17,
     "metadata": {},
     "output_type": "execute_result"
    }
   ],
   "source": [
    "df_data[['title','article_PPI','article_url','publishedTime','commentsCount','likesCount','zhuanlan_name','followers']].head(10)"
   ]
  },
  {
   "cell_type": "markdown",
   "metadata": {},
   "source": [
    "# LDA主题模型"
   ]
  },
  {
   "cell_type": "code",
   "execution_count": 18,
   "metadata": {},
   "outputs": [
    {
     "name": "stderr",
     "output_type": "stream",
     "text": [
      "Building prefix dict from the default dictionary ...\n",
      "Loading model from cache /var/folders/s5/cxqfsb816f36h8gp706x5kjm0000gn/T/jieba.cache\n",
      "Loading model cost 1.047 seconds.\n",
      "Prefix dict has been built succesfully.\n"
     ]
    }
   ],
   "source": [
    "import jieba\n",
    "import re\n",
    "import pickle\n",
    "from gensim import models,corpora,similarities\n",
    "\n",
    "jieba.load_userdict('jieba_dict.txt')\n",
    "stop_word = pickle.load(open('stop_word.pkl','rb'))\n",
    "stop_word.append('\\n')"
   ]
  },
  {
   "cell_type": "code",
   "execution_count": 19,
   "metadata": {
    "collapsed": true
   },
   "outputs": [],
   "source": [
    "def deal_data(text):\n",
    "    text = text.upper()\n",
    "    text = re.sub('[0-9]+','',text)\n",
    "    text = re.sub('ML','机器学习',text)\n",
    "    text = re.sub('NLP','自然语言处理',text)\n",
    "    text = re.sub('DL','深度学习',text)\n",
    "    text = re.sub('AI','人工智能',text)\n",
    "    text = re.sub('DEEP LEARNING','深度学习',text)\n",
    "    text = re.sub('MACHINE LEARNING','机器学习',text)\n",
    "    text = re.sub('NEURAL NETWORK','神经网络',text)\n",
    "    text = re.sub('CNN','卷积神经网络',text)\n",
    "    text = re.sub('RNN','循环神经网络',text)\n",
    "    text = jieba.cut(text)\n",
    "    text = [word for word in text if word not in stop_word]\n",
    "    text = [word for word in text if len(word)>1]\n",
    "    return text\n",
    "\n",
    "def make_corpus(data):\n",
    "    corpus = []\n",
    "    for line in data:\n",
    "        text = str(line)\n",
    "        text = deal_data(text)\n",
    "        corpus.append(text)\n",
    "    return corpus"
   ]
  },
  {
   "cell_type": "code",
   "execution_count": 20,
   "metadata": {
    "collapsed": true,
    "scrolled": true
   },
   "outputs": [],
   "source": [
    "corpus = make_corpus(df_data['content'])"
   ]
  },
  {
   "cell_type": "code",
   "execution_count": 21,
   "metadata": {
    "collapsed": true
   },
   "outputs": [],
   "source": [
    "dictionary = corpora.Dictionary(corpus)\n",
    "corpus_ = [dictionary.doc2bow(text) for text in corpus]\n",
    "tfidf = models.TfidfModel(corpus_)\n",
    "corpus_tfidf = tfidf[corpus_]"
   ]
  },
  {
   "cell_type": "code",
   "execution_count": 22,
   "metadata": {
    "collapsed": true
   },
   "outputs": [],
   "source": [
    "lda = models.LdaModel(corpus_tfidf, id2word = dictionary, num_topics = 200,alpha=1)"
   ]
  },
  {
   "cell_type": "code",
   "execution_count": 23,
   "metadata": {},
   "outputs": [
    {
     "data": {
      "text/plain": [
       "[(100,\n",
       "  '0.013*\"CH\" + 0.011*\"单带\" + 0.007*\"复清\" + 0.007*\"分改\" + 0.006*\"亿元\" + 0.006*\"FROM\" + 0.005*\"万美元\" + 0.005*\"发言\" + 0.005*\"CONSTANT\" + 0.005*\"巨头\" + 0.004*\"追求\" + 0.004*\"斜率\" + 0.004*\"指注\" + 0.004*\"手段\" + 0.003*\"高深\" + 0.003*\"结束\" + 0.003*\"吸引力\" + 0.003*\"后台\" + 0.003*\"互联网\" + 0.003*\"YOU\"'),\n",
       " (115,\n",
       "  '0.013*\"投入\" + 0.009*\"意识\" + 0.008*\"COM\" + 0.006*\"POOL\" + 0.006*\"MAX\" + 0.005*\"真实\" + 0.004*\"REGULARIZATION\" + 0.004*\"目标\" + 0.004*\"UNET\" + 0.004*\"巨量\" + 0.004*\"超平面\" + 0.004*\"分段\" + 0.003*\"中心\" + 0.003*\"FACE\" + 0.003*\"不行\" + 0.003*\"便利\" + 0.003*\"计划\" + 0.003*\"三大\" + 0.003*\"激动人心\" + 0.003*\"视频\"'),\n",
       " (73,\n",
       "  '0.009*\"做好\" + 0.005*\"被迫\" + 0.004*\"这方面\" + 0.004*\"下次\" + 0.004*\"笔记\" + 0.004*\"未来\" + 0.003*\"排序\" + 0.003*\"BASIC\" + 0.003*\"拆分\" + 0.003*\"ANY\" + 0.003*\"单例\" + 0.002*\"花费\" + 0.002*\"YET\" + 0.002*\"REPORT\" + 0.002*\"嘉宾\" + 0.002*\"系数\" + 0.002*\"NB\" + 0.002*\"HELLO\" + 0.002*\"旨在\" + 0.002*\"进程\"'),\n",
       " (168,\n",
       "  '0.014*\"社会\" + 0.012*\"老婆\" + 0.011*\"期权\" + 0.009*\"步骤\" + 0.007*\"机制\" + 0.006*\"AXIS\" + 0.006*\"理财\" + 0.006*\"CHANNEL\" + 0.005*\"资金\" + 0.004*\"共享\" + 0.004*\"DECOMPOSITION\" + 0.004*\"令人\" + 0.004*\"自由\" + 0.004*\"交给\" + 0.003*\"运动\" + 0.003*\"有助于\" + 0.003*\"###\" + 0.003*\"这项\" + 0.003*\"NG\" + 0.003*\"硬件\"'),\n",
       " (132,\n",
       "  '0.008*\"错误率\" + 0.005*\"伤害\" + 0.004*\"半年\" + 0.004*\"没用\" + 0.004*\"无视\" + 0.004*\"看官\" + 0.004*\"IMAGENET\" + 0.004*\"IDX\" + 0.003*\"旗下\" + 0.003*\"SR\" + 0.003*\"排序\" + 0.002*\"PYTORCH\" + 0.002*\"涵盖\" + 0.002*\"加速\" + 0.002*\"SIZE\" + 0.002*\"标准差\" + 0.002*\"战胜\" + 0.002*\"卖出\" + 0.002*\"NB\" + 0.002*\"无能为力\"'),\n",
       " (188,\n",
       "  '0.007*\"感兴趣\" + 0.007*\"内涵\" + 0.007*\"书籍\" + 0.006*\"LEVEL\" + 0.005*\"文件夹\" + 0.005*\"DISTANCE\" + 0.005*\"行为习惯\" + 0.004*\"PEOPLE\" + 0.004*\"PYPLOT\" + 0.004*\"MOTIONNET\" + 0.004*\"片段\" + 0.003*\"ROUTING\" + 0.003*\"出发\" + 0.003*\"成员\" + 0.003*\"一步步\" + 0.003*\"ACTION\" + 0.003*\"ARRAY\" + 0.002*\"如果说\" + 0.002*\"忽悠\" + 0.002*\"上午\"'),\n",
       " (184,\n",
       "  '0.034*\"笔记\" + 0.017*\"解读\" + 0.007*\"进度\" + 0.006*\"我要\" + 0.005*\"定位\" + 0.005*\"具备\" + 0.005*\"沟通\" + 0.004*\"补贴\" + 0.004*\"THE\" + 0.004*\"上门\" + 0.004*\"解释\" + 0.004*\"CONV\" + 0.003*\"公众\" + 0.003*\"ARRAYS\" + 0.003*\"功能\" + 0.003*\"发起\" + 0.003*\"GENETIC\" + 0.003*\"本书\" + 0.003*\"COCO\" + 0.003*\"厉害\"'),\n",
       " (119,\n",
       "  '0.012*\"FILTER\" + 0.008*\"HAS\" + 0.006*\"USERS\" + 0.005*\"THEN\" + 0.004*\"SCORE\" + 0.004*\"纵向\" + 0.004*\"插入\" + 0.003*\"BATCH\" + 0.003*\"LOOKS\" + 0.003*\"出处\" + 0.003*\"中心\" + 0.003*\"注重\" + 0.003*\"企业\" + 0.003*\"评估\" + 0.003*\"STANDARD\" + 0.003*\"信息论\" + 0.003*\"MEMORY\" + 0.002*\"少量\" + 0.002*\"博士\" + 0.002*\"反向\"'),\n",
       " (149,\n",
       "  '0.010*\"WE\" + 0.009*\"OUTPUT\" + 0.007*\"离散\" + 0.007*\"动力\" + 0.006*\"培养\" + 0.006*\"利润\" + 0.005*\"构造\" + 0.005*\"中介\" + 0.004*\"GLOBAL\" + 0.004*\"EXPERIMENT\" + 0.004*\"准则\" + 0.004*\"WWW\" + 0.004*\"高考\" + 0.003*\"FR\" + 0.003*\"原图\" + 0.003*\"入手\" + 0.002*\"房产\" + 0.002*\"是从\" + 0.002*\"OPTIONS\" + 0.002*\"引出\"'),\n",
       " (125,\n",
       "  '0.009*\"付出\" + 0.008*\"分步\" + 0.008*\"只会\" + 0.006*\"STRING\" + 0.006*\"程序员\" + 0.005*\"报告\" + 0.005*\"识别\" + 0.005*\"学到\" + 0.004*\"月份\" + 0.004*\"FINE\" + 0.004*\"看作\" + 0.004*\"....\" + 0.003*\"一部分\" + 0.003*\"体重\" + 0.003*\"估计\" + 0.003*\"LIVE\" + 0.003*\"OBT\" + 0.003*\"规模\" + 0.003*\"所说\" + 0.003*\"这句\"')]"
      ]
     },
     "execution_count": 23,
     "metadata": {},
     "output_type": "execute_result"
    }
   ],
   "source": [
    "lda.print_topics(num_topics=10, num_words=20)"
   ]
  },
  {
   "cell_type": "code",
   "execution_count": 24,
   "metadata": {
    "collapsed": true
   },
   "outputs": [],
   "source": [
    "doc_topic = []\n",
    "for i in range(len(corpus_)):\n",
    "    test_bow = corpus_[i]\n",
    "    test_lda = lda[test_bow]\n",
    "    try:\n",
    "        topic = sorted(test_lda,key = lambda x:x[1],reverse = True)[0][0]\n",
    "    except:\n",
    "        topic = 301\n",
    "    doc_topic.append(topic)"
   ]
  },
  {
   "cell_type": "code",
   "execution_count": 25,
   "metadata": {},
   "outputs": [],
   "source": [
    "from collections import Counter"
   ]
  },
  {
   "cell_type": "markdown",
   "metadata": {},
   "source": [
    "## 文章数最多的主题TOP10"
   ]
  },
  {
   "cell_type": "code",
   "execution_count": 39,
   "metadata": {},
   "outputs": [],
   "source": [
    "sort_topic = dict(Counter(doc_topic))\n",
    "del sort_topic[301]"
   ]
  },
  {
   "cell_type": "code",
   "execution_count": 40,
   "metadata": {},
   "outputs": [],
   "source": [
    "sort_topic = sorted(sort_topic.items(),key=lambda d: d[1],reverse=False)"
   ]
  },
  {
   "cell_type": "code",
   "execution_count": 42,
   "metadata": {},
   "outputs": [
    {
     "data": {
      "text/plain": [
       "[(2, 68),\n",
       " (87, 69),\n",
       " (147, 71),\n",
       " (46, 72),\n",
       " (14, 84),\n",
       " (165, 87),\n",
       " (49, 94),\n",
       " (15, 102),\n",
       " (115, 114),\n",
       " (128, 122)]"
      ]
     },
     "execution_count": 42,
     "metadata": {},
     "output_type": "execute_result"
    }
   ],
   "source": [
    "sort_topic[-10:]"
   ]
  },
  {
   "cell_type": "code",
   "execution_count": 43,
   "metadata": {},
   "outputs": [
    {
     "data": {
      "text/plain": [
       "[('C++', 0.0073621177573112741),\n",
       " ('掘金', 0.0060146858787312836),\n",
       " ('SAAS', 0.0050183708462674332),\n",
       " ('笔记', 0.0046640153814208433),\n",
       " ('作业', 0.0043370514756625265),\n",
       " ('技能', 0.0040290091322048929),\n",
       " ('翻译', 0.0038562952312231544),\n",
       " ('编码', 0.0035340887845607236),\n",
       " ('语义', 0.0034494549632494462),\n",
       " ('复习', 0.0027977269082461479),\n",
       " ('经历', 0.0027631620292495416),\n",
       " ('天时', 0.0025586528042633996),\n",
       " ('高级', 0.0024393322888484107),\n",
       " ('卷积神经网络', 0.0024319713220106428),\n",
       " ('过程', 0.0024202177546965406)]"
      ]
     },
     "execution_count": 43,
     "metadata": {},
     "output_type": "execute_result"
    }
   ],
   "source": [
    "lda.show_topic(128, topn=15)"
   ]
  },
  {
   "cell_type": "code",
   "execution_count": 44,
   "metadata": {},
   "outputs": [
    {
     "data": {
      "text/plain": [
       "[('投入', 0.013180937683156795),\n",
       " ('意识', 0.0089430273236890782),\n",
       " ('COM', 0.0078722954813902936),\n",
       " ('POOL', 0.0055504297670982417),\n",
       " ('MAX', 0.005501636955675719),\n",
       " ('真实', 0.0050442454040778789),\n",
       " ('REGULARIZATION', 0.0043708265251305107),\n",
       " ('目标', 0.0042107505735980025),\n",
       " ('UNET', 0.0041983303941388042),\n",
       " ('巨量', 0.0040715031821778429),\n",
       " ('超平面', 0.0037196956364697626),\n",
       " ('分段', 0.0035627542294869199),\n",
       " ('中心', 0.0034166993019445206),\n",
       " ('FACE', 0.0033606492063201722),\n",
       " ('不行', 0.0032838056894701857)]"
      ]
     },
     "execution_count": 44,
     "metadata": {},
     "output_type": "execute_result"
    }
   ],
   "source": [
    "lda.show_topic(115, topn=15)"
   ]
  },
  {
   "cell_type": "code",
   "execution_count": 45,
   "metadata": {},
   "outputs": [
    {
     "data": {
      "text/plain": [
       "[('清醒', 0.023656326118994819),\n",
       " ('KERAS', 0.013858695074069083),\n",
       " ('智能', 0.012530462331618357),\n",
       " ('熟练掌握', 0.0058479703779042479),\n",
       " ('BOUNDING', 0.0050060850260313459),\n",
       " ('有人', 0.0046312826926177345),\n",
       " ('OP', 0.0045685625803682682),\n",
       " ('CLASS', 0.0039018834381273097),\n",
       " ('衍生', 0.0036573121267381875),\n",
       " ('细胞', 0.0036384455465580312),\n",
       " ('BIAS', 0.0034219907866387855),\n",
       " ('ON', 0.0031253452688890558),\n",
       " ('期望', 0.0029981800635791251),\n",
       " ('摘要', 0.0028886260461453697),\n",
       " ('点对点', 0.0027572052000631115)]"
      ]
     },
     "execution_count": 45,
     "metadata": {},
     "output_type": "execute_result"
    }
   ],
   "source": [
    "lda.show_topic(15, topn=15)"
   ]
  },
  {
   "cell_type": "markdown",
   "metadata": {},
   "source": [
    "## 200个主题的文档频数分布"
   ]
  },
  {
   "cell_type": "code",
   "execution_count": 46,
   "metadata": {
    "collapsed": true
   },
   "outputs": [],
   "source": [
    "df_data.loc[:,'topic'] = doc_topic"
   ]
  },
  {
   "cell_type": "code",
   "execution_count": 49,
   "metadata": {},
   "outputs": [
    {
     "data": {
      "image/png": "[encoded data removed]",
      "text/plain": [
       "<matplotlib.figure.Figure at 0x1580313c8>"
      ]
     },
     "metadata": {},
     "output_type": "display_data"
    }
   ],
   "source": [
    "plt.figure(figsize=(15,10))\n",
    "df_data.loc[df_data['topic']<200,'topic'].hist(bins=200)\n",
    "plt.ylabel('Frequency of documents')\n",
    "plt.xlabel('Order of topics')\n",
    "plt.show()"
   ]
  },
  {
   "cell_type": "markdown",
   "metadata": {},
   "source": [
    "## 推荐指数TOP100文章主题分布"
   ]
  },
  {
   "cell_type": "code",
   "execution_count": 50,
   "metadata": {
    "collapsed": true
   },
   "outputs": [],
   "source": [
    "top100_article = df_data.copy()\n",
    "del top100_article['content']\n",
    "\n",
    "top100_article= top100_article[:100]"
   ]
  },
  {
   "cell_type": "code",
   "execution_count": 53,
   "metadata": {},
   "outputs": [
    {
     "data": {
      "text/html": [
       "<div>\n",
       "<style>\n",
       "    .dataframe thead tr:only-child th {\n",
       "        text-align: right;\n",
       "    }\n",
       "\n",
       "    .dataframe thead th {\n",
       "        text-align: left;\n",
       "    }\n",
       "\n",
       "    .dataframe tbody tr th {\n",
       "        vertical-align: top;\n",
       "    }\n",
       "</style>\n",
       "<table border=\"1\" class=\"dataframe\">\n",
       "  <thead>\n",
       "    <tr style=\"text-align: right;\">\n",
       "      <th></th>\n",
       "      <th>zhuanlan_name</th>\n",
       "      <th>zhuanlan_url</th>\n",
       "      <th>followers</th>\n",
       "      <th>title</th>\n",
       "      <th>article_url</th>\n",
       "      <th>publishedTime</th>\n",
       "      <th>commentsCount</th>\n",
       "      <th>likesCount</th>\n",
       "      <th>correction_followers</th>\n",
       "      <th>article_PPI</th>\n",
       "      <th>topic</th>\n",
       "    </tr>\n",
       "  </thead>\n",
       "  <tbody>\n",
       "    <tr>\n",
       "      <th>0</th>\n",
       "      <td>PMCAFF产品社区</td>\n",
       "      <td>https://zhuanlan.zhihu.com/pmcaff</td>\n",
       "      <td>3767</td>\n",
       "      <td>打算在知乎送一波邀请码：PMCAFF全球最大的产品经理社区（已结束）</td>\n",
       "      <td>https://zhuanlan.zhihu.com/p/25310515</td>\n",
       "      <td>2017-02-19</td>\n",
       "      <td>3729.0</td>\n",
       "      <td>258.0</td>\n",
       "      <td>3021</td>\n",
       "      <td>774</td>\n",
       "      <td>175</td>\n",
       "    </tr>\n",
       "    <tr>\n",
       "      <th>1</th>\n",
       "      <td>AI Insight</td>\n",
       "      <td>https://zhuanlan.zhihu.com/ai-insight</td>\n",
       "      <td>6004</td>\n",
       "      <td>AI可能真的要代替插画师了……</td>\n",
       "      <td>https://zhuanlan.zhihu.com/p/28488946</td>\n",
       "      <td>2017-08-13</td>\n",
       "      <td>399.0</td>\n",
       "      <td>4190.0</td>\n",
       "      <td>4627</td>\n",
       "      <td>475</td>\n",
       "      <td>138</td>\n",
       "    </tr>\n",
       "    <tr>\n",
       "      <th>2</th>\n",
       "      <td>程序猿数据爱好者</td>\n",
       "      <td>https://zhuanlan.zhihu.com/c_94187513</td>\n",
       "      <td>3802</td>\n",
       "      <td>十款被人忽视的堪称神器的软件 好用又实用</td>\n",
       "      <td>https://zhuanlan.zhihu.com/p/26740908</td>\n",
       "      <td>2017-05-06</td>\n",
       "      <td>102.0</td>\n",
       "      <td>2511.0</td>\n",
       "      <td>177</td>\n",
       "      <td>419</td>\n",
       "      <td>40</td>\n",
       "    </tr>\n",
       "    <tr>\n",
       "      <th>3</th>\n",
       "      <td>深度学习炼丹师</td>\n",
       "      <td>https://zhuanlan.zhihu.com/zhangbingyang</td>\n",
       "      <td>1494</td>\n",
       "      <td>强烈推荐的机器学习，深度学习课程以及python库</td>\n",
       "      <td>https://zhuanlan.zhihu.com/p/24768878</td>\n",
       "      <td>2017-01-07</td>\n",
       "      <td>82.0</td>\n",
       "      <td>1333.0</td>\n",
       "      <td>15</td>\n",
       "      <td>402</td>\n",
       "      <td>42</td>\n",
       "    </tr>\n",
       "    <tr>\n",
       "      <th>4</th>\n",
       "      <td>程序猿数据爱好者</td>\n",
       "      <td>https://zhuanlan.zhihu.com/c_94187513</td>\n",
       "      <td>3802</td>\n",
       "      <td>当你们羡慕IT程序员月薪两三万时，请看深圳这些科技公司的夜晚</td>\n",
       "      <td>https://zhuanlan.zhihu.com/p/26566138</td>\n",
       "      <td>2017-04-25</td>\n",
       "      <td>389.0</td>\n",
       "      <td>628.0</td>\n",
       "      <td>16</td>\n",
       "      <td>371</td>\n",
       "      <td>50</td>\n",
       "    </tr>\n",
       "  </tbody>\n",
       "</table>\n",
       "</div>"
      ],
      "text/plain": [
       "  zhuanlan_name                              zhuanlan_url  followers  \\\n",
       "0    PMCAFF产品社区         https://zhuanlan.zhihu.com/pmcaff       3767   \n",
       "1    AI Insight     https://zhuanlan.zhihu.com/ai-insight       6004   \n",
       "2      程序猿数据爱好者     https://zhuanlan.zhihu.com/c_94187513       3802   \n",
       "3       深度学习炼丹师  https://zhuanlan.zhihu.com/zhangbingyang       1494   \n",
       "4      程序猿数据爱好者     https://zhuanlan.zhihu.com/c_94187513       3802   \n",
       "\n",
       "                                title                            article_url  \\\n",
       "0  打算在知乎送一波邀请码：PMCAFF全球最大的产品经理社区（已结束）  https://zhuanlan.zhihu.com/p/25310515   \n",
       "1                     AI可能真的要代替插画师了……  https://zhuanlan.zhihu.com/p/28488946   \n",
       "2                十款被人忽视的堪称神器的软件 好用又实用  https://zhuanlan.zhihu.com/p/26740908   \n",
       "3           强烈推荐的机器学习，深度学习课程以及python库  https://zhuanlan.zhihu.com/p/24768878   \n",
       "4      当你们羡慕IT程序员月薪两三万时，请看深圳这些科技公司的夜晚  https://zhuanlan.zhihu.com/p/26566138   \n",
       "\n",
       "  publishedTime  commentsCount  likesCount  correction_followers  article_PPI  \\\n",
       "0    2017-02-19         3729.0       258.0                  3021          774   \n",
       "1    2017-08-13          399.0      4190.0                  4627          475   \n",
       "2    2017-05-06          102.0      2511.0                   177          419   \n",
       "3    2017-01-07           82.0      1333.0                    15          402   \n",
       "4    2017-04-25          389.0       628.0                    16          371   \n",
       "\n",
       "   topic  \n",
       "0    175  \n",
       "1    138  \n",
       "2     40  \n",
       "3     42  \n",
       "4     50  "
      ]
     },
     "execution_count": 53,
     "metadata": {},
     "output_type": "execute_result"
    }
   ],
   "source": [
    "del top100_article['index']\n",
    "top100_article.head()"
   ]
  },
  {
   "cell_type": "code",
   "execution_count": 55,
   "metadata": {},
   "outputs": [
    {
     "data": {
      "text/plain": [
       "[('YOUR', 0.0075702163995136048),\n",
       " ('人物', 0.0066032505003786645),\n",
       " ('天使', 0.0060960710748931357),\n",
       " ('放在', 0.0059051746993017623),\n",
       " ('EXP', 0.0043571927437047854),\n",
       " ('招聘', 0.0040529178166156341),\n",
       " ('提速', 0.0040197550573014837),\n",
       " ('意愿', 0.0037170939759279208),\n",
       " ('公司', 0.0036406791748898617),\n",
       " ('产品设计', 0.0034320415731722096),\n",
       " ('苹果公司', 0.0033979887195511381),\n",
       " ('TARGET', 0.0033507978130662614),\n",
       " ('几天', 0.0032097836781881084),\n",
       " ('目标', 0.0030264953620167344),\n",
       " ('美国', 0.0027946388847278647)]"
      ]
     },
     "execution_count": 55,
     "metadata": {},
     "output_type": "execute_result"
    }
   ],
   "source": [
    "lda.show_topic(138, topn=15)"
   ]
  },
  {
   "cell_type": "code",
   "execution_count": 57,
   "metadata": {},
   "outputs": [
    {
     "data": {
      "text/plain": [
       "64"
      ]
     },
     "execution_count": 57,
     "metadata": {},
     "output_type": "execute_result"
    }
   ],
   "source": [
    "len(top100_article['topic'].value_counts())"
   ]
  },
  {
   "cell_type": "code",
   "execution_count": 59,
   "metadata": {},
   "outputs": [
    {
     "data": {
      "image/png": "[encoded data removed]",
      "text/plain": [
       "<matplotlib.figure.Figure at 0x12e3fd080>"
      ]
     },
     "metadata": {},
     "output_type": "display_data"
    }
   ],
   "source": [
    "plt.figure(figsize=(12,8))\n",
    "top100_article['topic'].hist(bins=200)\n",
    "plt.ylabel('Frequency of documents')\n",
    "plt.xlabel('Order of topics')\n",
    "plt.show()"
   ]
  },
  {
   "cell_type": "code",
   "execution_count": null,
   "metadata": {
    "collapsed": true
   },
   "outputs": [],
   "source": [
    "dictionary = corpora.Dictionary(corpus)\n",
    "corpus_ = [dictionary.doc2bow(text) for text in corpus]\n",
    "tfidf = models.TfidfModel(corpus_)\n",
    "corpus_tfidf = tfidf[corpus_]"
   ]
  },
  {
   "cell_type": "code",
   "execution_count": 60,
   "metadata": {},
   "outputs": [
    {
     "data": {
      "text/plain": [
       "130527"
      ]
     },
     "execution_count": 60,
     "metadata": {},
     "output_type": "execute_result"
    }
   ],
   "source": [
    "len(dictionary)"
   ]
  },
  {
   "cell_type": "markdown",
   "metadata": {},
   "source": [
    "## 使用TF-IDF提取每篇文章的关键词"
   ]
  },
  {
   "cell_type": "code",
   "execution_count": 100,
   "metadata": {},
   "outputs": [],
   "source": [
    "key_words_list = []\n",
    "for i in range(100):\n",
    "    doc_tfidf = corpus_tfidf[i]\n",
    "    sort_doc_tfidf = sorted(doc_tfidf,key = lambda x:x[1],reverse = True)\n",
    "    key_words = [word_id[0] for word_id in sort_doc_tfidf[:15]]\n",
    "    key_words = [dictionary[i] for i in key_words]\n",
    "    key_words = '、'.join(key_words)\n",
    "    key_words_list.append(key_words)"
   ]
  },
  {
   "cell_type": "code",
   "execution_count": 103,
   "metadata": {},
   "outputs": [
    {
     "data": {
      "text/plain": [
       "'软件、神器、下载、迅雷、硕鼠、卸载、IDM、视频、网页、注册表、残留、一款、WIN、网站、PDF'"
      ]
     },
     "execution_count": 103,
     "metadata": {},
     "output_type": "execute_result"
    }
   ],
   "source": [
    "key_words_list[2]"
   ]
  },
  {
   "cell_type": "markdown",
   "metadata": {},
   "source": [
    "## 文章摘要"
   ]
  },
  {
   "cell_type": "code",
   "execution_count": 118,
   "metadata": {
    "collapsed": true
   },
   "outputs": [],
   "source": [
    "from sklearn import feature_extraction  \n",
    "from sklearn.feature_extraction.text import TfidfTransformer  \n",
    "from sklearn.feature_extraction.text import CountVectorizer  \n",
    "\n",
    "\n",
    "def split_sentence(text, punctuation_list='!?。！？'):\n",
    "    \"\"\"\n",
    "    将文本段安装标点符号列表里的符号切分成句子，将所有句子保存在列表里。\n",
    "    \"\"\"\n",
    "    sentence_set = []\n",
    "    inx_position = 0         #索引标点符号的位置\n",
    "    char_position = 0        #移动字符指针位置\n",
    "    for char in text:\n",
    "        char_position += 1\n",
    "        if char in punctuation_list:\n",
    "            next_char = list(text[inx_position:char_position+1]).pop()\n",
    "            if next_char not in punctuation_list:\n",
    "                sentence_set.append(text[inx_position:char_position])\n",
    "                inx_position = char_position\n",
    "    if inx_position < len(text):\n",
    "        sentence_set.append(text[inx_position:])\n",
    "\n",
    "    sentence_with_index = {i:sent for i,sent in enumerate(sentence_set)} #dict(zip(sentence_set, range(len(sentences))))\n",
    "    return sentence_set,sentence_with_index\n",
    "\n",
    "def get_tfidf_matrix(sentence_set,stop_word):\n",
    "    corpus = []\n",
    "    for sent in sentence_set:\n",
    "        sent_cut = jieba.cut(sent)\n",
    "        sent_list = [word for word in sent_cut if word not in stop_word]\n",
    "        sent_str = ' '.join(sent_list)\n",
    "        corpus.append(sent_str)\n",
    "\n",
    "    vectorizer=CountVectorizer()\n",
    "    transformer=TfidfTransformer()\n",
    "    tfidf=transformer.fit_transform(vectorizer.fit_transform(corpus))\n",
    "    # word=vectorizer.get_feature_names()\n",
    "    tfidf_matrix=tfidf.toarray()\n",
    "    return np.array(tfidf_matrix)\n",
    "\n",
    "def get_sentence_with_words_weight(tfidf_matrix):\n",
    "    sentence_with_words_weight = {}\n",
    "    for i in range(len(tfidf_matrix)):\n",
    "        sentence_with_words_weight[i] = np.sum(tfidf_matrix[i])\n",
    "\n",
    "    max_weight = max(sentence_with_words_weight.values()) #归一化\n",
    "    min_weight = min(sentence_with_words_weight.values())\n",
    "    for key in sentence_with_words_weight.keys():\n",
    "        x = sentence_with_words_weight[key]\n",
    "        sentence_with_words_weight[key] = (x-min_weight)/(max_weight-min_weight)\n",
    "\n",
    "    return sentence_with_words_weight\n",
    "\n",
    "def get_sentence_with_position_weight(sentence_set):\n",
    "    sentence_with_position_weight = {}\n",
    "    total_sent = len(sentence_set)\n",
    "    for i in range(total_sent):\n",
    "        sentence_with_position_weight[i] = (total_sent - i) / total_sent\n",
    "    return sentence_with_position_weight\n",
    "\n",
    "def similarity(sent1,sent2):\n",
    "    \"\"\"\n",
    "    计算余弦相似度\n",
    "    \"\"\"\n",
    "    return np.sum(sent1 * sent2) / (1e-6+np.sqrt(np.sum(sent1 * sent1)) *\\\n",
    "                                    np.sqrt(np.sum(sent2 * sent2)))\n",
    "\n",
    "def get_similarity_weight(tfidf_matrix):\n",
    "    sentence_score = collections.defaultdict(lambda :0.)\n",
    "    for i in range(len(tfidf_matrix)):\n",
    "        score_i = 0.\n",
    "        for j in range(len(tfidf_matrix)):\n",
    "            score_i += similarity(tfidf_matrix[i],tfidf_matrix[j])\n",
    "        sentence_score[i] = score_i\n",
    "\n",
    "    max_score = max(sentence_score.values()) #归一化\n",
    "    min_score = min(sentence_score.values())\n",
    "    for key in sentence_score.keys():\n",
    "        x = sentence_score[key]\n",
    "        sentence_score[key] = (x-min_score)/(max_score-min_score)\n",
    "\n",
    "    return sentence_score\n",
    "\n",
    "def ranking_base_on_weigth(sentence_with_words_weight,\n",
    "                            sentence_with_position_weight,\n",
    "                            sentence_score, feature_weight = [1.5,1,1]):\n",
    "    sentence_weight = collections.defaultdict(lambda :0.)\n",
    "    for sent in sentence_score.keys():\n",
    "        sentence_weight[sent] = feature_weight[0]*sentence_with_words_weight[sent] +\\\n",
    "                                feature_weight[1]*sentence_with_position_weight[sent] +\\\n",
    "                                feature_weight[2]*sentence_score[sent]\n",
    "\n",
    "    sort_sent_weight = sorted(sentence_weight.items(),key=lambda d: d[1], reverse=True)\n",
    "    return sort_sent_weight\n",
    "\n",
    "def get_summarization(sentence_with_index,sort_sent_weight,topK_ratio =0.1):\n",
    "    topK = int(len(sort_sent_weight)*topK_ratio)\n",
    "    summarization_sent = sorted([sent[0] for sent in sort_sent_weight[:topK]])\n",
    "    \n",
    "    summarization = []\n",
    "    for i in summarization_sent:\n",
    "        summarization.append(sentence_with_index[i])\n",
    "\n",
    "    summary = ''.join(summarization)\n",
    "    return summary\n",
    "\n",
    "\n",
    "def run(text):\n",
    "    sentence_set,sentence_with_index = split_sentence(text, punctuation_list='!?。！？')\n",
    "    tfidf_matrix = get_tfidf_matrix(sentence_set,stop_word)\n",
    "    sentence_with_words_weight = get_sentence_with_words_weight(tfidf_matrix)\n",
    "    sentence_with_position_weight = get_sentence_with_position_weight(sentence_set)\n",
    "    sentence_score = get_similarity_weight(tfidf_matrix)\n",
    "    sort_sent_weight = ranking_base_on_weigth(sentence_with_words_weight,\n",
    "                                                sentence_with_position_weight,\n",
    "                                                sentence_score, feature_weight = [1.5,1,1])\n",
    "    summarization = get_summarization(sentence_with_index,sort_sent_weight,topK_ratio =0.1)\n",
    "    return summarization"
   ]
  },
  {
   "cell_type": "code",
   "execution_count": 119,
   "metadata": {},
   "outputs": [],
   "source": [
    "summary_list = []\n",
    "for i in range(100):\n",
    "    text = df_data.loc[i,'content']\n",
    "    summary = run(text)\n",
    "    summary_list.append(summary)"
   ]
  },
  {
   "cell_type": "code",
   "execution_count": 122,
   "metadata": {},
   "outputs": [],
   "source": [
    "top100_article.loc[:,'summary'] = summary_list"
   ]
  },
  {
   "cell_type": "code",
   "execution_count": 123,
   "metadata": {},
   "outputs": [
    {
     "data": {
      "text/html": [
       "<div>\n",
       "<style>\n",
       "    .dataframe thead tr:only-child th {\n",
       "        text-align: right;\n",
       "    }\n",
       "\n",
       "    .dataframe thead th {\n",
       "        text-align: left;\n",
       "    }\n",
       "\n",
       "    .dataframe tbody tr th {\n",
       "        vertical-align: top;\n",
       "    }\n",
       "</style>\n",
       "<table border=\"1\" class=\"dataframe\">\n",
       "  <thead>\n",
       "    <tr style=\"text-align: right;\">\n",
       "      <th></th>\n",
       "      <th>zhuanlan_name</th>\n",
       "      <th>zhuanlan_url</th>\n",
       "      <th>followers</th>\n",
       "      <th>title</th>\n",
       "      <th>article_url</th>\n",
       "      <th>publishedTime</th>\n",
       "      <th>commentsCount</th>\n",
       "      <th>likesCount</th>\n",
       "      <th>correction_followers</th>\n",
       "      <th>article_PPI</th>\n",
       "      <th>topic</th>\n",
       "      <th>tfidf_key_word</th>\n",
       "      <th>summary</th>\n",
       "    </tr>\n",
       "  </thead>\n",
       "  <tbody>\n",
       "    <tr>\n",
       "      <th>0</th>\n",
       "      <td>PMCAFF产品社区</td>\n",
       "      <td>https://zhuanlan.zhihu.com/pmcaff</td>\n",
       "      <td>3767</td>\n",
       "      <td>打算在知乎送一波邀请码：PMCAFF全球最大的产品经理社区（已结束）</td>\n",
       "      <td>https://zhuanlan.zhihu.com/p/25310515</td>\n",
       "      <td>2017-02-19</td>\n",
       "      <td>3729.0</td>\n",
       "      <td>258.0</td>\n",
       "      <td>3021</td>\n",
       "      <td>774</td>\n",
       "      <td>175</td>\n",
       "      <td>PMCAFF、邀请、社区、产品、平台、成本、半封闭、此帖、FREELANCER、十年、经理、...</td>\n",
       "      <td>采用邀请码机制主要目的在于降低管理成本，PMCAFF作为一个坚持了十年的公益平台，如果要像知...</td>\n",
       "    </tr>\n",
       "    <tr>\n",
       "      <th>1</th>\n",
       "      <td>AI Insight</td>\n",
       "      <td>https://zhuanlan.zhihu.com/ai-insight</td>\n",
       "      <td>6004</td>\n",
       "      <td>AI可能真的要代替插画师了……</td>\n",
       "      <td>https://zhuanlan.zhihu.com/p/28488946</td>\n",
       "      <td>2017-08-13</td>\n",
       "      <td>399.0</td>\n",
       "      <td>4190.0</td>\n",
       "      <td>4627</td>\n",
       "      <td>475</td>\n",
       "      <td>138</td>\n",
       "      <td>EYES、属性、生成、CGAN、人物、GLASSES、MOE、网站、二次元、PDF、GAN、...</td>\n",
       "      <td>》（论文地址：https://makegirlsmoe.github.io/assets/p...</td>\n",
       "    </tr>\n",
       "    <tr>\n",
       "      <th>2</th>\n",
       "      <td>程序猿数据爱好者</td>\n",
       "      <td>https://zhuanlan.zhihu.com/c_94187513</td>\n",
       "      <td>3802</td>\n",
       "      <td>十款被人忽视的堪称神器的软件 好用又实用</td>\n",
       "      <td>https://zhuanlan.zhihu.com/p/26740908</td>\n",
       "      <td>2017-05-06</td>\n",
       "      <td>102.0</td>\n",
       "      <td>2511.0</td>\n",
       "      <td>177</td>\n",
       "      <td>419</td>\n",
       "      <td>40</td>\n",
       "      <td>软件、神器、下载、迅雷、硕鼠、卸载、IDM、视频、网页、注册表、残留、一款、WIN、网站、PDF</td>\n",
       "      <td>二、硕鼠，可以下载几乎国内所有主流视频网站上的视频。一款互联网备份软件，从1996年以来，已...</td>\n",
       "    </tr>\n",
       "    <tr>\n",
       "      <th>3</th>\n",
       "      <td>深度学习炼丹师</td>\n",
       "      <td>https://zhuanlan.zhihu.com/zhangbingyang</td>\n",
       "      <td>1494</td>\n",
       "      <td>强烈推荐的机器学习，深度学习课程以及python库</td>\n",
       "      <td>https://zhuanlan.zhihu.com/p/24768878</td>\n",
       "      <td>2017-01-07</td>\n",
       "      <td>82.0</td>\n",
       "      <td>1333.0</td>\n",
       "      <td>15</td>\n",
       "      <td>402</td>\n",
       "      <td>42</td>\n",
       "      <td>COURESA、公开课、辅导班、课程、斯坦福大学、NG、讲课、李飞飞、课件、推荐、必备、WE...</td>\n",
       "      <td>本着两条原则推荐一波机器学习，深度学习的课程以及常用的库：1.不建议报辅导班。</td>\n",
       "    </tr>\n",
       "    <tr>\n",
       "      <th>4</th>\n",
       "      <td>程序猿数据爱好者</td>\n",
       "      <td>https://zhuanlan.zhihu.com/c_94187513</td>\n",
       "      <td>3802</td>\n",
       "      <td>当你们羡慕IT程序员月薪两三万时，请看深圳这些科技公司的夜晚</td>\n",
       "      <td>https://zhuanlan.zhihu.com/p/26566138</td>\n",
       "      <td>2017-04-25</td>\n",
       "      <td>389.0</td>\n",
       "      <td>628.0</td>\n",
       "      <td>16</td>\n",
       "      <td>371</td>\n",
       "      <td>50</td>\n",
       "      <td>加班、深圳、半夜、换来、两三万、来之不易、羡慕、高薪、月薪、职业、离不开、农民房、二十七八岁...</td>\n",
       "      <td>在深圳有这样一群人，住着十几平方的城中村农民房，二十七八岁没有女朋友，每天早出晚归，月薪两三...</td>\n",
       "    </tr>\n",
       "  </tbody>\n",
       "</table>\n",
       "</div>"
      ],
      "text/plain": [
       "  zhuanlan_name                              zhuanlan_url  followers  \\\n",
       "0    PMCAFF产品社区         https://zhuanlan.zhihu.com/pmcaff       3767   \n",
       "1    AI Insight     https://zhuanlan.zhihu.com/ai-insight       6004   \n",
       "2      程序猿数据爱好者     https://zhuanlan.zhihu.com/c_94187513       3802   \n",
       "3       深度学习炼丹师  https://zhuanlan.zhihu.com/zhangbingyang       1494   \n",
       "4      程序猿数据爱好者     https://zhuanlan.zhihu.com/c_94187513       3802   \n",
       "\n",
       "                                title                            article_url  \\\n",
       "0  打算在知乎送一波邀请码：PMCAFF全球最大的产品经理社区（已结束）  https://zhuanlan.zhihu.com/p/25310515   \n",
       "1                     AI可能真的要代替插画师了……  https://zhuanlan.zhihu.com/p/28488946   \n",
       "2                十款被人忽视的堪称神器的软件 好用又实用  https://zhuanlan.zhihu.com/p/26740908   \n",
       "3           强烈推荐的机器学习，深度学习课程以及python库  https://zhuanlan.zhihu.com/p/24768878   \n",
       "4      当你们羡慕IT程序员月薪两三万时，请看深圳这些科技公司的夜晚  https://zhuanlan.zhihu.com/p/26566138   \n",
       "\n",
       "  publishedTime  commentsCount  likesCount  correction_followers  article_PPI  \\\n",
       "0    2017-02-19         3729.0       258.0                  3021          774   \n",
       "1    2017-08-13          399.0      4190.0                  4627          475   \n",
       "2    2017-05-06          102.0      2511.0                   177          419   \n",
       "3    2017-01-07           82.0      1333.0                    15          402   \n",
       "4    2017-04-25          389.0       628.0                    16          371   \n",
       "\n",
       "   topic                                     tfidf_key_word  \\\n",
       "0    175  PMCAFF、邀请、社区、产品、平台、成本、半封闭、此帖、FREELANCER、十年、经理、...   \n",
       "1    138  EYES、属性、生成、CGAN、人物、GLASSES、MOE、网站、二次元、PDF、GAN、...   \n",
       "2     40   软件、神器、下载、迅雷、硕鼠、卸载、IDM、视频、网页、注册表、残留、一款、WIN、网站、PDF   \n",
       "3     42  COURESA、公开课、辅导班、课程、斯坦福大学、NG、讲课、李飞飞、课件、推荐、必备、WE...   \n",
       "4     50  加班、深圳、半夜、换来、两三万、来之不易、羡慕、高薪、月薪、职业、离不开、农民房、二十七八岁...   \n",
       "\n",
       "                                             summary  \n",
       "0  采用邀请码机制主要目的在于降低管理成本，PMCAFF作为一个坚持了十年的公益平台，如果要像知...  \n",
       "1  》（论文地址：https://makegirlsmoe.github.io/assets/p...  \n",
       "2  二、硕鼠，可以下载几乎国内所有主流视频网站上的视频。一款互联网备份软件，从1996年以来，已...  \n",
       "3            本着两条原则推荐一波机器学习，深度学习的课程以及常用的库：1.不建议报辅导班。  \n",
       "4  在深圳有这样一群人，住着十几平方的城中村农民房，二十七八岁没有女朋友，每天早出晚归，月薪两三...  "
      ]
     },
     "execution_count": 123,
     "metadata": {},
     "output_type": "execute_result"
    }
   ],
   "source": [
    "top100_article.head()"
   ]
  },
  {
   "cell_type": "code",
   "execution_count": 130,
   "metadata": {},
   "outputs": [],
   "source": [
    "with open('top100_articles.txt','w') as f:\n",
    "    for i in top100_article.index:\n",
    "        f.write('## ['+top100_article.loc[i,'title']+']('+ top100_article.loc[i,'article_url']+')  ')\n",
    "        f.write('推荐指数：'+str(top100_article.loc[i,'article_PPI'])+'\\n\\n')\n",
    "        f.write('**关键词：**'+top100_article.loc[i,'tfidf_key_word']+'\\n\\n')\n",
    "        f.write('**文章摘要：**'+top100_article.loc[i,'summary']+'\\n\\n')\n",
    "        f.write('**发表日期：**'+str(top100_article.loc[i,'publishedTime']).split()[0]+'，  ')\n",
    "        f.write('**评论数：**'+str(top100_article.loc[i,'commentsCount'])+'，  ')\n",
    "        f.write('**点赞数：**'+str(top100_article.loc[i,'likesCount']))\n",
    "        f.write('\\n---\\n\\n')"
   ]
  },
  {
   "cell_type": "code",
   "execution_count": null,
   "metadata": {
    "collapsed": true
   },
   "outputs": [],
   "source": []
  }
 ],
 "metadata": {
  "kernelspec": {
   "display_name": "Python 3",
   "language": "python",
   "name": "python3"
  },
  "language_info": {
   "codemirror_mode": {
    "name": "ipython",
    "version": 3
   },
   "file_extension": ".py",
   "mimetype": "text/x-python",
   "name": "python",
   "nbconvert_exporter": "python",
   "pygments_lexer": "ipython3",
   "version": "3.6.2"
  }
 },
 "nbformat": 4,
 "nbformat_minor": 2
}
