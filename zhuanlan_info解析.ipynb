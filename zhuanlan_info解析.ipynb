{
 "cells": [
  {
   "cell_type": "code",
   "execution_count": 11,
   "metadata": {
    "collapsed": true
   },
   "outputs": [],
   "source": [
    "import requests\n",
    "from bs4 import BeautifulSoup\n",
    "import pandas as pd"
   ]
  },
  {
   "cell_type": "code",
   "execution_count": 13,
   "metadata": {
    "collapsed": true
   },
   "outputs": [],
   "source": [
    "path1 = './data/jiqixuexi.txt'\n",
    "\n",
    "with open(path1,'r',encoding='utf8') as f:\n",
    "    html = f.read()\n",
    "    \n",
    "soup = BeautifulSoup(html,'lxml')"
   ]
  },
  {
   "cell_type": "code",
   "execution_count": 16,
   "metadata": {
    "collapsed": true
   },
   "outputs": [],
   "source": [
    "zhuanlan_list = soup.find_all(\"div\",{\"class\":\"List-item\"})"
   ]
  },
  {
   "cell_type": "code",
   "execution_count": 26,
   "metadata": {
    "scrolled": false
   },
   "outputs": [
    {
     "name": "stdout",
     "output_type": "stream",
     "text": [
      "<div class=\"List-item\" data-reactid=\"76\">\n",
      " <div class=\"ContentItem\" data-reactid=\"77\" data-za-detail-view-path-index=\"0\" data-za-detail-view-path-module=\"ColumnItem\" data-za-extra-module='{\"card\":{\"content\":{\"type\":\"Column\",\"token\":\"mlearn\"}},\"attached_info_bytes\":\"OlQKC3BsYWNlaG9sZGVyEiBmZTc4NzMwMDdmYjEwYzYxMjkwZDQyYTdkYWM3Y2QxZRgFIgUxNjIwNSoGbWxlYXJuSgzmnLrlmajlrabkuaBQAFgEYAE=\"}'>\n",
      "  <div class=\"ContentItem-main\" data-reactid=\"78\">\n",
      "   <div class=\"ContentItem-image\" data-reactid=\"79\">\n",
      "    <a class=\"ColumnLink\" data-reactid=\"80\" href=\"//zhuanlan.zhihu.com/mlearn\" target=\"_blank\">\n",
      "     <div class=\"Popover\" data-reactid=\"81\">\n",
      "      <div aria-expanded=\"false\" aria-haspopup=\"true\" aria-owns=\"Popover-35263-666-content\" data-reactid=\"82\" id=\"Popover-35263-666-toggle\">\n",
      "       <img alt=\"&lt;em&gt;机器学习&lt;/em&gt;笔记\" class=\"Avatar Avatar--large\" data-reactid=\"83\" height=\"60\" src=\"https://pic1.zhimg.com/f53f3e2d5137f84efded39c82d614f0b_im.jpg\" srcset=\"https://pic1.zhimg.com/f53f3e2d5137f84efded39c82d614f0b_xl.jpg 2x\" width=\"60\"/>\n",
      "      </div>\n",
      "      <!-- react-empty: 84 -->\n",
      "     </div>\n",
      "    </a>\n",
      "   </div>\n",
      "   <div class=\"ContentItem-head\" data-reactid=\"85\">\n",
      "    <h2 class=\"ContentItem-title\" data-reactid=\"86\">\n",
      "     <div data-reactid=\"87\">\n",
      "      <a class=\"ColumnLink\" data-reactid=\"88\" href=\"//zhuanlan.zhihu.com/mlearn\" target=\"_blank\">\n",
      "       <div class=\"Popover\" data-reactid=\"89\">\n",
      "        <div aria-expanded=\"false\" aria-haspopup=\"true\" aria-owns=\"Popover-35263-59991-content\" data-reactid=\"90\" id=\"Popover-35263-59991-toggle\">\n",
      "         <span class=\"Highlight\" data-reactid=\"91\">\n",
      "          <em>\n",
      "           机器学习\n",
      "          </em>\n",
      "          笔记\n",
      "         </span>\n",
      "        </div>\n",
      "        <!-- react-empty: 92 -->\n",
      "       </div>\n",
      "      </a>\n",
      "     </div>\n",
      "    </h2>\n",
      "    <div class=\"ContentItem-meta\" data-reactid=\"93\">\n",
      "     <div data-reactid=\"94\">\n",
      "      <div class=\"RichText SearchItem-meta Highlight\" data-reactid=\"95\">\n",
      "       <em>\n",
      "        机器学习\n",
      "       </em>\n",
      "       的笔记。非常浅显。不得不说ng的课很适合入门，几乎不需要太多的数学基础\n",
      "      </div>\n",
      "      <div class=\"ContentItem-status\" data-reactid=\"96\">\n",
      "       <span class=\"ContentItem-statusItem Search-statusLink\" data-reactid=\"97\">\n",
      "        <!-- react-text: 98 -->\n",
      "        创建者：\n",
      "        <!-- /react-text -->\n",
      "        <span class=\"UserLink\" data-reactid=\"99\">\n",
      "         <div class=\"Popover\" data-reactid=\"100\">\n",
      "          <div aria-expanded=\"false\" aria-haspopup=\"true\" aria-owns=\"Popover-35264-59170-content\" data-reactid=\"101\" id=\"Popover-35264-59170-toggle\">\n",
      "           <a class=\"UserLink-link\" data-reactid=\"102\" data-za-detail-view-element_name=\"User\" href=\"/people/lov1\" target=\"_blank\">\n",
      "            子楠\n",
      "           </a>\n",
      "          </div>\n",
      "          <!-- react-empty: 103 -->\n",
      "         </div>\n",
      "        </span>\n",
      "       </span>\n",
      "       <a class=\"ContentItem-statusItem Search-statusLink\" data-reactid=\"104\" href=\"//zhuanlan.zhihu.com/mlearn/followers\" target=\"_blank\">\n",
      "        5873 关注\n",
      "       </a>\n",
      "       <a class=\"ContentItem-statusItem Search-statusLink\" data-reactid=\"105\" href=\"//zhuanlan.zhihu.com/mlearn\" target=\"_blank\">\n",
      "        22 文章\n",
      "       </a>\n",
      "      </div>\n",
      "     </div>\n",
      "    </div>\n",
      "   </div>\n",
      "   <div class=\"ContentItem-extra\" data-reactid=\"106\">\n",
      "    <button class=\"Button FollowButton Button--primary Button--blue\" data-reactid=\"107\" type=\"button\">\n",
      "     <!-- react-text: 108 -->\n",
      "     关注专栏\n",
      "     <!-- /react-text -->\n",
      "    </button>\n",
      "   </div>\n",
      "  </div>\n",
      " </div>\n",
      "</div>\n",
      "\n"
     ]
    }
   ],
   "source": [
    "print(zhuanlan_list[0].prettify())"
   ]
  },
  {
   "cell_type": "code",
   "execution_count": 20,
   "metadata": {
    "scrolled": true
   },
   "outputs": [
    {
     "data": {
      "text/plain": [
       "'机器学习笔记'"
      ]
     },
     "execution_count": 20,
     "metadata": {},
     "output_type": "execute_result"
    }
   ],
   "source": [
    "\n",
    "zhuanlan_list[0].find('span',{'class':'Highlight'}).get_text()"
   ]
  },
  {
   "cell_type": "code",
   "execution_count": 22,
   "metadata": {},
   "outputs": [
    {
     "data": {
      "text/plain": [
       "'子楠'"
      ]
     },
     "execution_count": 22,
     "metadata": {},
     "output_type": "execute_result"
    }
   ],
   "source": [
    "zhuanlan_list[0].find('span',{'class':'UserLink'}).get_text()"
   ]
  },
  {
   "cell_type": "code",
   "execution_count": 25,
   "metadata": {},
   "outputs": [
    {
     "data": {
      "text/plain": [
       "'机器学习的笔记。非常浅显。不得不说ng的课很适合入门，几乎不需要太多的数学基础'"
      ]
     },
     "execution_count": 25,
     "metadata": {},
     "output_type": "execute_result"
    }
   ],
   "source": [
    "zhuanlan_list[0].find('div',{'class':'RichText SearchItem-meta Highlight'}).get_text()"
   ]
  },
  {
   "cell_type": "code",
   "execution_count": 28,
   "metadata": {},
   "outputs": [
    {
     "data": {
      "text/plain": [
       "'//zhuanlan.zhihu.com/mlearn'"
      ]
     },
     "execution_count": 28,
     "metadata": {},
     "output_type": "execute_result"
    }
   ],
   "source": [
    "zhuanlan_list[0].find('a',{'class':'ColumnLink'}).get('href')"
   ]
  },
  {
   "cell_type": "code",
   "execution_count": 37,
   "metadata": {},
   "outputs": [
    {
     "data": {
      "text/plain": [
       "'5873 关注'"
      ]
     },
     "execution_count": 37,
     "metadata": {},
     "output_type": "execute_result"
    }
   ],
   "source": [
    "zhuanlan_list[0].find_all('a',{'class':'ContentItem-statusItem Search-statusLink'})[0].get_text()"
   ]
  },
  {
   "cell_type": "code",
   "execution_count": null,
   "metadata": {
    "collapsed": true
   },
   "outputs": [],
   "source": [
    "zhuanlan_list[0].find('a',{'class':'ContentItem-statusItem Search-statusLink'}).get_text().split()[0]"
   ]
  },
  {
   "cell_type": "code",
   "execution_count": null,
   "metadata": {
    "collapsed": true
   },
   "outputs": [],
   "source": []
  },
  {
   "cell_type": "code",
   "execution_count": 39,
   "metadata": {
    "collapsed": true
   },
   "outputs": [],
   "source": [
    "zhuanlan_info = pd.DataFrame()\n",
    "title = []\n",
    "author = []\n",
    "description = []\n",
    "url = []\n",
    "articles_count = []\n",
    "followers = []\n",
    "# socore = []\n",
    "\n",
    "for zhuanlan in zhuanlan_list:\n",
    "    title.append(zhuanlan.find('span',{'class':'Highlight'}).get_text())\n",
    "    author.append(zhuanlan.find('span',{'class':'UserLink'}).get_text())\n",
    "    description.append(zhuanlan.find('div',{'class':'RichText SearchItem-meta Highlight'}).get_text())\n",
    "    url.append('https:' + zhuanlan.find('a',{'class':'ColumnLink'}).get('href'))\n",
    "    af = zhuanlan.find_all('a',{'class':'ContentItem-statusItem Search-statusLink'})\n",
    "    articles_count.append(af[1].get_text().split()[0])\n",
    "    followers.append(af[0].get_text().split()[0])\n"
   ]
  },
  {
   "cell_type": "code",
   "execution_count": 40,
   "metadata": {
    "collapsed": true
   },
   "outputs": [],
   "source": [
    "zhuanlan_info['title']= title\n",
    "zhuanlan_info['author']= author\n",
    "zhuanlan_info['description']= description\n",
    "zhuanlan_info['url']= url\n",
    "zhuanlan_info['articles_count']= articles_count\n",
    "zhuanlan_info['followers']= followers"
   ]
  },
  {
   "cell_type": "code",
   "execution_count": 45,
   "metadata": {},
   "outputs": [
    {
     "data": {
      "text/html": [
       "<div>\n",
       "<style>\n",
       "    .dataframe thead tr:only-child th {\n",
       "        text-align: right;\n",
       "    }\n",
       "\n",
       "    .dataframe thead th {\n",
       "        text-align: left;\n",
       "    }\n",
       "\n",
       "    .dataframe tbody tr th {\n",
       "        vertical-align: top;\n",
       "    }\n",
       "</style>\n",
       "<table border=\"1\" class=\"dataframe\">\n",
       "  <thead>\n",
       "    <tr style=\"text-align: right;\">\n",
       "      <th></th>\n",
       "      <th>title</th>\n",
       "      <th>author</th>\n",
       "      <th>description</th>\n",
       "      <th>url</th>\n",
       "      <th>articles_count</th>\n",
       "      <th>followers</th>\n",
       "    </tr>\n",
       "  </thead>\n",
       "  <tbody>\n",
       "    <tr>\n",
       "      <th>185</th>\n",
       "      <td>数据说</td>\n",
       "      <td>阿萨姆</td>\n",
       "      <td>收录原创机器学习和人工智能相关文章及行业动向展望，欢迎投稿。</td>\n",
       "      <td>https://zhuanlan.zhihu.com/aiinsight</td>\n",
       "      <td>2280 关注</td>\n",
       "      <td>20 文章</td>\n",
       "    </tr>\n",
       "    <tr>\n",
       "      <th>186</th>\n",
       "      <td>伐木NLP</td>\n",
       "      <td>李浩</td>\n",
       "      <td>本专栏将在作者工作不饱的时段不定期发布机器学习特别是NLP方向有价值的知识和有趣的应用</td>\n",
       "      <td>https://zhuanlan.zhihu.com/nlp-farming</td>\n",
       "      <td>366 关注</td>\n",
       "      <td>7 文章</td>\n",
       "    </tr>\n",
       "    <tr>\n",
       "      <th>187</th>\n",
       "      <td>饮马渭水</td>\n",
       "      <td>最帅的大厨</td>\n",
       "      <td>研究相关：机器学习，计算机视觉，深度学习；每周分享一个算法（含实现）或研究方向相关论文分析一篇</td>\n",
       "      <td>https://zhuanlan.zhihu.com/RoyTao</td>\n",
       "      <td>55 关注</td>\n",
       "      <td>1 文章</td>\n",
       "    </tr>\n",
       "    <tr>\n",
       "      <th>188</th>\n",
       "      <td>一个统计系人的自我救赎</td>\n",
       "      <td>mahalanobis</td>\n",
       "      <td>补一些机器学习算法的知识点。</td>\n",
       "      <td>https://zhuanlan.zhihu.com/c_155140116</td>\n",
       "      <td>0 关注</td>\n",
       "      <td>0 文章</td>\n",
       "    </tr>\n",
       "    <tr>\n",
       "      <th>189</th>\n",
       "      <td>ThinkStats - 我所理解的数据</td>\n",
       "      <td>链球选手</td>\n",
       "      <td>这个专栏用来记录本渣统计学和机器学习的笔记、心得，如果能对其他人有所帮助自然是好</td>\n",
       "      <td>https://zhuanlan.zhihu.com/understand</td>\n",
       "      <td>232 关注</td>\n",
       "      <td>5 文章</td>\n",
       "    </tr>\n",
       "    <tr>\n",
       "      <th>190</th>\n",
       "      <td>Statistics and SAS</td>\n",
       "      <td>Mingjian Tian</td>\n",
       "      <td>主要涉及数据分析, 数学/统计模型, 机器学习, 大数据, 以及 SAS</td>\n",
       "      <td>https://zhuanlan.zhihu.com/-data-analysis</td>\n",
       "      <td>247 关注</td>\n",
       "      <td>10 文章</td>\n",
       "    </tr>\n",
       "    <tr>\n",
       "      <th>191</th>\n",
       "      <td>数海拾荒</td>\n",
       "      <td>Datacruiser</td>\n",
       "      <td>记录大数据分析和机器学习学习历程和心得</td>\n",
       "      <td>https://zhuanlan.zhihu.com/datacruiser</td>\n",
       "      <td>665 关注</td>\n",
       "      <td>44 文章</td>\n",
       "    </tr>\n",
       "    <tr>\n",
       "      <th>192</th>\n",
       "      <td>人工智能与固件开发</td>\n",
       "      <td>老狼</td>\n",
       "      <td>机器学习、遗传算法等等和固件的关系</td>\n",
       "      <td>https://zhuanlan.zhihu.com/mlfirmware</td>\n",
       "      <td>494 关注</td>\n",
       "      <td>7 文章</td>\n",
       "    </tr>\n",
       "    <tr>\n",
       "      <th>193</th>\n",
       "      <td>自然语言居酒屋</td>\n",
       "      <td>斤木</td>\n",
       "      <td>自然语言与机器学习专栏，主题包括但不限于：经典或state-of-art论文、著作的分享、讨论</td>\n",
       "      <td>https://zhuanlan.zhihu.com/nlp-izakaya</td>\n",
       "      <td>1451 关注</td>\n",
       "      <td>6 文章</td>\n",
       "    </tr>\n",
       "    <tr>\n",
       "      <th>194</th>\n",
       "      <td>魔王们的暗黑炼金卷轴</td>\n",
       "      <td>子元用户标识</td>\n",
       "      <td>数理金融相关领域学习笔记及心得。内容包括金融数学、随机分析、概率论、随机过程、数理统计、机器...</td>\n",
       "      <td>https://zhuanlan.zhihu.com/moquant</td>\n",
       "      <td>1517 关注</td>\n",
       "      <td>8 文章</td>\n",
       "    </tr>\n",
       "  </tbody>\n",
       "</table>\n",
       "</div>"
      ],
      "text/plain": [
       "                    title         author  \\\n",
       "185                   数据说            阿萨姆   \n",
       "186                 伐木NLP             李浩   \n",
       "187                  饮马渭水          最帅的大厨   \n",
       "188           一个统计系人的自我救赎    mahalanobis   \n",
       "189  ThinkStats - 我所理解的数据           链球选手   \n",
       "190    Statistics and SAS  Mingjian Tian   \n",
       "191                  数海拾荒    Datacruiser   \n",
       "192             人工智能与固件开发             老狼   \n",
       "193               自然语言居酒屋             斤木   \n",
       "194            魔王们的暗黑炼金卷轴      子元用户标识      \n",
       "\n",
       "                                           description  \\\n",
       "185                     收录原创机器学习和人工智能相关文章及行业动向展望，欢迎投稿。   \n",
       "186        本专栏将在作者工作不饱的时段不定期发布机器学习特别是NLP方向有价值的知识和有趣的应用   \n",
       "187    研究相关：机器学习，计算机视觉，深度学习；每周分享一个算法（含实现）或研究方向相关论文分析一篇   \n",
       "188                                     补一些机器学习算法的知识点。   \n",
       "189           这个专栏用来记录本渣统计学和机器学习的笔记、心得，如果能对其他人有所帮助自然是好   \n",
       "190               主要涉及数据分析, 数学/统计模型, 机器学习, 大数据, 以及 SAS   \n",
       "191                                记录大数据分析和机器学习学习历程和心得   \n",
       "192                                  机器学习、遗传算法等等和固件的关系   \n",
       "193    自然语言与机器学习专栏，主题包括但不限于：经典或state-of-art论文、著作的分享、讨论   \n",
       "194  数理金融相关领域学习笔记及心得。内容包括金融数学、随机分析、概率论、随机过程、数理统计、机器...   \n",
       "\n",
       "                                           url articles_count followers  \n",
       "185       https://zhuanlan.zhihu.com/aiinsight        2280 关注     20 文章  \n",
       "186     https://zhuanlan.zhihu.com/nlp-farming         366 关注      7 文章  \n",
       "187          https://zhuanlan.zhihu.com/RoyTao          55 关注      1 文章  \n",
       "188     https://zhuanlan.zhihu.com/c_155140116           0 关注      0 文章  \n",
       "189      https://zhuanlan.zhihu.com/understand         232 关注      5 文章  \n",
       "190  https://zhuanlan.zhihu.com/-data-analysis         247 关注     10 文章  \n",
       "191     https://zhuanlan.zhihu.com/datacruiser         665 关注     44 文章  \n",
       "192      https://zhuanlan.zhihu.com/mlfirmware         494 关注      7 文章  \n",
       "193     https://zhuanlan.zhihu.com/nlp-izakaya        1451 关注      6 文章  \n",
       "194         https://zhuanlan.zhihu.com/moquant        1517 关注      8 文章  "
      ]
     },
     "execution_count": 45,
     "metadata": {},
     "output_type": "execute_result"
    }
   ],
   "source": [
    "zhuanlan_info.tail(10)"
   ]
  },
  {
   "cell_type": "code",
   "execution_count": 47,
   "metadata": {
    "collapsed": true
   },
   "outputs": [],
   "source": [
    "df = pd.read_csv('./data/zhuanlan_info.csv',header=None)\n",
    "df.columns=['title','author','description','url','articles_count','followers']"
   ]
  },
  {
   "cell_type": "code",
   "execution_count": 48,
   "metadata": {},
   "outputs": [
    {
     "data": {
      "text/html": [
       "<div>\n",
       "<style>\n",
       "    .dataframe thead tr:only-child th {\n",
       "        text-align: right;\n",
       "    }\n",
       "\n",
       "    .dataframe thead th {\n",
       "        text-align: left;\n",
       "    }\n",
       "\n",
       "    .dataframe tbody tr th {\n",
       "        vertical-align: top;\n",
       "    }\n",
       "</style>\n",
       "<table border=\"1\" class=\"dataframe\">\n",
       "  <thead>\n",
       "    <tr style=\"text-align: right;\">\n",
       "      <th></th>\n",
       "      <th>title</th>\n",
       "      <th>author</th>\n",
       "      <th>description</th>\n",
       "      <th>url</th>\n",
       "      <th>articles_count</th>\n",
       "      <th>followers</th>\n",
       "    </tr>\n",
       "  </thead>\n",
       "  <tbody>\n",
       "    <tr>\n",
       "      <th>0</th>\n",
       "      <td>机器学习笔记</td>\n",
       "      <td>子楠</td>\n",
       "      <td>机器学习的笔记。非常浅显。不得不说ng的课很适合入门，几乎不需要太多的数学基础</td>\n",
       "      <td>https://zhuanlan.zhihu.com/mlearn</td>\n",
       "      <td>22</td>\n",
       "      <td>5873</td>\n",
       "    </tr>\n",
       "    <tr>\n",
       "      <th>1</th>\n",
       "      <td>无痛的机器学习</td>\n",
       "      <td>冯超</td>\n",
       "      <td>专栏主营业务：让更多人能看的懂的机器学习科普+进阶文章。欢迎各位大神投稿或协助审阅</td>\n",
       "      <td>https://zhuanlan.zhihu.com/hsmyy</td>\n",
       "      <td>76</td>\n",
       "      <td>15147</td>\n",
       "    </tr>\n",
       "    <tr>\n",
       "      <th>2</th>\n",
       "      <td>Python 与 机器学习</td>\n",
       "      <td>射命丸咲</td>\n",
       "      <td>NaN</td>\n",
       "      <td>https://zhuanlan.zhihu.com/carefree0910-pyml</td>\n",
       "      <td>57</td>\n",
       "      <td>8687</td>\n",
       "    </tr>\n",
       "    <tr>\n",
       "      <th>3</th>\n",
       "      <td>开始学习机器人</td>\n",
       "      <td>Top Liu</td>\n",
       "      <td>NaN</td>\n",
       "      <td>https://zhuanlan.zhihu.com/learn-robotics</td>\n",
       "      <td>42</td>\n",
       "      <td>4744</td>\n",
       "    </tr>\n",
       "    <tr>\n",
       "      <th>4</th>\n",
       "      <td>机器学习与数据挖掘</td>\n",
       "      <td>Eric Leo</td>\n",
       "      <td>NaN</td>\n",
       "      <td>https://zhuanlan.zhihu.com/Industry4</td>\n",
       "      <td>3</td>\n",
       "      <td>175</td>\n",
       "    </tr>\n",
       "  </tbody>\n",
       "</table>\n",
       "</div>"
      ],
      "text/plain": [
       "           title    author                                description  \\\n",
       "0         机器学习笔记        子楠    机器学习的笔记。非常浅显。不得不说ng的课很适合入门，几乎不需要太多的数学基础   \n",
       "1        无痛的机器学习        冯超  专栏主营业务：让更多人能看的懂的机器学习科普+进阶文章。欢迎各位大神投稿或协助审阅   \n",
       "2  Python 与 机器学习      射命丸咲                                        NaN   \n",
       "3        开始学习机器人   Top Liu                                        NaN   \n",
       "4      机器学习与数据挖掘  Eric Leo                                        NaN   \n",
       "\n",
       "                                            url  articles_count  followers  \n",
       "0             https://zhuanlan.zhihu.com/mlearn              22       5873  \n",
       "1              https://zhuanlan.zhihu.com/hsmyy              76      15147  \n",
       "2  https://zhuanlan.zhihu.com/carefree0910-pyml              57       8687  \n",
       "3     https://zhuanlan.zhihu.com/learn-robotics              42       4744  \n",
       "4          https://zhuanlan.zhihu.com/Industry4               3        175  "
      ]
     },
     "execution_count": 48,
     "metadata": {},
     "output_type": "execute_result"
    }
   ],
   "source": [
    "df.head()"
   ]
  },
  {
   "cell_type": "code",
   "execution_count": 49,
   "metadata": {},
   "outputs": [
    {
     "name": "stdout",
     "output_type": "stream",
     "text": [
      "<class 'pandas.core.frame.DataFrame'>\n",
      "RangeIndex: 558 entries, 0 to 557\n",
      "Data columns (total 6 columns):\n",
      "title             558 non-null object\n",
      "author            558 non-null object\n",
      "description       307 non-null object\n",
      "url               558 non-null object\n",
      "articles_count    558 non-null int64\n",
      "followers         558 non-null int64\n",
      "dtypes: int64(2), object(4)\n",
      "memory usage: 26.2+ KB\n"
     ]
    }
   ],
   "source": [
    "df.info()"
   ]
  },
  {
   "cell_type": "code",
   "execution_count": 72,
   "metadata": {},
   "outputs": [
    {
     "data": {
      "image/png": "[encoded data removed]",
      "text/plain": [
       "<matplotlib.figure.Figure at 0x1165ce358>"
      ]
     },
     "metadata": {},
     "output_type": "display_data"
    }
   ],
   "source": [
    "# import matplotlib.pyplot as plt\n",
    "plt.figure(figsize=(12,8))\n",
    "df['followers'].hist(bins=200,color='r')\n",
    "plt.title(u'558个ML/NLP/DL知乎专栏的关注人数情况',{'fontname':'STZhongsong','fontsize':18})\n",
    "plt.xlim((-1, 10000))\n",
    "plt.ylabel(u'专栏频数', {'fontname':'STZhongsong','fontsize':18})\n",
    "plt.xlabel(u'专栏关注人数数量', {'fontname':'STZhongsong','fontsize':18})\n",
    "plt.show()"
   ]
  },
  {
   "cell_type": "code",
   "execution_count": 74,
   "metadata": {},
   "outputs": [
    {
     "data": {
      "text/plain": [
       "7"
      ]
     },
     "execution_count": 74,
     "metadata": {},
     "output_type": "execute_result"
    }
   ],
   "source": [
    "len(df[df['followers']>=10000])"
   ]
  },
  {
   "cell_type": "code",
   "execution_count": 80,
   "metadata": {},
   "outputs": [
    {
     "data": {
      "text/html": [
       "<div>\n",
       "<style>\n",
       "    .dataframe thead tr:only-child th {\n",
       "        text-align: right;\n",
       "    }\n",
       "\n",
       "    .dataframe thead th {\n",
       "        text-align: left;\n",
       "    }\n",
       "\n",
       "    .dataframe tbody tr th {\n",
       "        vertical-align: top;\n",
       "    }\n",
       "</style>\n",
       "<table border=\"1\" class=\"dataframe\">\n",
       "  <thead>\n",
       "    <tr style=\"text-align: right;\">\n",
       "      <th></th>\n",
       "      <th>title</th>\n",
       "      <th>author</th>\n",
       "      <th>description</th>\n",
       "      <th>url</th>\n",
       "      <th>articles_count</th>\n",
       "      <th>followers</th>\n",
       "    </tr>\n",
       "  </thead>\n",
       "  <tbody>\n",
       "    <tr>\n",
       "      <th>148</th>\n",
       "      <td>智能单元</td>\n",
       "      <td>杜客</td>\n",
       "      <td>面向通用人工智能和机器人学习，聚焦深度增强学习，可微神经计算机和生成对抗模型</td>\n",
       "      <td>https://zhuanlan.zhihu.com/intelligentunit</td>\n",
       "      <td>94</td>\n",
       "      <td>37133</td>\n",
       "    </tr>\n",
       "    <tr>\n",
       "      <th>166</th>\n",
       "      <td>挖掘知乎里有趣的东西</td>\n",
       "      <td>grapeot</td>\n",
       "      <td>受“看知乎”启发而创建的一个用简单的统计和机器学习来分析知乎数据的地方。</td>\n",
       "      <td>https://zhuanlan.zhihu.com/grapeot</td>\n",
       "      <td>28</td>\n",
       "      <td>36321</td>\n",
       "    </tr>\n",
       "    <tr>\n",
       "      <th>420</th>\n",
       "      <td>Python中文社区</td>\n",
       "      <td>阿橙</td>\n",
       "      <td>Python中文开发者的精神部落。会员来自全球十多个国家和地区，拥有金融科技、量化交易、数据...</td>\n",
       "      <td>https://zhuanlan.zhihu.com/zimei</td>\n",
       "      <td>243</td>\n",
       "      <td>34898</td>\n",
       "    </tr>\n",
       "    <tr>\n",
       "      <th>231</th>\n",
       "      <td>深度学习大讲堂</td>\n",
       "      <td>果果是枚开心果</td>\n",
       "      <td>推送深度学习的最新消息，包括最新技术进展，使用以及活动，由中科视拓（SeetaTech）运营...</td>\n",
       "      <td>https://zhuanlan.zhihu.com/dlclass</td>\n",
       "      <td>87</td>\n",
       "      <td>22029</td>\n",
       "    </tr>\n",
       "    <tr>\n",
       "      <th>1</th>\n",
       "      <td>无痛的机器学习</td>\n",
       "      <td>冯超</td>\n",
       "      <td>专栏主营业务：让更多人能看的懂的机器学习科普+进阶文章。欢迎各位大神投稿或协助审阅</td>\n",
       "      <td>https://zhuanlan.zhihu.com/hsmyy</td>\n",
       "      <td>76</td>\n",
       "      <td>15147</td>\n",
       "    </tr>\n",
       "    <tr>\n",
       "      <th>147</th>\n",
       "      <td>Hello 陈然！</td>\n",
       "      <td>陈然用户标识</td>\n",
       "      <td>我叫陈然，常驻旧金山的一名机器学习爱好者。这个博客写一点有趣的小东西</td>\n",
       "      <td>https://zhuanlan.zhihu.com/chenran</td>\n",
       "      <td>30</td>\n",
       "      <td>11209</td>\n",
       "    </tr>\n",
       "    <tr>\n",
       "      <th>240</th>\n",
       "      <td>PaperWeekly</td>\n",
       "      <td>张俊</td>\n",
       "      <td>PaperWeekly是一个推荐、解读、讨论、报道人工智能前沿论文成果的学术平台。</td>\n",
       "      <td>https://zhuanlan.zhihu.com/paperweekly</td>\n",
       "      <td>216</td>\n",
       "      <td>11115</td>\n",
       "    </tr>\n",
       "    <tr>\n",
       "      <th>136</th>\n",
       "      <td>深度学习与NLP</td>\n",
       "      <td>lqfarmer</td>\n",
       "      <td>专注深度学习、NLP相关技术、资讯，追求纯粹的技术，享受学习、分享的快乐</td>\n",
       "      <td>https://zhuanlan.zhihu.com/lqfarmer</td>\n",
       "      <td>94</td>\n",
       "      <td>9442</td>\n",
       "    </tr>\n",
       "    <tr>\n",
       "      <th>11</th>\n",
       "      <td>机器学习算法与自然语言处理</td>\n",
       "      <td>忆臻</td>\n",
       "      <td>公众号[自然语言处理与机器学习] 微信号yizhennotes</td>\n",
       "      <td>https://zhuanlan.zhihu.com/qinlibo-ml</td>\n",
       "      <td>107</td>\n",
       "      <td>9375</td>\n",
       "    </tr>\n",
       "    <tr>\n",
       "      <th>150</th>\n",
       "      <td>PRML</td>\n",
       "      <td>郑梓豪</td>\n",
       "      <td>主要是我读过的，觉得有意思的机器学习类论文笔记。</td>\n",
       "      <td>https://zhuanlan.zhihu.com/prml-paper-reading</td>\n",
       "      <td>15</td>\n",
       "      <td>9290</td>\n",
       "    </tr>\n",
       "    <tr>\n",
       "      <th>2</th>\n",
       "      <td>Python 与 机器学习</td>\n",
       "      <td>射命丸咲</td>\n",
       "      <td>NaN</td>\n",
       "      <td>https://zhuanlan.zhihu.com/carefree0910-pyml</td>\n",
       "      <td>57</td>\n",
       "      <td>8687</td>\n",
       "    </tr>\n",
       "    <tr>\n",
       "      <th>548</th>\n",
       "      <td>超智能体</td>\n",
       "      <td>YJango用户标识  1</td>\n",
       "      <td>越来越多的人想要入门深度学习。尽管网上有很多深度学习教程，但过于专业</td>\n",
       "      <td>https://zhuanlan.zhihu.com/YJango</td>\n",
       "      <td>23</td>\n",
       "      <td>8491</td>\n",
       "    </tr>\n",
       "  </tbody>\n",
       "</table>\n",
       "</div>"
      ],
      "text/plain": [
       "             title            author  \\\n",
       "148           智能单元                杜客   \n",
       "166     挖掘知乎里有趣的东西           grapeot   \n",
       "420     Python中文社区                阿橙   \n",
       "231        深度学习大讲堂           果果是枚开心果   \n",
       "1          无痛的机器学习                冯超   \n",
       "147      Hello 陈然！         陈然用户标识      \n",
       "240    PaperWeekly                张俊   \n",
       "136       深度学习与NLP          lqfarmer   \n",
       "11   机器学习算法与自然语言处理                忆臻   \n",
       "150           PRML               郑梓豪   \n",
       "2    Python 与 机器学习              射命丸咲   \n",
       "548           超智能体  YJango用户标识  1      \n",
       "\n",
       "                                           description  \\\n",
       "148             面向通用人工智能和机器人学习，聚焦深度增强学习，可微神经计算机和生成对抗模型   \n",
       "166               受“看知乎”启发而创建的一个用简单的统计和机器学习来分析知乎数据的地方。   \n",
       "420  Python中文开发者的精神部落。会员来自全球十多个国家和地区，拥有金融科技、量化交易、数据...   \n",
       "231  推送深度学习的最新消息，包括最新技术进展，使用以及活动，由中科视拓（SeetaTech）运营...   \n",
       "1            专栏主营业务：让更多人能看的懂的机器学习科普+进阶文章。欢迎各位大神投稿或协助审阅   \n",
       "147                 我叫陈然，常驻旧金山的一名机器学习爱好者。这个博客写一点有趣的小东西   \n",
       "240          PaperWeekly是一个推荐、解读、讨论、报道人工智能前沿论文成果的学术平台。   \n",
       "136               专注深度学习、NLP相关技术、资讯，追求纯粹的技术，享受学习、分享的快乐   \n",
       "11                     公众号[自然语言处理与机器学习] 微信号yizhennotes   \n",
       "150                           主要是我读过的，觉得有意思的机器学习类论文笔记。   \n",
       "2                                                  NaN   \n",
       "548                 越来越多的人想要入门深度学习。尽管网上有很多深度学习教程，但过于专业   \n",
       "\n",
       "                                               url  articles_count  followers  \n",
       "148     https://zhuanlan.zhihu.com/intelligentunit              94      37133  \n",
       "166             https://zhuanlan.zhihu.com/grapeot              28      36321  \n",
       "420               https://zhuanlan.zhihu.com/zimei             243      34898  \n",
       "231             https://zhuanlan.zhihu.com/dlclass              87      22029  \n",
       "1                 https://zhuanlan.zhihu.com/hsmyy              76      15147  \n",
       "147             https://zhuanlan.zhihu.com/chenran              30      11209  \n",
       "240         https://zhuanlan.zhihu.com/paperweekly             216      11115  \n",
       "136            https://zhuanlan.zhihu.com/lqfarmer              94       9442  \n",
       "11           https://zhuanlan.zhihu.com/qinlibo-ml             107       9375  \n",
       "150  https://zhuanlan.zhihu.com/prml-paper-reading              15       9290  \n",
       "2     https://zhuanlan.zhihu.com/carefree0910-pyml              57       8687  \n",
       "548              https://zhuanlan.zhihu.com/YJango              23       8491  "
      ]
     },
     "execution_count": 80,
     "metadata": {},
     "output_type": "execute_result"
    }
   ],
   "source": [
    "df[df['followers']>=8000].sort_values(by='followers',ascending=False)"
   ]
  },
  {
   "cell_type": "code",
   "execution_count": 93,
   "metadata": {
    "collapsed": true
   },
   "outputs": [],
   "source": [
    "import jieba\n",
    "def wordCount(data):\n",
    "    word_dict = {}\n",
    "    for doc in data:\n",
    "        if type(doc) == str:\n",
    "            for word in jieba.cut(doc):\n",
    "                if len(word)>1:\n",
    "                    if word not in word_dict.keys():\n",
    "                        word_dict[word] = 1\n",
    "                    else:\n",
    "                        word_dict[word] += 1\n",
    "\n",
    "    return word_dict"
   ]
  },
  {
   "cell_type": "code",
   "execution_count": 96,
   "metadata": {
    "collapsed": true
   },
   "outputs": [],
   "source": [
    "wd = wordCount(df['description'])\n",
    "wd = sorted(wd.items(), key=lambda d:d[1], reverse = True)"
   ]
  },
  {
   "cell_type": "code",
   "execution_count": 98,
   "metadata": {},
   "outputs": [
    {
     "name": "stdout",
     "output_type": "stream",
     "text": [
      "[('学习', 303), ('机器', 135), ('深度', 125), ('分享', 52), ('算法', 45), ('人工智能', 44), ('技术', 39), ('相关', 35), ('专栏', 32), ('知识', 31)]\n"
     ]
    }
   ],
   "source": [
    "print(wd[:10])"
   ]
  },
  {
   "cell_type": "code",
   "execution_count": 106,
   "metadata": {},
   "outputs": [
    {
     "data": {
      "text/plain": [
       "[303, 135, 125, 52, 45, 44, 39, 35, 32, 31]"
      ]
     },
     "execution_count": 106,
     "metadata": {},
     "output_type": "execute_result"
    }
   ],
   "source": [
    "fre = list(fre)\n",
    "word = list(word)\n",
    "fre"
   ]
  },
  {
   "cell_type": "code",
   "execution_count": 100,
   "metadata": {
    "collapsed": true
   },
   "outputs": [],
   "source": [
    "word , fre = zip(*wd[:10])"
   ]
  },
  {
   "cell_type": "code",
   "execution_count": 108,
   "metadata": {},
   "outputs": [
    {
     "ename": "SyntaxError",
     "evalue": "positional argument follows keyword argument (<ipython-input-108-36bed349b009>, line 2)",
     "output_type": "error",
     "traceback": [
      "\u001b[0;36m  File \u001b[0;32m\"<ipython-input-108-36bed349b009>\"\u001b[0;36m, line \u001b[0;32m2\u001b[0m\n\u001b[0;31m    plt.plot(kind='bar',word,fre,color='b')\u001b[0m\n\u001b[0m                       ^\u001b[0m\n\u001b[0;31mSyntaxError\u001b[0m\u001b[0;31m:\u001b[0m positional argument follows keyword argument\n"
     ]
    }
   ],
   "source": [
    "plt.figure(figsize=(12,8))\n",
    "plt.plot(kind='bar',word,fre,color='b')\n",
    "plt.title(u'558个ML/NLP/DL知乎专栏的关注人数情况',{'fontname':'STZhongsong','fontsize':18})\n",
    "plt.xlim((-1, 10000))\n",
    "plt.ylabel(u'专栏频数', {'fontname':'STZhongsong','fontsize':18})\n",
    "plt.xlabel(u'专栏关注人数数量', {'fontname':'STZhongsong','fontsize':18})\n",
    "plt.show()"
   ]
  },
  {
   "cell_type": "code",
   "execution_count": 123,
   "metadata": {
    "collapsed": true
   },
   "outputs": [],
   "source": [
    "df2 = pd.read_csv('./data/zhuanlan_article.csv',header=None)\n",
    "df2.columns=['zhuanlan_url','author','title','article_url','publishedTime','commentsCount','likesCount','content']"
   ]
  },
  {
   "cell_type": "code",
   "execution_count": 124,
   "metadata": {},
   "outputs": [
    {
     "name": "stdout",
     "output_type": "stream",
     "text": [
      "<class 'pandas.core.frame.DataFrame'>\n",
      "RangeIndex: 6536 entries, 0 to 6535\n",
      "Data columns (total 8 columns):\n",
      "zhuanlan_url     6536 non-null object\n",
      "author           6536 non-null object\n",
      "title            6535 non-null object\n",
      "url              6536 non-null object\n",
      "publishedTime    6536 non-null object\n",
      "commentsCount    6536 non-null float64\n",
      "likesCount       6536 non-null float64\n",
      "content          6494 non-null object\n",
      "dtypes: float64(2), object(6)\n",
      "memory usage: 408.6+ KB\n"
     ]
    }
   ],
   "source": [
    "df2.info()"
   ]
  },
  {
   "cell_type": "code",
   "execution_count": 125,
   "metadata": {},
   "outputs": [
    {
     "data": {
      "text/html": [
       "<div>\n",
       "<style>\n",
       "    .dataframe thead tr:only-child th {\n",
       "        text-align: right;\n",
       "    }\n",
       "\n",
       "    .dataframe thead th {\n",
       "        text-align: left;\n",
       "    }\n",
       "\n",
       "    .dataframe tbody tr th {\n",
       "        vertical-align: top;\n",
       "    }\n",
       "</style>\n",
       "<table border=\"1\" class=\"dataframe\">\n",
       "  <thead>\n",
       "    <tr style=\"text-align: right;\">\n",
       "      <th></th>\n",
       "      <th>zhuanlan_url</th>\n",
       "      <th>author</th>\n",
       "      <th>title</th>\n",
       "      <th>url</th>\n",
       "      <th>publishedTime</th>\n",
       "      <th>commentsCount</th>\n",
       "      <th>likesCount</th>\n",
       "      <th>content</th>\n",
       "    </tr>\n",
       "  </thead>\n",
       "  <tbody>\n",
       "    <tr>\n",
       "      <th>0</th>\n",
       "      <td>https://zhuanlan.zhihu.com/zimei</td>\n",
       "      <td>DealiAxy</td>\n",
       "      <td>编写爬虫自动下载王者荣耀官网上好看的壁纸</td>\n",
       "      <td>https://zhuanlan.zhihu.com/zimei</td>\n",
       "      <td>2017-12-21T15:10:39+08:00</td>\n",
       "      <td>0.0</td>\n",
       "      <td>3.0</td>\n",
       "      <td>前言偶然间发现王者荣耀的官网上发布了这么多好看的壁纸。地址:http://pvp.qq.co...</td>\n",
       "    </tr>\n",
       "    <tr>\n",
       "      <th>1</th>\n",
       "      <td>https://zhuanlan.zhihu.com/zimei</td>\n",
       "      <td>weapon</td>\n",
       "      <td>回归算法之线性回归</td>\n",
       "      <td>https://zhuanlan.zhihu.com/zimei</td>\n",
       "      <td>2017-12-22T15:38:48+08:00</td>\n",
       "      <td>0.0</td>\n",
       "      <td>1.0</td>\n",
       "      <td>起步线性回归是利用数理统计和归回分析，来确定两种或两种以上变量间相互依赖的定量关系的一种统计...</td>\n",
       "    </tr>\n",
       "    <tr>\n",
       "      <th>2</th>\n",
       "      <td>https://zhuanlan.zhihu.com/zimei</td>\n",
       "      <td>栗子君</td>\n",
       "      <td>python大法好，word, pdf变身html没烦恼</td>\n",
       "      <td>https://zhuanlan.zhihu.com/zimei</td>\n",
       "      <td>2017-12-13T13:14:15+08:00</td>\n",
       "      <td>18.0</td>\n",
       "      <td>91.0</td>\n",
       "      <td>【README.md】Hi 我是栗子君，一枚身在美帝的小程序员。我工作的公司加上老板一共有五...</td>\n",
       "    </tr>\n",
       "    <tr>\n",
       "      <th>3</th>\n",
       "      <td>https://zhuanlan.zhihu.com/zimei</td>\n",
       "      <td>猪了个去</td>\n",
       "      <td>python with提前退出：坑与解决方案</td>\n",
       "      <td>https://zhuanlan.zhihu.com/zimei</td>\n",
       "      <td>2018-01-04T15:42:24+08:00</td>\n",
       "      <td>6.0</td>\n",
       "      <td>12.0</td>\n",
       "      <td>问题的起源早些时候使用with实现了一版全局进程锁，希望实现以下效果：with CacheL...</td>\n",
       "    </tr>\n",
       "    <tr>\n",
       "      <th>4</th>\n",
       "      <td>https://zhuanlan.zhihu.com/zimei</td>\n",
       "      <td>阿橙</td>\n",
       "      <td>Python中文社区招募2018年专栏作者</td>\n",
       "      <td>https://zhuanlan.zhihu.com/zimei</td>\n",
       "      <td>2018-01-03T17:41:31+08:00</td>\n",
       "      <td>0.0</td>\n",
       "      <td>11.0</td>\n",
       "      <td>Python中文社区致力于成为Python中文开发者的精神部落，目前覆盖各大主流媒体和社交平...</td>\n",
       "    </tr>\n",
       "  </tbody>\n",
       "</table>\n",
       "</div>"
      ],
      "text/plain": [
       "                       zhuanlan_url    author                         title  \\\n",
       "0  https://zhuanlan.zhihu.com/zimei  DealiAxy          编写爬虫自动下载王者荣耀官网上好看的壁纸   \n",
       "1  https://zhuanlan.zhihu.com/zimei    weapon                     回归算法之线性回归   \n",
       "2  https://zhuanlan.zhihu.com/zimei       栗子君  python大法好，word, pdf变身html没烦恼   \n",
       "3  https://zhuanlan.zhihu.com/zimei      猪了个去        python with提前退出：坑与解决方案   \n",
       "4  https://zhuanlan.zhihu.com/zimei        阿橙         Python中文社区招募2018年专栏作者   \n",
       "\n",
       "                                url              publishedTime  commentsCount  \\\n",
       "0  https://zhuanlan.zhihu.com/zimei  2017-12-21T15:10:39+08:00            0.0   \n",
       "1  https://zhuanlan.zhihu.com/zimei  2017-12-22T15:38:48+08:00            0.0   \n",
       "2  https://zhuanlan.zhihu.com/zimei  2017-12-13T13:14:15+08:00           18.0   \n",
       "3  https://zhuanlan.zhihu.com/zimei  2018-01-04T15:42:24+08:00            6.0   \n",
       "4  https://zhuanlan.zhihu.com/zimei  2018-01-03T17:41:31+08:00            0.0   \n",
       "\n",
       "   likesCount                                            content  \n",
       "0         3.0  前言偶然间发现王者荣耀的官网上发布了这么多好看的壁纸。地址:http://pvp.qq.co...  \n",
       "1         1.0  起步线性回归是利用数理统计和归回分析，来确定两种或两种以上变量间相互依赖的定量关系的一种统计...  \n",
       "2        91.0  【README.md】Hi 我是栗子君，一枚身在美帝的小程序员。我工作的公司加上老板一共有五...  \n",
       "3        12.0  问题的起源早些时候使用with实现了一版全局进程锁，希望实现以下效果：with CacheL...  \n",
       "4        11.0  Python中文社区致力于成为Python中文开发者的精神部落，目前覆盖各大主流媒体和社交平...  "
      ]
     },
     "execution_count": 125,
     "metadata": {},
     "output_type": "execute_result"
    }
   ],
   "source": [
    "df2.head()"
   ]
  },
  {
   "cell_type": "code",
   "execution_count": null,
   "metadata": {
    "collapsed": true
   },
   "outputs": [],
   "source": []
  },
  {
   "cell_type": "code",
   "execution_count": 114,
   "metadata": {
    "collapsed": true
   },
   "outputs": [],
   "source": [
    "df.sort_values(by='followers',ascending=False,inplace=True)"
   ]
  },
  {
   "cell_type": "code",
   "execution_count": 116,
   "metadata": {},
   "outputs": [
    {
     "data": {
      "text/html": [
       "<div>\n",
       "<style>\n",
       "    .dataframe thead tr:only-child th {\n",
       "        text-align: right;\n",
       "    }\n",
       "\n",
       "    .dataframe thead th {\n",
       "        text-align: left;\n",
       "    }\n",
       "\n",
       "    .dataframe tbody tr th {\n",
       "        vertical-align: top;\n",
       "    }\n",
       "</style>\n",
       "<table border=\"1\" class=\"dataframe\">\n",
       "  <thead>\n",
       "    <tr style=\"text-align: right;\">\n",
       "      <th></th>\n",
       "      <th>title</th>\n",
       "      <th>author</th>\n",
       "      <th>description</th>\n",
       "      <th>url</th>\n",
       "      <th>articles_count</th>\n",
       "      <th>followers</th>\n",
       "    </tr>\n",
       "  </thead>\n",
       "  <tbody>\n",
       "    <tr>\n",
       "      <th>0</th>\n",
       "      <td>智能单元</td>\n",
       "      <td>杜客</td>\n",
       "      <td>面向通用人工智能和机器人学习，聚焦深度增强学习，可微神经计算机和生成对抗模型</td>\n",
       "      <td>https://zhuanlan.zhihu.com/intelligentunit</td>\n",
       "      <td>94</td>\n",
       "      <td>37133</td>\n",
       "    </tr>\n",
       "    <tr>\n",
       "      <th>1</th>\n",
       "      <td>挖掘知乎里有趣的东西</td>\n",
       "      <td>grapeot</td>\n",
       "      <td>受“看知乎”启发而创建的一个用简单的统计和机器学习来分析知乎数据的地方。</td>\n",
       "      <td>https://zhuanlan.zhihu.com/grapeot</td>\n",
       "      <td>28</td>\n",
       "      <td>36321</td>\n",
       "    </tr>\n",
       "    <tr>\n",
       "      <th>2</th>\n",
       "      <td>Python中文社区</td>\n",
       "      <td>阿橙</td>\n",
       "      <td>Python中文开发者的精神部落。会员来自全球十多个国家和地区，拥有金融科技、量化交易、数据...</td>\n",
       "      <td>https://zhuanlan.zhihu.com/zimei</td>\n",
       "      <td>243</td>\n",
       "      <td>34898</td>\n",
       "    </tr>\n",
       "    <tr>\n",
       "      <th>3</th>\n",
       "      <td>深度学习大讲堂</td>\n",
       "      <td>果果是枚开心果</td>\n",
       "      <td>推送深度学习的最新消息，包括最新技术进展，使用以及活动，由中科视拓（SeetaTech）运营...</td>\n",
       "      <td>https://zhuanlan.zhihu.com/dlclass</td>\n",
       "      <td>87</td>\n",
       "      <td>22029</td>\n",
       "    </tr>\n",
       "    <tr>\n",
       "      <th>4</th>\n",
       "      <td>无痛的机器学习</td>\n",
       "      <td>冯超</td>\n",
       "      <td>专栏主营业务：让更多人能看的懂的机器学习科普+进阶文章。欢迎各位大神投稿或协助审阅</td>\n",
       "      <td>https://zhuanlan.zhihu.com/hsmyy</td>\n",
       "      <td>76</td>\n",
       "      <td>15147</td>\n",
       "    </tr>\n",
       "  </tbody>\n",
       "</table>\n",
       "</div>"
      ],
      "text/plain": [
       "        title   author                                        description  \\\n",
       "0        智能单元       杜客             面向通用人工智能和机器人学习，聚焦深度增强学习，可微神经计算机和生成对抗模型   \n",
       "1  挖掘知乎里有趣的东西  grapeot               受“看知乎”启发而创建的一个用简单的统计和机器学习来分析知乎数据的地方。   \n",
       "2  Python中文社区       阿橙  Python中文开发者的精神部落。会员来自全球十多个国家和地区，拥有金融科技、量化交易、数据...   \n",
       "3     深度学习大讲堂  果果是枚开心果  推送深度学习的最新消息，包括最新技术进展，使用以及活动，由中科视拓（SeetaTech）运营...   \n",
       "4     无痛的机器学习       冯超          专栏主营业务：让更多人能看的懂的机器学习科普+进阶文章。欢迎各位大神投稿或协助审阅   \n",
       "\n",
       "                                          url  articles_count  followers  \n",
       "0  https://zhuanlan.zhihu.com/intelligentunit              94      37133  \n",
       "1          https://zhuanlan.zhihu.com/grapeot              28      36321  \n",
       "2            https://zhuanlan.zhihu.com/zimei             243      34898  \n",
       "3          https://zhuanlan.zhihu.com/dlclass              87      22029  \n",
       "4            https://zhuanlan.zhihu.com/hsmyy              76      15147  "
      ]
     },
     "execution_count": 116,
     "metadata": {},
     "output_type": "execute_result"
    }
   ],
   "source": [
    "df = df.reset_index(drop = True)\n",
    "df.head()"
   ]
  },
  {
   "cell_type": "code",
   "execution_count": 120,
   "metadata": {
    "collapsed": true
   },
   "outputs": [],
   "source": [
    "with open('md.txt','a+') as f:\n",
    "    for i in df.index:\n",
    "        f.write('<tr>\\n')\n",
    "        f.write('<td>['+df.loc[i,'title']+']('+df.loc[i,'url']+')</td>\\n')\n",
    "        f.write('<td>'+df.loc[i,'author']+'</td>\\n')\n",
    "        f.write('<td>'+str(df.loc[i,'description'])+'</td>\\n')\n",
    "        f.write('<td>'+df.loc[i,'url']+'</td>\\n')\n",
    "        f.write('<td>'+str(df.loc[i,'articles_count'])+'</td>\\n') \n",
    "        f.write('<td>'+str(df.loc[i,'followers'])+'</td>\\n')\n",
    "        f.write('</tr>\\n')\n",
    "        f.write('\\n')"
   ]
  },
  {
   "cell_type": "code",
   "execution_count": null,
   "metadata": {
    "collapsed": true
   },
   "outputs": [],
   "source": []
  }
 ],
 "metadata": {
  "kernelspec": {
   "display_name": "Python 3",
   "language": "python",
   "name": "python3"
  },
  "language_info": {
   "codemirror_mode": {
    "name": "ipython",
    "version": 3
   },
   "file_extension": ".py",
   "mimetype": "text/x-python",
   "name": "python",
   "nbconvert_exporter": "python",
   "pygments_lexer": "ipython3",
   "version": "3.6.2"
  }
 },
 "nbformat": 4,
 "nbformat_minor": 2
}
